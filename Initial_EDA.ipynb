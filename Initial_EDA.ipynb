{
  "nbformat": 4,
  "nbformat_minor": 0,
  "metadata": {
    "colab": {
      "name": "Initial EDA.ipynb",
      "provenance": [],
      "toc_visible": true
    },
    "kernelspec": {
      "name": "python3",
      "display_name": "Python 3"
    },
    "widgets": {
      "application/vnd.jupyter.widget-state+json": {
        "12e0f124c40047599a1465631d1093d8": {
          "model_module": "@jupyter-widgets/controls",
          "model_name": "HBoxModel",
          "state": {
            "_view_name": "HBoxView",
            "_dom_classes": [],
            "_model_name": "HBoxModel",
            "_view_module": "@jupyter-widgets/controls",
            "_model_module_version": "1.5.0",
            "_view_count": null,
            "_view_module_version": "1.5.0",
            "box_style": "",
            "layout": "IPY_MODEL_8b09ae5262324154acdb856ad7326a88",
            "_model_module": "@jupyter-widgets/controls",
            "children": [
              "IPY_MODEL_f9731f41bbc341c8a281eb33bdd6c722",
              "IPY_MODEL_f326f9290518429e87c29e9402c0f5a3"
            ]
          }
        },
        "8b09ae5262324154acdb856ad7326a88": {
          "model_module": "@jupyter-widgets/base",
          "model_name": "LayoutModel",
          "state": {
            "_view_name": "LayoutView",
            "grid_template_rows": null,
            "right": null,
            "justify_content": null,
            "_view_module": "@jupyter-widgets/base",
            "overflow": null,
            "_model_module_version": "1.2.0",
            "_view_count": null,
            "flex_flow": null,
            "width": null,
            "min_width": null,
            "border": null,
            "align_items": null,
            "bottom": null,
            "_model_module": "@jupyter-widgets/base",
            "top": null,
            "grid_column": null,
            "overflow_y": null,
            "overflow_x": null,
            "grid_auto_flow": null,
            "grid_area": null,
            "grid_template_columns": null,
            "flex": null,
            "_model_name": "LayoutModel",
            "justify_items": null,
            "grid_row": null,
            "max_height": null,
            "align_content": null,
            "visibility": null,
            "align_self": null,
            "height": null,
            "min_height": null,
            "padding": null,
            "grid_auto_rows": null,
            "grid_gap": null,
            "max_width": null,
            "order": null,
            "_view_module_version": "1.2.0",
            "grid_template_areas": null,
            "object_position": null,
            "object_fit": null,
            "grid_auto_columns": null,
            "margin": null,
            "display": null,
            "left": null
          }
        },
        "f9731f41bbc341c8a281eb33bdd6c722": {
          "model_module": "@jupyter-widgets/controls",
          "model_name": "FloatProgressModel",
          "state": {
            "_view_name": "ProgressView",
            "style": "IPY_MODEL_75e7a82540dc4d85a200f776f3a91fb4",
            "_dom_classes": [],
            "description": "Dl Completed...: 100%",
            "_model_name": "FloatProgressModel",
            "bar_style": "success",
            "max": 1,
            "_view_module": "@jupyter-widgets/controls",
            "_model_module_version": "1.5.0",
            "value": 1,
            "_view_count": null,
            "_view_module_version": "1.5.0",
            "orientation": "horizontal",
            "min": 0,
            "description_tooltip": null,
            "_model_module": "@jupyter-widgets/controls",
            "layout": "IPY_MODEL_f8b3610ff6a1444e98fc6b20cb907e71"
          }
        },
        "f326f9290518429e87c29e9402c0f5a3": {
          "model_module": "@jupyter-widgets/controls",
          "model_name": "HTMLModel",
          "state": {
            "_view_name": "HTMLView",
            "style": "IPY_MODEL_2491499d0a0141d0b56de1c1a940ccb3",
            "_dom_classes": [],
            "description": "",
            "_model_name": "HTMLModel",
            "placeholder": "​",
            "_view_module": "@jupyter-widgets/controls",
            "_model_module_version": "1.5.0",
            "value": " 5/5 [01:28&lt;00:00, 17.63s/ url]",
            "_view_count": null,
            "_view_module_version": "1.5.0",
            "description_tooltip": null,
            "_model_module": "@jupyter-widgets/controls",
            "layout": "IPY_MODEL_32342107ace443519db6d933b8e73936"
          }
        },
        "75e7a82540dc4d85a200f776f3a91fb4": {
          "model_module": "@jupyter-widgets/controls",
          "model_name": "ProgressStyleModel",
          "state": {
            "_view_name": "StyleView",
            "_model_name": "ProgressStyleModel",
            "description_width": "initial",
            "_view_module": "@jupyter-widgets/base",
            "_model_module_version": "1.5.0",
            "_view_count": null,
            "_view_module_version": "1.2.0",
            "bar_color": null,
            "_model_module": "@jupyter-widgets/controls"
          }
        },
        "f8b3610ff6a1444e98fc6b20cb907e71": {
          "model_module": "@jupyter-widgets/base",
          "model_name": "LayoutModel",
          "state": {
            "_view_name": "LayoutView",
            "grid_template_rows": null,
            "right": null,
            "justify_content": null,
            "_view_module": "@jupyter-widgets/base",
            "overflow": null,
            "_model_module_version": "1.2.0",
            "_view_count": null,
            "flex_flow": null,
            "width": null,
            "min_width": null,
            "border": null,
            "align_items": null,
            "bottom": null,
            "_model_module": "@jupyter-widgets/base",
            "top": null,
            "grid_column": null,
            "overflow_y": null,
            "overflow_x": null,
            "grid_auto_flow": null,
            "grid_area": null,
            "grid_template_columns": null,
            "flex": null,
            "_model_name": "LayoutModel",
            "justify_items": null,
            "grid_row": null,
            "max_height": null,
            "align_content": null,
            "visibility": null,
            "align_self": null,
            "height": null,
            "min_height": null,
            "padding": null,
            "grid_auto_rows": null,
            "grid_gap": null,
            "max_width": null,
            "order": null,
            "_view_module_version": "1.2.0",
            "grid_template_areas": null,
            "object_position": null,
            "object_fit": null,
            "grid_auto_columns": null,
            "margin": null,
            "display": null,
            "left": null
          }
        },
        "2491499d0a0141d0b56de1c1a940ccb3": {
          "model_module": "@jupyter-widgets/controls",
          "model_name": "DescriptionStyleModel",
          "state": {
            "_view_name": "StyleView",
            "_model_name": "DescriptionStyleModel",
            "description_width": "",
            "_view_module": "@jupyter-widgets/base",
            "_model_module_version": "1.5.0",
            "_view_count": null,
            "_view_module_version": "1.2.0",
            "_model_module": "@jupyter-widgets/controls"
          }
        },
        "32342107ace443519db6d933b8e73936": {
          "model_module": "@jupyter-widgets/base",
          "model_name": "LayoutModel",
          "state": {
            "_view_name": "LayoutView",
            "grid_template_rows": null,
            "right": null,
            "justify_content": null,
            "_view_module": "@jupyter-widgets/base",
            "overflow": null,
            "_model_module_version": "1.2.0",
            "_view_count": null,
            "flex_flow": null,
            "width": null,
            "min_width": null,
            "border": null,
            "align_items": null,
            "bottom": null,
            "_model_module": "@jupyter-widgets/base",
            "top": null,
            "grid_column": null,
            "overflow_y": null,
            "overflow_x": null,
            "grid_auto_flow": null,
            "grid_area": null,
            "grid_template_columns": null,
            "flex": null,
            "_model_name": "LayoutModel",
            "justify_items": null,
            "grid_row": null,
            "max_height": null,
            "align_content": null,
            "visibility": null,
            "align_self": null,
            "height": null,
            "min_height": null,
            "padding": null,
            "grid_auto_rows": null,
            "grid_gap": null,
            "max_width": null,
            "order": null,
            "_view_module_version": "1.2.0",
            "grid_template_areas": null,
            "object_position": null,
            "object_fit": null,
            "grid_auto_columns": null,
            "margin": null,
            "display": null,
            "left": null
          }
        },
        "5994a295c02e4c89bb3811c34f47589b": {
          "model_module": "@jupyter-widgets/controls",
          "model_name": "HBoxModel",
          "state": {
            "_view_name": "HBoxView",
            "_dom_classes": [],
            "_model_name": "HBoxModel",
            "_view_module": "@jupyter-widgets/controls",
            "_model_module_version": "1.5.0",
            "_view_count": null,
            "_view_module_version": "1.5.0",
            "box_style": "",
            "layout": "IPY_MODEL_5eb647067b904e2b947006b3e2fa39c5",
            "_model_module": "@jupyter-widgets/controls",
            "children": [
              "IPY_MODEL_7882e087b930490d8157af34fbc74333",
              "IPY_MODEL_9193461ac7994c229f587db6ab39278a"
            ]
          }
        },
        "5eb647067b904e2b947006b3e2fa39c5": {
          "model_module": "@jupyter-widgets/base",
          "model_name": "LayoutModel",
          "state": {
            "_view_name": "LayoutView",
            "grid_template_rows": null,
            "right": null,
            "justify_content": null,
            "_view_module": "@jupyter-widgets/base",
            "overflow": null,
            "_model_module_version": "1.2.0",
            "_view_count": null,
            "flex_flow": null,
            "width": null,
            "min_width": null,
            "border": null,
            "align_items": null,
            "bottom": null,
            "_model_module": "@jupyter-widgets/base",
            "top": null,
            "grid_column": null,
            "overflow_y": null,
            "overflow_x": null,
            "grid_auto_flow": null,
            "grid_area": null,
            "grid_template_columns": null,
            "flex": null,
            "_model_name": "LayoutModel",
            "justify_items": null,
            "grid_row": null,
            "max_height": null,
            "align_content": null,
            "visibility": null,
            "align_self": null,
            "height": null,
            "min_height": null,
            "padding": null,
            "grid_auto_rows": null,
            "grid_gap": null,
            "max_width": null,
            "order": null,
            "_view_module_version": "1.2.0",
            "grid_template_areas": null,
            "object_position": null,
            "object_fit": null,
            "grid_auto_columns": null,
            "margin": null,
            "display": null,
            "left": null
          }
        },
        "7882e087b930490d8157af34fbc74333": {
          "model_module": "@jupyter-widgets/controls",
          "model_name": "FloatProgressModel",
          "state": {
            "_view_name": "ProgressView",
            "style": "IPY_MODEL_c75b82f88af44e84ad75026f367de5a6",
            "_dom_classes": [],
            "description": "Dl Size...: ",
            "_model_name": "FloatProgressModel",
            "bar_style": "success",
            "max": 1,
            "_view_module": "@jupyter-widgets/controls",
            "_model_module_version": "1.5.0",
            "value": 1,
            "_view_count": null,
            "_view_module_version": "1.5.0",
            "orientation": "horizontal",
            "min": 0,
            "description_tooltip": null,
            "_model_module": "@jupyter-widgets/controls",
            "layout": "IPY_MODEL_d34a7247da68461088897d83338b41ac"
          }
        },
        "9193461ac7994c229f587db6ab39278a": {
          "model_module": "@jupyter-widgets/controls",
          "model_name": "HTMLModel",
          "state": {
            "_view_name": "HTMLView",
            "style": "IPY_MODEL_2e733ff68eca45aba72b9b4da530e807",
            "_dom_classes": [],
            "description": "",
            "_model_name": "HTMLModel",
            "placeholder": "​",
            "_view_module": "@jupyter-widgets/controls",
            "_model_module_version": "1.5.0",
            "value": " 557/? [01:28&lt;00:00,  6.32 MiB/s]",
            "_view_count": null,
            "_view_module_version": "1.5.0",
            "description_tooltip": null,
            "_model_module": "@jupyter-widgets/controls",
            "layout": "IPY_MODEL_9c345e75fbe9499e9acf36113ea080ba"
          }
        },
        "c75b82f88af44e84ad75026f367de5a6": {
          "model_module": "@jupyter-widgets/controls",
          "model_name": "ProgressStyleModel",
          "state": {
            "_view_name": "StyleView",
            "_model_name": "ProgressStyleModel",
            "description_width": "initial",
            "_view_module": "@jupyter-widgets/base",
            "_model_module_version": "1.5.0",
            "_view_count": null,
            "_view_module_version": "1.2.0",
            "bar_color": null,
            "_model_module": "@jupyter-widgets/controls"
          }
        },
        "d34a7247da68461088897d83338b41ac": {
          "model_module": "@jupyter-widgets/base",
          "model_name": "LayoutModel",
          "state": {
            "_view_name": "LayoutView",
            "grid_template_rows": null,
            "right": null,
            "justify_content": null,
            "_view_module": "@jupyter-widgets/base",
            "overflow": null,
            "_model_module_version": "1.2.0",
            "_view_count": null,
            "flex_flow": null,
            "width": null,
            "min_width": null,
            "border": null,
            "align_items": null,
            "bottom": null,
            "_model_module": "@jupyter-widgets/base",
            "top": null,
            "grid_column": null,
            "overflow_y": null,
            "overflow_x": null,
            "grid_auto_flow": null,
            "grid_area": null,
            "grid_template_columns": null,
            "flex": null,
            "_model_name": "LayoutModel",
            "justify_items": null,
            "grid_row": null,
            "max_height": null,
            "align_content": null,
            "visibility": null,
            "align_self": null,
            "height": null,
            "min_height": null,
            "padding": null,
            "grid_auto_rows": null,
            "grid_gap": null,
            "max_width": null,
            "order": null,
            "_view_module_version": "1.2.0",
            "grid_template_areas": null,
            "object_position": null,
            "object_fit": null,
            "grid_auto_columns": null,
            "margin": null,
            "display": null,
            "left": null
          }
        },
        "2e733ff68eca45aba72b9b4da530e807": {
          "model_module": "@jupyter-widgets/controls",
          "model_name": "DescriptionStyleModel",
          "state": {
            "_view_name": "StyleView",
            "_model_name": "DescriptionStyleModel",
            "description_width": "",
            "_view_module": "@jupyter-widgets/base",
            "_model_module_version": "1.5.0",
            "_view_count": null,
            "_view_module_version": "1.2.0",
            "_model_module": "@jupyter-widgets/controls"
          }
        },
        "9c345e75fbe9499e9acf36113ea080ba": {
          "model_module": "@jupyter-widgets/base",
          "model_name": "LayoutModel",
          "state": {
            "_view_name": "LayoutView",
            "grid_template_rows": null,
            "right": null,
            "justify_content": null,
            "_view_module": "@jupyter-widgets/base",
            "overflow": null,
            "_model_module_version": "1.2.0",
            "_view_count": null,
            "flex_flow": null,
            "width": null,
            "min_width": null,
            "border": null,
            "align_items": null,
            "bottom": null,
            "_model_module": "@jupyter-widgets/base",
            "top": null,
            "grid_column": null,
            "overflow_y": null,
            "overflow_x": null,
            "grid_auto_flow": null,
            "grid_area": null,
            "grid_template_columns": null,
            "flex": null,
            "_model_name": "LayoutModel",
            "justify_items": null,
            "grid_row": null,
            "max_height": null,
            "align_content": null,
            "visibility": null,
            "align_self": null,
            "height": null,
            "min_height": null,
            "padding": null,
            "grid_auto_rows": null,
            "grid_gap": null,
            "max_width": null,
            "order": null,
            "_view_module_version": "1.2.0",
            "grid_template_areas": null,
            "object_position": null,
            "object_fit": null,
            "grid_auto_columns": null,
            "margin": null,
            "display": null,
            "left": null
          }
        },
        "ffe16ce284d44d3891f1011846727e20": {
          "model_module": "@jupyter-widgets/controls",
          "model_name": "HBoxModel",
          "state": {
            "_view_name": "HBoxView",
            "_dom_classes": [],
            "_model_name": "HBoxModel",
            "_view_module": "@jupyter-widgets/controls",
            "_model_module_version": "1.5.0",
            "_view_count": null,
            "_view_module_version": "1.5.0",
            "box_style": "",
            "layout": "IPY_MODEL_92863696217e45be8a83c12733bcceef",
            "_model_module": "@jupyter-widgets/controls",
            "children": [
              "IPY_MODEL_94caa7b5a5a543bdb3cea028006d5cc9",
              "IPY_MODEL_0552740f9c32417ca44c23faeeae29e6"
            ]
          }
        },
        "92863696217e45be8a83c12733bcceef": {
          "model_module": "@jupyter-widgets/base",
          "model_name": "LayoutModel",
          "state": {
            "_view_name": "LayoutView",
            "grid_template_rows": null,
            "right": null,
            "justify_content": null,
            "_view_module": "@jupyter-widgets/base",
            "overflow": null,
            "_model_module_version": "1.2.0",
            "_view_count": null,
            "flex_flow": null,
            "width": null,
            "min_width": null,
            "border": null,
            "align_items": null,
            "bottom": null,
            "_model_module": "@jupyter-widgets/base",
            "top": null,
            "grid_column": null,
            "overflow_y": null,
            "overflow_x": null,
            "grid_auto_flow": null,
            "grid_area": null,
            "grid_template_columns": null,
            "flex": null,
            "_model_name": "LayoutModel",
            "justify_items": null,
            "grid_row": null,
            "max_height": null,
            "align_content": null,
            "visibility": null,
            "align_self": null,
            "height": null,
            "min_height": null,
            "padding": null,
            "grid_auto_rows": null,
            "grid_gap": null,
            "max_width": null,
            "order": null,
            "_view_module_version": "1.2.0",
            "grid_template_areas": null,
            "object_position": null,
            "object_fit": null,
            "grid_auto_columns": null,
            "margin": null,
            "display": null,
            "left": null
          }
        },
        "94caa7b5a5a543bdb3cea028006d5cc9": {
          "model_module": "@jupyter-widgets/controls",
          "model_name": "FloatProgressModel",
          "state": {
            "_view_name": "ProgressView",
            "style": "IPY_MODEL_61503bce99e240029696e9f1ac4c3633",
            "_dom_classes": [],
            "description": "Extraction completed...: 100%",
            "_model_name": "FloatProgressModel",
            "bar_style": "success",
            "max": 1,
            "_view_module": "@jupyter-widgets/controls",
            "_model_module_version": "1.5.0",
            "value": 1,
            "_view_count": null,
            "_view_module_version": "1.5.0",
            "orientation": "horizontal",
            "min": 0,
            "description_tooltip": null,
            "_model_module": "@jupyter-widgets/controls",
            "layout": "IPY_MODEL_7ac7bb46d6054c288283010b4c029134"
          }
        },
        "0552740f9c32417ca44c23faeeae29e6": {
          "model_module": "@jupyter-widgets/controls",
          "model_name": "HTMLModel",
          "state": {
            "_view_name": "HTMLView",
            "style": "IPY_MODEL_2ba030945d3e4cf3bd9a52ed558be714",
            "_dom_classes": [],
            "description": "",
            "_model_name": "HTMLModel",
            "placeholder": "​",
            "_view_module": "@jupyter-widgets/controls",
            "_model_module_version": "1.5.0",
            "value": " 2/2 [01:28&lt;00:00, 44.03s/ file]",
            "_view_count": null,
            "_view_module_version": "1.5.0",
            "description_tooltip": null,
            "_model_module": "@jupyter-widgets/controls",
            "layout": "IPY_MODEL_3ef8cac33c584fcdac13a2f9814ffe0d"
          }
        },
        "61503bce99e240029696e9f1ac4c3633": {
          "model_module": "@jupyter-widgets/controls",
          "model_name": "ProgressStyleModel",
          "state": {
            "_view_name": "StyleView",
            "_model_name": "ProgressStyleModel",
            "description_width": "initial",
            "_view_module": "@jupyter-widgets/base",
            "_model_module_version": "1.5.0",
            "_view_count": null,
            "_view_module_version": "1.2.0",
            "bar_color": null,
            "_model_module": "@jupyter-widgets/controls"
          }
        },
        "7ac7bb46d6054c288283010b4c029134": {
          "model_module": "@jupyter-widgets/base",
          "model_name": "LayoutModel",
          "state": {
            "_view_name": "LayoutView",
            "grid_template_rows": null,
            "right": null,
            "justify_content": null,
            "_view_module": "@jupyter-widgets/base",
            "overflow": null,
            "_model_module_version": "1.2.0",
            "_view_count": null,
            "flex_flow": null,
            "width": null,
            "min_width": null,
            "border": null,
            "align_items": null,
            "bottom": null,
            "_model_module": "@jupyter-widgets/base",
            "top": null,
            "grid_column": null,
            "overflow_y": null,
            "overflow_x": null,
            "grid_auto_flow": null,
            "grid_area": null,
            "grid_template_columns": null,
            "flex": null,
            "_model_name": "LayoutModel",
            "justify_items": null,
            "grid_row": null,
            "max_height": null,
            "align_content": null,
            "visibility": null,
            "align_self": null,
            "height": null,
            "min_height": null,
            "padding": null,
            "grid_auto_rows": null,
            "grid_gap": null,
            "max_width": null,
            "order": null,
            "_view_module_version": "1.2.0",
            "grid_template_areas": null,
            "object_position": null,
            "object_fit": null,
            "grid_auto_columns": null,
            "margin": null,
            "display": null,
            "left": null
          }
        },
        "2ba030945d3e4cf3bd9a52ed558be714": {
          "model_module": "@jupyter-widgets/controls",
          "model_name": "DescriptionStyleModel",
          "state": {
            "_view_name": "StyleView",
            "_model_name": "DescriptionStyleModel",
            "description_width": "",
            "_view_module": "@jupyter-widgets/base",
            "_model_module_version": "1.5.0",
            "_view_count": null,
            "_view_module_version": "1.2.0",
            "_model_module": "@jupyter-widgets/controls"
          }
        },
        "3ef8cac33c584fcdac13a2f9814ffe0d": {
          "model_module": "@jupyter-widgets/base",
          "model_name": "LayoutModel",
          "state": {
            "_view_name": "LayoutView",
            "grid_template_rows": null,
            "right": null,
            "justify_content": null,
            "_view_module": "@jupyter-widgets/base",
            "overflow": null,
            "_model_module_version": "1.2.0",
            "_view_count": null,
            "flex_flow": null,
            "width": null,
            "min_width": null,
            "border": null,
            "align_items": null,
            "bottom": null,
            "_model_module": "@jupyter-widgets/base",
            "top": null,
            "grid_column": null,
            "overflow_y": null,
            "overflow_x": null,
            "grid_auto_flow": null,
            "grid_area": null,
            "grid_template_columns": null,
            "flex": null,
            "_model_name": "LayoutModel",
            "justify_items": null,
            "grid_row": null,
            "max_height": null,
            "align_content": null,
            "visibility": null,
            "align_self": null,
            "height": null,
            "min_height": null,
            "padding": null,
            "grid_auto_rows": null,
            "grid_gap": null,
            "max_width": null,
            "order": null,
            "_view_module_version": "1.2.0",
            "grid_template_areas": null,
            "object_position": null,
            "object_fit": null,
            "grid_auto_columns": null,
            "margin": null,
            "display": null,
            "left": null
          }
        },
        "503f03ba8e154eb5b0bd6adf7a551403": {
          "model_module": "@jupyter-widgets/controls",
          "model_name": "HBoxModel",
          "state": {
            "_view_name": "HBoxView",
            "_dom_classes": [],
            "_model_name": "HBoxModel",
            "_view_module": "@jupyter-widgets/controls",
            "_model_module_version": "1.5.0",
            "_view_count": null,
            "_view_module_version": "1.5.0",
            "box_style": "",
            "layout": "IPY_MODEL_54957fe2037f4923bc861022ec68197c",
            "_model_module": "@jupyter-widgets/controls",
            "children": [
              "IPY_MODEL_611fda5a966a47e787f0c46f95f5f588",
              "IPY_MODEL_d6f861285b8a408ebbf1e768e1dc57be"
            ]
          }
        },
        "54957fe2037f4923bc861022ec68197c": {
          "model_module": "@jupyter-widgets/base",
          "model_name": "LayoutModel",
          "state": {
            "_view_name": "LayoutView",
            "grid_template_rows": null,
            "right": null,
            "justify_content": null,
            "_view_module": "@jupyter-widgets/base",
            "overflow": null,
            "_model_module_version": "1.2.0",
            "_view_count": null,
            "flex_flow": null,
            "width": null,
            "min_width": null,
            "border": null,
            "align_items": null,
            "bottom": null,
            "_model_module": "@jupyter-widgets/base",
            "top": null,
            "grid_column": null,
            "overflow_y": null,
            "overflow_x": null,
            "grid_auto_flow": null,
            "grid_area": null,
            "grid_template_columns": null,
            "flex": null,
            "_model_name": "LayoutModel",
            "justify_items": null,
            "grid_row": null,
            "max_height": null,
            "align_content": null,
            "visibility": null,
            "align_self": null,
            "height": null,
            "min_height": null,
            "padding": null,
            "grid_auto_rows": null,
            "grid_gap": null,
            "max_width": null,
            "order": null,
            "_view_module_version": "1.2.0",
            "grid_template_areas": null,
            "object_position": null,
            "object_fit": null,
            "grid_auto_columns": null,
            "margin": null,
            "display": null,
            "left": null
          }
        },
        "611fda5a966a47e787f0c46f95f5f588": {
          "model_module": "@jupyter-widgets/controls",
          "model_name": "FloatProgressModel",
          "state": {
            "_view_name": "ProgressView",
            "style": "IPY_MODEL_9a2a6fb760ae4202a02c6229f58d0c9b",
            "_dom_classes": [],
            "description": "",
            "_model_name": "FloatProgressModel",
            "bar_style": "info",
            "max": 1,
            "_view_module": "@jupyter-widgets/controls",
            "_model_module_version": "1.5.0",
            "value": 1,
            "_view_count": null,
            "_view_module_version": "1.5.0",
            "orientation": "horizontal",
            "min": 0,
            "description_tooltip": null,
            "_model_module": "@jupyter-widgets/controls",
            "layout": "IPY_MODEL_9505ca06a05d490fa618dc2e44efbf5f"
          }
        },
        "d6f861285b8a408ebbf1e768e1dc57be": {
          "model_module": "@jupyter-widgets/controls",
          "model_name": "HTMLModel",
          "state": {
            "_view_name": "HTMLView",
            "style": "IPY_MODEL_ca1701116ec44d1180b874e4a85bb48c",
            "_dom_classes": [],
            "description": "",
            "_model_name": "HTMLModel",
            "placeholder": "​",
            "_view_module": "@jupyter-widgets/controls",
            "_model_module_version": "1.5.0",
            "value": " 287113/0 [03:06&lt;00:00, 1551.62 examples/s]",
            "_view_count": null,
            "_view_module_version": "1.5.0",
            "description_tooltip": null,
            "_model_module": "@jupyter-widgets/controls",
            "layout": "IPY_MODEL_24e96adb0f774b66a3fece5ef03c8255"
          }
        },
        "9a2a6fb760ae4202a02c6229f58d0c9b": {
          "model_module": "@jupyter-widgets/controls",
          "model_name": "ProgressStyleModel",
          "state": {
            "_view_name": "StyleView",
            "_model_name": "ProgressStyleModel",
            "description_width": "initial",
            "_view_module": "@jupyter-widgets/base",
            "_model_module_version": "1.5.0",
            "_view_count": null,
            "_view_module_version": "1.2.0",
            "bar_color": null,
            "_model_module": "@jupyter-widgets/controls"
          }
        },
        "9505ca06a05d490fa618dc2e44efbf5f": {
          "model_module": "@jupyter-widgets/base",
          "model_name": "LayoutModel",
          "state": {
            "_view_name": "LayoutView",
            "grid_template_rows": null,
            "right": null,
            "justify_content": null,
            "_view_module": "@jupyter-widgets/base",
            "overflow": null,
            "_model_module_version": "1.2.0",
            "_view_count": null,
            "flex_flow": null,
            "width": null,
            "min_width": null,
            "border": null,
            "align_items": null,
            "bottom": null,
            "_model_module": "@jupyter-widgets/base",
            "top": null,
            "grid_column": null,
            "overflow_y": null,
            "overflow_x": null,
            "grid_auto_flow": null,
            "grid_area": null,
            "grid_template_columns": null,
            "flex": null,
            "_model_name": "LayoutModel",
            "justify_items": null,
            "grid_row": null,
            "max_height": null,
            "align_content": null,
            "visibility": null,
            "align_self": null,
            "height": null,
            "min_height": null,
            "padding": null,
            "grid_auto_rows": null,
            "grid_gap": null,
            "max_width": null,
            "order": null,
            "_view_module_version": "1.2.0",
            "grid_template_areas": null,
            "object_position": null,
            "object_fit": null,
            "grid_auto_columns": null,
            "margin": null,
            "display": null,
            "left": null
          }
        },
        "ca1701116ec44d1180b874e4a85bb48c": {
          "model_module": "@jupyter-widgets/controls",
          "model_name": "DescriptionStyleModel",
          "state": {
            "_view_name": "StyleView",
            "_model_name": "DescriptionStyleModel",
            "description_width": "",
            "_view_module": "@jupyter-widgets/base",
            "_model_module_version": "1.5.0",
            "_view_count": null,
            "_view_module_version": "1.2.0",
            "_model_module": "@jupyter-widgets/controls"
          }
        },
        "24e96adb0f774b66a3fece5ef03c8255": {
          "model_module": "@jupyter-widgets/base",
          "model_name": "LayoutModel",
          "state": {
            "_view_name": "LayoutView",
            "grid_template_rows": null,
            "right": null,
            "justify_content": null,
            "_view_module": "@jupyter-widgets/base",
            "overflow": null,
            "_model_module_version": "1.2.0",
            "_view_count": null,
            "flex_flow": null,
            "width": null,
            "min_width": null,
            "border": null,
            "align_items": null,
            "bottom": null,
            "_model_module": "@jupyter-widgets/base",
            "top": null,
            "grid_column": null,
            "overflow_y": null,
            "overflow_x": null,
            "grid_auto_flow": null,
            "grid_area": null,
            "grid_template_columns": null,
            "flex": null,
            "_model_name": "LayoutModel",
            "justify_items": null,
            "grid_row": null,
            "max_height": null,
            "align_content": null,
            "visibility": null,
            "align_self": null,
            "height": null,
            "min_height": null,
            "padding": null,
            "grid_auto_rows": null,
            "grid_gap": null,
            "max_width": null,
            "order": null,
            "_view_module_version": "1.2.0",
            "grid_template_areas": null,
            "object_position": null,
            "object_fit": null,
            "grid_auto_columns": null,
            "margin": null,
            "display": null,
            "left": null
          }
        },
        "35fe0974aa604c82add94b6d94560540": {
          "model_module": "@jupyter-widgets/controls",
          "model_name": "HBoxModel",
          "state": {
            "_view_name": "HBoxView",
            "_dom_classes": [],
            "_model_name": "HBoxModel",
            "_view_module": "@jupyter-widgets/controls",
            "_model_module_version": "1.5.0",
            "_view_count": null,
            "_view_module_version": "1.5.0",
            "box_style": "",
            "layout": "IPY_MODEL_02606408c0854009bbfb2b5f683c0d09",
            "_model_module": "@jupyter-widgets/controls",
            "children": [
              "IPY_MODEL_de45c1e953b044ff8e3448859c74f883",
              "IPY_MODEL_5cfa240d7db94139aecd87bfe60bc727"
            ]
          }
        },
        "02606408c0854009bbfb2b5f683c0d09": {
          "model_module": "@jupyter-widgets/base",
          "model_name": "LayoutModel",
          "state": {
            "_view_name": "LayoutView",
            "grid_template_rows": null,
            "right": null,
            "justify_content": null,
            "_view_module": "@jupyter-widgets/base",
            "overflow": null,
            "_model_module_version": "1.2.0",
            "_view_count": null,
            "flex_flow": null,
            "width": null,
            "min_width": null,
            "border": null,
            "align_items": null,
            "bottom": null,
            "_model_module": "@jupyter-widgets/base",
            "top": null,
            "grid_column": null,
            "overflow_y": null,
            "overflow_x": null,
            "grid_auto_flow": null,
            "grid_area": null,
            "grid_template_columns": null,
            "flex": null,
            "_model_name": "LayoutModel",
            "justify_items": null,
            "grid_row": null,
            "max_height": null,
            "align_content": null,
            "visibility": null,
            "align_self": null,
            "height": null,
            "min_height": null,
            "padding": null,
            "grid_auto_rows": null,
            "grid_gap": null,
            "max_width": null,
            "order": null,
            "_view_module_version": "1.2.0",
            "grid_template_areas": null,
            "object_position": null,
            "object_fit": null,
            "grid_auto_columns": null,
            "margin": null,
            "display": null,
            "left": null
          }
        },
        "de45c1e953b044ff8e3448859c74f883": {
          "model_module": "@jupyter-widgets/controls",
          "model_name": "FloatProgressModel",
          "state": {
            "_view_name": "ProgressView",
            "style": "IPY_MODEL_ab239d590eb14320867fb1385d113d9c",
            "_dom_classes": [],
            "description": "100%",
            "_model_name": "FloatProgressModel",
            "bar_style": "danger",
            "max": 287113,
            "_view_module": "@jupyter-widgets/controls",
            "_model_module_version": "1.5.0",
            "value": 286775,
            "_view_count": null,
            "_view_module_version": "1.5.0",
            "orientation": "horizontal",
            "min": 0,
            "description_tooltip": null,
            "_model_module": "@jupyter-widgets/controls",
            "layout": "IPY_MODEL_05dd2b69a50c43a38c6fde951754e8a0"
          }
        },
        "5cfa240d7db94139aecd87bfe60bc727": {
          "model_module": "@jupyter-widgets/controls",
          "model_name": "HTMLModel",
          "state": {
            "_view_name": "HTMLView",
            "style": "IPY_MODEL_546bed5eaa634796a386ef33b8a067e3",
            "_dom_classes": [],
            "description": "",
            "_model_name": "HTMLModel",
            "placeholder": "​",
            "_view_module": "@jupyter-widgets/controls",
            "_model_module_version": "1.5.0",
            "value": " 286775/287113 [00:06&lt;00:00, 45921.33 examples/s]",
            "_view_count": null,
            "_view_module_version": "1.5.0",
            "description_tooltip": null,
            "_model_module": "@jupyter-widgets/controls",
            "layout": "IPY_MODEL_6cdff4b52a22499cb06da506b56e52e3"
          }
        },
        "ab239d590eb14320867fb1385d113d9c": {
          "model_module": "@jupyter-widgets/controls",
          "model_name": "ProgressStyleModel",
          "state": {
            "_view_name": "StyleView",
            "_model_name": "ProgressStyleModel",
            "description_width": "initial",
            "_view_module": "@jupyter-widgets/base",
            "_model_module_version": "1.5.0",
            "_view_count": null,
            "_view_module_version": "1.2.0",
            "bar_color": null,
            "_model_module": "@jupyter-widgets/controls"
          }
        },
        "05dd2b69a50c43a38c6fde951754e8a0": {
          "model_module": "@jupyter-widgets/base",
          "model_name": "LayoutModel",
          "state": {
            "_view_name": "LayoutView",
            "grid_template_rows": null,
            "right": null,
            "justify_content": null,
            "_view_module": "@jupyter-widgets/base",
            "overflow": null,
            "_model_module_version": "1.2.0",
            "_view_count": null,
            "flex_flow": null,
            "width": null,
            "min_width": null,
            "border": null,
            "align_items": null,
            "bottom": null,
            "_model_module": "@jupyter-widgets/base",
            "top": null,
            "grid_column": null,
            "overflow_y": null,
            "overflow_x": null,
            "grid_auto_flow": null,
            "grid_area": null,
            "grid_template_columns": null,
            "flex": null,
            "_model_name": "LayoutModel",
            "justify_items": null,
            "grid_row": null,
            "max_height": null,
            "align_content": null,
            "visibility": null,
            "align_self": null,
            "height": null,
            "min_height": null,
            "padding": null,
            "grid_auto_rows": null,
            "grid_gap": null,
            "max_width": null,
            "order": null,
            "_view_module_version": "1.2.0",
            "grid_template_areas": null,
            "object_position": null,
            "object_fit": null,
            "grid_auto_columns": null,
            "margin": null,
            "display": null,
            "left": null
          }
        },
        "546bed5eaa634796a386ef33b8a067e3": {
          "model_module": "@jupyter-widgets/controls",
          "model_name": "DescriptionStyleModel",
          "state": {
            "_view_name": "StyleView",
            "_model_name": "DescriptionStyleModel",
            "description_width": "",
            "_view_module": "@jupyter-widgets/base",
            "_model_module_version": "1.5.0",
            "_view_count": null,
            "_view_module_version": "1.2.0",
            "_model_module": "@jupyter-widgets/controls"
          }
        },
        "6cdff4b52a22499cb06da506b56e52e3": {
          "model_module": "@jupyter-widgets/base",
          "model_name": "LayoutModel",
          "state": {
            "_view_name": "LayoutView",
            "grid_template_rows": null,
            "right": null,
            "justify_content": null,
            "_view_module": "@jupyter-widgets/base",
            "overflow": null,
            "_model_module_version": "1.2.0",
            "_view_count": null,
            "flex_flow": null,
            "width": null,
            "min_width": null,
            "border": null,
            "align_items": null,
            "bottom": null,
            "_model_module": "@jupyter-widgets/base",
            "top": null,
            "grid_column": null,
            "overflow_y": null,
            "overflow_x": null,
            "grid_auto_flow": null,
            "grid_area": null,
            "grid_template_columns": null,
            "flex": null,
            "_model_name": "LayoutModel",
            "justify_items": null,
            "grid_row": null,
            "max_height": null,
            "align_content": null,
            "visibility": null,
            "align_self": null,
            "height": null,
            "min_height": null,
            "padding": null,
            "grid_auto_rows": null,
            "grid_gap": null,
            "max_width": null,
            "order": null,
            "_view_module_version": "1.2.0",
            "grid_template_areas": null,
            "object_position": null,
            "object_fit": null,
            "grid_auto_columns": null,
            "margin": null,
            "display": null,
            "left": null
          }
        },
        "cebebb972e224db1b12d7eaf26e8449b": {
          "model_module": "@jupyter-widgets/controls",
          "model_name": "HBoxModel",
          "state": {
            "_view_name": "HBoxView",
            "_dom_classes": [],
            "_model_name": "HBoxModel",
            "_view_module": "@jupyter-widgets/controls",
            "_model_module_version": "1.5.0",
            "_view_count": null,
            "_view_module_version": "1.5.0",
            "box_style": "",
            "layout": "IPY_MODEL_671a8b5a9d92412bac139eea147eca38",
            "_model_module": "@jupyter-widgets/controls",
            "children": [
              "IPY_MODEL_e9c4671ddf3041608372ef81336878d4",
              "IPY_MODEL_b05c49a9afad46798842fdfe6f10bfeb"
            ]
          }
        },
        "671a8b5a9d92412bac139eea147eca38": {
          "model_module": "@jupyter-widgets/base",
          "model_name": "LayoutModel",
          "state": {
            "_view_name": "LayoutView",
            "grid_template_rows": null,
            "right": null,
            "justify_content": null,
            "_view_module": "@jupyter-widgets/base",
            "overflow": null,
            "_model_module_version": "1.2.0",
            "_view_count": null,
            "flex_flow": null,
            "width": null,
            "min_width": null,
            "border": null,
            "align_items": null,
            "bottom": null,
            "_model_module": "@jupyter-widgets/base",
            "top": null,
            "grid_column": null,
            "overflow_y": null,
            "overflow_x": null,
            "grid_auto_flow": null,
            "grid_area": null,
            "grid_template_columns": null,
            "flex": null,
            "_model_name": "LayoutModel",
            "justify_items": null,
            "grid_row": null,
            "max_height": null,
            "align_content": null,
            "visibility": null,
            "align_self": null,
            "height": null,
            "min_height": null,
            "padding": null,
            "grid_auto_rows": null,
            "grid_gap": null,
            "max_width": null,
            "order": null,
            "_view_module_version": "1.2.0",
            "grid_template_areas": null,
            "object_position": null,
            "object_fit": null,
            "grid_auto_columns": null,
            "margin": null,
            "display": null,
            "left": null
          }
        },
        "e9c4671ddf3041608372ef81336878d4": {
          "model_module": "@jupyter-widgets/controls",
          "model_name": "FloatProgressModel",
          "state": {
            "_view_name": "ProgressView",
            "style": "IPY_MODEL_682f03b6418349f9946e84b0bc1fe80c",
            "_dom_classes": [],
            "description": "",
            "_model_name": "FloatProgressModel",
            "bar_style": "info",
            "max": 1,
            "_view_module": "@jupyter-widgets/controls",
            "_model_module_version": "1.5.0",
            "value": 1,
            "_view_count": null,
            "_view_module_version": "1.5.0",
            "orientation": "horizontal",
            "min": 0,
            "description_tooltip": null,
            "_model_module": "@jupyter-widgets/controls",
            "layout": "IPY_MODEL_7fd8d97c2e9f49819796d273ea81e36a"
          }
        },
        "b05c49a9afad46798842fdfe6f10bfeb": {
          "model_module": "@jupyter-widgets/controls",
          "model_name": "HTMLModel",
          "state": {
            "_view_name": "HTMLView",
            "style": "IPY_MODEL_9483b17e25a44759acabe929c780a29b",
            "_dom_classes": [],
            "description": "",
            "_model_name": "HTMLModel",
            "placeholder": "​",
            "_view_module": "@jupyter-widgets/controls",
            "_model_module_version": "1.5.0",
            "value": " 13368/0 [00:08&lt;00:00, 1660.42 examples/s]",
            "_view_count": null,
            "_view_module_version": "1.5.0",
            "description_tooltip": null,
            "_model_module": "@jupyter-widgets/controls",
            "layout": "IPY_MODEL_e39e56c455174d0ea44265d9ec3b4313"
          }
        },
        "682f03b6418349f9946e84b0bc1fe80c": {
          "model_module": "@jupyter-widgets/controls",
          "model_name": "ProgressStyleModel",
          "state": {
            "_view_name": "StyleView",
            "_model_name": "ProgressStyleModel",
            "description_width": "initial",
            "_view_module": "@jupyter-widgets/base",
            "_model_module_version": "1.5.0",
            "_view_count": null,
            "_view_module_version": "1.2.0",
            "bar_color": null,
            "_model_module": "@jupyter-widgets/controls"
          }
        },
        "7fd8d97c2e9f49819796d273ea81e36a": {
          "model_module": "@jupyter-widgets/base",
          "model_name": "LayoutModel",
          "state": {
            "_view_name": "LayoutView",
            "grid_template_rows": null,
            "right": null,
            "justify_content": null,
            "_view_module": "@jupyter-widgets/base",
            "overflow": null,
            "_model_module_version": "1.2.0",
            "_view_count": null,
            "flex_flow": null,
            "width": null,
            "min_width": null,
            "border": null,
            "align_items": null,
            "bottom": null,
            "_model_module": "@jupyter-widgets/base",
            "top": null,
            "grid_column": null,
            "overflow_y": null,
            "overflow_x": null,
            "grid_auto_flow": null,
            "grid_area": null,
            "grid_template_columns": null,
            "flex": null,
            "_model_name": "LayoutModel",
            "justify_items": null,
            "grid_row": null,
            "max_height": null,
            "align_content": null,
            "visibility": null,
            "align_self": null,
            "height": null,
            "min_height": null,
            "padding": null,
            "grid_auto_rows": null,
            "grid_gap": null,
            "max_width": null,
            "order": null,
            "_view_module_version": "1.2.0",
            "grid_template_areas": null,
            "object_position": null,
            "object_fit": null,
            "grid_auto_columns": null,
            "margin": null,
            "display": null,
            "left": null
          }
        },
        "9483b17e25a44759acabe929c780a29b": {
          "model_module": "@jupyter-widgets/controls",
          "model_name": "DescriptionStyleModel",
          "state": {
            "_view_name": "StyleView",
            "_model_name": "DescriptionStyleModel",
            "description_width": "",
            "_view_module": "@jupyter-widgets/base",
            "_model_module_version": "1.5.0",
            "_view_count": null,
            "_view_module_version": "1.2.0",
            "_model_module": "@jupyter-widgets/controls"
          }
        },
        "e39e56c455174d0ea44265d9ec3b4313": {
          "model_module": "@jupyter-widgets/base",
          "model_name": "LayoutModel",
          "state": {
            "_view_name": "LayoutView",
            "grid_template_rows": null,
            "right": null,
            "justify_content": null,
            "_view_module": "@jupyter-widgets/base",
            "overflow": null,
            "_model_module_version": "1.2.0",
            "_view_count": null,
            "flex_flow": null,
            "width": null,
            "min_width": null,
            "border": null,
            "align_items": null,
            "bottom": null,
            "_model_module": "@jupyter-widgets/base",
            "top": null,
            "grid_column": null,
            "overflow_y": null,
            "overflow_x": null,
            "grid_auto_flow": null,
            "grid_area": null,
            "grid_template_columns": null,
            "flex": null,
            "_model_name": "LayoutModel",
            "justify_items": null,
            "grid_row": null,
            "max_height": null,
            "align_content": null,
            "visibility": null,
            "align_self": null,
            "height": null,
            "min_height": null,
            "padding": null,
            "grid_auto_rows": null,
            "grid_gap": null,
            "max_width": null,
            "order": null,
            "_view_module_version": "1.2.0",
            "grid_template_areas": null,
            "object_position": null,
            "object_fit": null,
            "grid_auto_columns": null,
            "margin": null,
            "display": null,
            "left": null
          }
        },
        "6f4ae3f1455545f68f408f0cda3aa8dd": {
          "model_module": "@jupyter-widgets/controls",
          "model_name": "HBoxModel",
          "state": {
            "_view_name": "HBoxView",
            "_dom_classes": [],
            "_model_name": "HBoxModel",
            "_view_module": "@jupyter-widgets/controls",
            "_model_module_version": "1.5.0",
            "_view_count": null,
            "_view_module_version": "1.5.0",
            "box_style": "",
            "layout": "IPY_MODEL_2137176f0b5b4e108a0978bd255ace1d",
            "_model_module": "@jupyter-widgets/controls",
            "children": [
              "IPY_MODEL_6a5f494f9732402285db3ae1e732725e",
              "IPY_MODEL_1bdd0a365662445ca0905faffea0e75e"
            ]
          }
        },
        "2137176f0b5b4e108a0978bd255ace1d": {
          "model_module": "@jupyter-widgets/base",
          "model_name": "LayoutModel",
          "state": {
            "_view_name": "LayoutView",
            "grid_template_rows": null,
            "right": null,
            "justify_content": null,
            "_view_module": "@jupyter-widgets/base",
            "overflow": null,
            "_model_module_version": "1.2.0",
            "_view_count": null,
            "flex_flow": null,
            "width": null,
            "min_width": null,
            "border": null,
            "align_items": null,
            "bottom": null,
            "_model_module": "@jupyter-widgets/base",
            "top": null,
            "grid_column": null,
            "overflow_y": null,
            "overflow_x": null,
            "grid_auto_flow": null,
            "grid_area": null,
            "grid_template_columns": null,
            "flex": null,
            "_model_name": "LayoutModel",
            "justify_items": null,
            "grid_row": null,
            "max_height": null,
            "align_content": null,
            "visibility": null,
            "align_self": null,
            "height": null,
            "min_height": null,
            "padding": null,
            "grid_auto_rows": null,
            "grid_gap": null,
            "max_width": null,
            "order": null,
            "_view_module_version": "1.2.0",
            "grid_template_areas": null,
            "object_position": null,
            "object_fit": null,
            "grid_auto_columns": null,
            "margin": null,
            "display": null,
            "left": null
          }
        },
        "6a5f494f9732402285db3ae1e732725e": {
          "model_module": "@jupyter-widgets/controls",
          "model_name": "FloatProgressModel",
          "state": {
            "_view_name": "ProgressView",
            "style": "IPY_MODEL_621a4ccbd03a471183eed89166b9e104",
            "_dom_classes": [],
            "description": " 56%",
            "_model_name": "FloatProgressModel",
            "bar_style": "danger",
            "max": 13368,
            "_view_module": "@jupyter-widgets/controls",
            "_model_module_version": "1.5.0",
            "value": 7422,
            "_view_count": null,
            "_view_module_version": "1.5.0",
            "orientation": "horizontal",
            "min": 0,
            "description_tooltip": null,
            "_model_module": "@jupyter-widgets/controls",
            "layout": "IPY_MODEL_0cf1b0c893f6422d9b4b248594ee01d4"
          }
        },
        "1bdd0a365662445ca0905faffea0e75e": {
          "model_module": "@jupyter-widgets/controls",
          "model_name": "HTMLModel",
          "state": {
            "_view_name": "HTMLView",
            "style": "IPY_MODEL_be91336c9b824b3b9407cdf5f2fca00d",
            "_dom_classes": [],
            "description": "",
            "_model_name": "HTMLModel",
            "placeholder": "​",
            "_view_module": "@jupyter-widgets/controls",
            "_model_module_version": "1.5.0",
            "value": " 7422/13368 [00:00&lt;00:00, 74219.54 examples/s]",
            "_view_count": null,
            "_view_module_version": "1.5.0",
            "description_tooltip": null,
            "_model_module": "@jupyter-widgets/controls",
            "layout": "IPY_MODEL_a4041a08201a450e8703e6ccac84129e"
          }
        },
        "621a4ccbd03a471183eed89166b9e104": {
          "model_module": "@jupyter-widgets/controls",
          "model_name": "ProgressStyleModel",
          "state": {
            "_view_name": "StyleView",
            "_model_name": "ProgressStyleModel",
            "description_width": "initial",
            "_view_module": "@jupyter-widgets/base",
            "_model_module_version": "1.5.0",
            "_view_count": null,
            "_view_module_version": "1.2.0",
            "bar_color": null,
            "_model_module": "@jupyter-widgets/controls"
          }
        },
        "0cf1b0c893f6422d9b4b248594ee01d4": {
          "model_module": "@jupyter-widgets/base",
          "model_name": "LayoutModel",
          "state": {
            "_view_name": "LayoutView",
            "grid_template_rows": null,
            "right": null,
            "justify_content": null,
            "_view_module": "@jupyter-widgets/base",
            "overflow": null,
            "_model_module_version": "1.2.0",
            "_view_count": null,
            "flex_flow": null,
            "width": null,
            "min_width": null,
            "border": null,
            "align_items": null,
            "bottom": null,
            "_model_module": "@jupyter-widgets/base",
            "top": null,
            "grid_column": null,
            "overflow_y": null,
            "overflow_x": null,
            "grid_auto_flow": null,
            "grid_area": null,
            "grid_template_columns": null,
            "flex": null,
            "_model_name": "LayoutModel",
            "justify_items": null,
            "grid_row": null,
            "max_height": null,
            "align_content": null,
            "visibility": null,
            "align_self": null,
            "height": null,
            "min_height": null,
            "padding": null,
            "grid_auto_rows": null,
            "grid_gap": null,
            "max_width": null,
            "order": null,
            "_view_module_version": "1.2.0",
            "grid_template_areas": null,
            "object_position": null,
            "object_fit": null,
            "grid_auto_columns": null,
            "margin": null,
            "display": null,
            "left": null
          }
        },
        "be91336c9b824b3b9407cdf5f2fca00d": {
          "model_module": "@jupyter-widgets/controls",
          "model_name": "DescriptionStyleModel",
          "state": {
            "_view_name": "StyleView",
            "_model_name": "DescriptionStyleModel",
            "description_width": "",
            "_view_module": "@jupyter-widgets/base",
            "_model_module_version": "1.5.0",
            "_view_count": null,
            "_view_module_version": "1.2.0",
            "_model_module": "@jupyter-widgets/controls"
          }
        },
        "a4041a08201a450e8703e6ccac84129e": {
          "model_module": "@jupyter-widgets/base",
          "model_name": "LayoutModel",
          "state": {
            "_view_name": "LayoutView",
            "grid_template_rows": null,
            "right": null,
            "justify_content": null,
            "_view_module": "@jupyter-widgets/base",
            "overflow": null,
            "_model_module_version": "1.2.0",
            "_view_count": null,
            "flex_flow": null,
            "width": null,
            "min_width": null,
            "border": null,
            "align_items": null,
            "bottom": null,
            "_model_module": "@jupyter-widgets/base",
            "top": null,
            "grid_column": null,
            "overflow_y": null,
            "overflow_x": null,
            "grid_auto_flow": null,
            "grid_area": null,
            "grid_template_columns": null,
            "flex": null,
            "_model_name": "LayoutModel",
            "justify_items": null,
            "grid_row": null,
            "max_height": null,
            "align_content": null,
            "visibility": null,
            "align_self": null,
            "height": null,
            "min_height": null,
            "padding": null,
            "grid_auto_rows": null,
            "grid_gap": null,
            "max_width": null,
            "order": null,
            "_view_module_version": "1.2.0",
            "grid_template_areas": null,
            "object_position": null,
            "object_fit": null,
            "grid_auto_columns": null,
            "margin": null,
            "display": null,
            "left": null
          }
        },
        "d51c9141c1bf47f092cd5cc312c107ab": {
          "model_module": "@jupyter-widgets/controls",
          "model_name": "HBoxModel",
          "state": {
            "_view_name": "HBoxView",
            "_dom_classes": [],
            "_model_name": "HBoxModel",
            "_view_module": "@jupyter-widgets/controls",
            "_model_module_version": "1.5.0",
            "_view_count": null,
            "_view_module_version": "1.5.0",
            "box_style": "",
            "layout": "IPY_MODEL_32978c61113449ddac88a2537e33586a",
            "_model_module": "@jupyter-widgets/controls",
            "children": [
              "IPY_MODEL_f2b76553d93e400895b30f245f65ce1a",
              "IPY_MODEL_914f2c69b0fb49a0bd8cdba70179b15f"
            ]
          }
        },
        "32978c61113449ddac88a2537e33586a": {
          "model_module": "@jupyter-widgets/base",
          "model_name": "LayoutModel",
          "state": {
            "_view_name": "LayoutView",
            "grid_template_rows": null,
            "right": null,
            "justify_content": null,
            "_view_module": "@jupyter-widgets/base",
            "overflow": null,
            "_model_module_version": "1.2.0",
            "_view_count": null,
            "flex_flow": null,
            "width": null,
            "min_width": null,
            "border": null,
            "align_items": null,
            "bottom": null,
            "_model_module": "@jupyter-widgets/base",
            "top": null,
            "grid_column": null,
            "overflow_y": null,
            "overflow_x": null,
            "grid_auto_flow": null,
            "grid_area": null,
            "grid_template_columns": null,
            "flex": null,
            "_model_name": "LayoutModel",
            "justify_items": null,
            "grid_row": null,
            "max_height": null,
            "align_content": null,
            "visibility": null,
            "align_self": null,
            "height": null,
            "min_height": null,
            "padding": null,
            "grid_auto_rows": null,
            "grid_gap": null,
            "max_width": null,
            "order": null,
            "_view_module_version": "1.2.0",
            "grid_template_areas": null,
            "object_position": null,
            "object_fit": null,
            "grid_auto_columns": null,
            "margin": null,
            "display": null,
            "left": null
          }
        },
        "f2b76553d93e400895b30f245f65ce1a": {
          "model_module": "@jupyter-widgets/controls",
          "model_name": "FloatProgressModel",
          "state": {
            "_view_name": "ProgressView",
            "style": "IPY_MODEL_678a8244ce8140eda72fad47578cd143",
            "_dom_classes": [],
            "description": "",
            "_model_name": "FloatProgressModel",
            "bar_style": "info",
            "max": 1,
            "_view_module": "@jupyter-widgets/controls",
            "_model_module_version": "1.5.0",
            "value": 1,
            "_view_count": null,
            "_view_module_version": "1.5.0",
            "orientation": "horizontal",
            "min": 0,
            "description_tooltip": null,
            "_model_module": "@jupyter-widgets/controls",
            "layout": "IPY_MODEL_06a9db4d897442688710e4af6ff06b29"
          }
        },
        "914f2c69b0fb49a0bd8cdba70179b15f": {
          "model_module": "@jupyter-widgets/controls",
          "model_name": "HTMLModel",
          "state": {
            "_view_name": "HTMLView",
            "style": "IPY_MODEL_a63fca4d6158421683949bdd20ba0052",
            "_dom_classes": [],
            "description": "",
            "_model_name": "HTMLModel",
            "placeholder": "​",
            "_view_module": "@jupyter-widgets/controls",
            "_model_module_version": "1.5.0",
            "value": " 11490/0 [00:06&lt;00:00, 1667.23 examples/s]",
            "_view_count": null,
            "_view_module_version": "1.5.0",
            "description_tooltip": null,
            "_model_module": "@jupyter-widgets/controls",
            "layout": "IPY_MODEL_ab4d92e738be4f8e93970c0bfb3a1c42"
          }
        },
        "678a8244ce8140eda72fad47578cd143": {
          "model_module": "@jupyter-widgets/controls",
          "model_name": "ProgressStyleModel",
          "state": {
            "_view_name": "StyleView",
            "_model_name": "ProgressStyleModel",
            "description_width": "initial",
            "_view_module": "@jupyter-widgets/base",
            "_model_module_version": "1.5.0",
            "_view_count": null,
            "_view_module_version": "1.2.0",
            "bar_color": null,
            "_model_module": "@jupyter-widgets/controls"
          }
        },
        "06a9db4d897442688710e4af6ff06b29": {
          "model_module": "@jupyter-widgets/base",
          "model_name": "LayoutModel",
          "state": {
            "_view_name": "LayoutView",
            "grid_template_rows": null,
            "right": null,
            "justify_content": null,
            "_view_module": "@jupyter-widgets/base",
            "overflow": null,
            "_model_module_version": "1.2.0",
            "_view_count": null,
            "flex_flow": null,
            "width": null,
            "min_width": null,
            "border": null,
            "align_items": null,
            "bottom": null,
            "_model_module": "@jupyter-widgets/base",
            "top": null,
            "grid_column": null,
            "overflow_y": null,
            "overflow_x": null,
            "grid_auto_flow": null,
            "grid_area": null,
            "grid_template_columns": null,
            "flex": null,
            "_model_name": "LayoutModel",
            "justify_items": null,
            "grid_row": null,
            "max_height": null,
            "align_content": null,
            "visibility": null,
            "align_self": null,
            "height": null,
            "min_height": null,
            "padding": null,
            "grid_auto_rows": null,
            "grid_gap": null,
            "max_width": null,
            "order": null,
            "_view_module_version": "1.2.0",
            "grid_template_areas": null,
            "object_position": null,
            "object_fit": null,
            "grid_auto_columns": null,
            "margin": null,
            "display": null,
            "left": null
          }
        },
        "a63fca4d6158421683949bdd20ba0052": {
          "model_module": "@jupyter-widgets/controls",
          "model_name": "DescriptionStyleModel",
          "state": {
            "_view_name": "StyleView",
            "_model_name": "DescriptionStyleModel",
            "description_width": "",
            "_view_module": "@jupyter-widgets/base",
            "_model_module_version": "1.5.0",
            "_view_count": null,
            "_view_module_version": "1.2.0",
            "_model_module": "@jupyter-widgets/controls"
          }
        },
        "ab4d92e738be4f8e93970c0bfb3a1c42": {
          "model_module": "@jupyter-widgets/base",
          "model_name": "LayoutModel",
          "state": {
            "_view_name": "LayoutView",
            "grid_template_rows": null,
            "right": null,
            "justify_content": null,
            "_view_module": "@jupyter-widgets/base",
            "overflow": null,
            "_model_module_version": "1.2.0",
            "_view_count": null,
            "flex_flow": null,
            "width": null,
            "min_width": null,
            "border": null,
            "align_items": null,
            "bottom": null,
            "_model_module": "@jupyter-widgets/base",
            "top": null,
            "grid_column": null,
            "overflow_y": null,
            "overflow_x": null,
            "grid_auto_flow": null,
            "grid_area": null,
            "grid_template_columns": null,
            "flex": null,
            "_model_name": "LayoutModel",
            "justify_items": null,
            "grid_row": null,
            "max_height": null,
            "align_content": null,
            "visibility": null,
            "align_self": null,
            "height": null,
            "min_height": null,
            "padding": null,
            "grid_auto_rows": null,
            "grid_gap": null,
            "max_width": null,
            "order": null,
            "_view_module_version": "1.2.0",
            "grid_template_areas": null,
            "object_position": null,
            "object_fit": null,
            "grid_auto_columns": null,
            "margin": null,
            "display": null,
            "left": null
          }
        },
        "fff9fb2c211b44e6914343bcbbd5a95d": {
          "model_module": "@jupyter-widgets/controls",
          "model_name": "HBoxModel",
          "state": {
            "_view_name": "HBoxView",
            "_dom_classes": [],
            "_model_name": "HBoxModel",
            "_view_module": "@jupyter-widgets/controls",
            "_model_module_version": "1.5.0",
            "_view_count": null,
            "_view_module_version": "1.5.0",
            "box_style": "",
            "layout": "IPY_MODEL_b3eea74156224b6ea47d4f7fb374f8ed",
            "_model_module": "@jupyter-widgets/controls",
            "children": [
              "IPY_MODEL_c865232a7e8c41178ae8a5e41d426a86",
              "IPY_MODEL_c8e8b70156224930abc34a473a39caa8"
            ]
          }
        },
        "b3eea74156224b6ea47d4f7fb374f8ed": {
          "model_module": "@jupyter-widgets/base",
          "model_name": "LayoutModel",
          "state": {
            "_view_name": "LayoutView",
            "grid_template_rows": null,
            "right": null,
            "justify_content": null,
            "_view_module": "@jupyter-widgets/base",
            "overflow": null,
            "_model_module_version": "1.2.0",
            "_view_count": null,
            "flex_flow": null,
            "width": null,
            "min_width": null,
            "border": null,
            "align_items": null,
            "bottom": null,
            "_model_module": "@jupyter-widgets/base",
            "top": null,
            "grid_column": null,
            "overflow_y": null,
            "overflow_x": null,
            "grid_auto_flow": null,
            "grid_area": null,
            "grid_template_columns": null,
            "flex": null,
            "_model_name": "LayoutModel",
            "justify_items": null,
            "grid_row": null,
            "max_height": null,
            "align_content": null,
            "visibility": null,
            "align_self": null,
            "height": null,
            "min_height": null,
            "padding": null,
            "grid_auto_rows": null,
            "grid_gap": null,
            "max_width": null,
            "order": null,
            "_view_module_version": "1.2.0",
            "grid_template_areas": null,
            "object_position": null,
            "object_fit": null,
            "grid_auto_columns": null,
            "margin": null,
            "display": null,
            "left": null
          }
        },
        "c865232a7e8c41178ae8a5e41d426a86": {
          "model_module": "@jupyter-widgets/controls",
          "model_name": "FloatProgressModel",
          "state": {
            "_view_name": "ProgressView",
            "style": "IPY_MODEL_80d5e6257c4c4aa5865e0577cc96d721",
            "_dom_classes": [],
            "description": " 65%",
            "_model_name": "FloatProgressModel",
            "bar_style": "danger",
            "max": 11490,
            "_view_module": "@jupyter-widgets/controls",
            "_model_module_version": "1.5.0",
            "value": 7495,
            "_view_count": null,
            "_view_module_version": "1.5.0",
            "orientation": "horizontal",
            "min": 0,
            "description_tooltip": null,
            "_model_module": "@jupyter-widgets/controls",
            "layout": "IPY_MODEL_1cb0bdb3dcab4976ab98cef729d47c0a"
          }
        },
        "c8e8b70156224930abc34a473a39caa8": {
          "model_module": "@jupyter-widgets/controls",
          "model_name": "HTMLModel",
          "state": {
            "_view_name": "HTMLView",
            "style": "IPY_MODEL_46e3e6d610114297b55002553311c1a9",
            "_dom_classes": [],
            "description": "",
            "_model_name": "HTMLModel",
            "placeholder": "​",
            "_view_module": "@jupyter-widgets/controls",
            "_model_module_version": "1.5.0",
            "value": " 7495/11490 [00:00&lt;00:00, 74949.18 examples/s]",
            "_view_count": null,
            "_view_module_version": "1.5.0",
            "description_tooltip": null,
            "_model_module": "@jupyter-widgets/controls",
            "layout": "IPY_MODEL_25f50c9036144cb880ce55e24dc312d5"
          }
        },
        "80d5e6257c4c4aa5865e0577cc96d721": {
          "model_module": "@jupyter-widgets/controls",
          "model_name": "ProgressStyleModel",
          "state": {
            "_view_name": "StyleView",
            "_model_name": "ProgressStyleModel",
            "description_width": "initial",
            "_view_module": "@jupyter-widgets/base",
            "_model_module_version": "1.5.0",
            "_view_count": null,
            "_view_module_version": "1.2.0",
            "bar_color": null,
            "_model_module": "@jupyter-widgets/controls"
          }
        },
        "1cb0bdb3dcab4976ab98cef729d47c0a": {
          "model_module": "@jupyter-widgets/base",
          "model_name": "LayoutModel",
          "state": {
            "_view_name": "LayoutView",
            "grid_template_rows": null,
            "right": null,
            "justify_content": null,
            "_view_module": "@jupyter-widgets/base",
            "overflow": null,
            "_model_module_version": "1.2.0",
            "_view_count": null,
            "flex_flow": null,
            "width": null,
            "min_width": null,
            "border": null,
            "align_items": null,
            "bottom": null,
            "_model_module": "@jupyter-widgets/base",
            "top": null,
            "grid_column": null,
            "overflow_y": null,
            "overflow_x": null,
            "grid_auto_flow": null,
            "grid_area": null,
            "grid_template_columns": null,
            "flex": null,
            "_model_name": "LayoutModel",
            "justify_items": null,
            "grid_row": null,
            "max_height": null,
            "align_content": null,
            "visibility": null,
            "align_self": null,
            "height": null,
            "min_height": null,
            "padding": null,
            "grid_auto_rows": null,
            "grid_gap": null,
            "max_width": null,
            "order": null,
            "_view_module_version": "1.2.0",
            "grid_template_areas": null,
            "object_position": null,
            "object_fit": null,
            "grid_auto_columns": null,
            "margin": null,
            "display": null,
            "left": null
          }
        },
        "46e3e6d610114297b55002553311c1a9": {
          "model_module": "@jupyter-widgets/controls",
          "model_name": "DescriptionStyleModel",
          "state": {
            "_view_name": "StyleView",
            "_model_name": "DescriptionStyleModel",
            "description_width": "",
            "_view_module": "@jupyter-widgets/base",
            "_model_module_version": "1.5.0",
            "_view_count": null,
            "_view_module_version": "1.2.0",
            "_model_module": "@jupyter-widgets/controls"
          }
        },
        "25f50c9036144cb880ce55e24dc312d5": {
          "model_module": "@jupyter-widgets/base",
          "model_name": "LayoutModel",
          "state": {
            "_view_name": "LayoutView",
            "grid_template_rows": null,
            "right": null,
            "justify_content": null,
            "_view_module": "@jupyter-widgets/base",
            "overflow": null,
            "_model_module_version": "1.2.0",
            "_view_count": null,
            "flex_flow": null,
            "width": null,
            "min_width": null,
            "border": null,
            "align_items": null,
            "bottom": null,
            "_model_module": "@jupyter-widgets/base",
            "top": null,
            "grid_column": null,
            "overflow_y": null,
            "overflow_x": null,
            "grid_auto_flow": null,
            "grid_area": null,
            "grid_template_columns": null,
            "flex": null,
            "_model_name": "LayoutModel",
            "justify_items": null,
            "grid_row": null,
            "max_height": null,
            "align_content": null,
            "visibility": null,
            "align_self": null,
            "height": null,
            "min_height": null,
            "padding": null,
            "grid_auto_rows": null,
            "grid_gap": null,
            "max_width": null,
            "order": null,
            "_view_module_version": "1.2.0",
            "grid_template_areas": null,
            "object_position": null,
            "object_fit": null,
            "grid_auto_columns": null,
            "margin": null,
            "display": null,
            "left": null
          }
        }
      }
    },
    "accelerator": "GPU"
  },
  "cells": [
    {
      "cell_type": "code",
      "metadata": {
        "id": "JCYF4XX3yXu5"
      },
      "source": [
        "\r\n",
        "#tfds.list_builders()"
      ],
      "execution_count": null,
      "outputs": []
    },
    {
      "cell_type": "markdown",
      "metadata": {
        "id": "ytLEoGldrCuQ"
      },
      "source": [
        "# Initial EDA on the Dataset."
      ]
    },
    {
      "cell_type": "markdown",
      "metadata": {
        "id": "lI-jXMHxpMG1"
      },
      "source": [
        "# Dataset\r\n",
        "CNN/Dailymail"
      ]
    },
    {
      "cell_type": "code",
      "metadata": {
        "colab": {
          "base_uri": "https://localhost:8080/",
          "height": 617,
          "referenced_widgets": [
            "12e0f124c40047599a1465631d1093d8",
            "8b09ae5262324154acdb856ad7326a88",
            "f9731f41bbc341c8a281eb33bdd6c722",
            "f326f9290518429e87c29e9402c0f5a3",
            "75e7a82540dc4d85a200f776f3a91fb4",
            "f8b3610ff6a1444e98fc6b20cb907e71",
            "2491499d0a0141d0b56de1c1a940ccb3",
            "32342107ace443519db6d933b8e73936",
            "5994a295c02e4c89bb3811c34f47589b",
            "5eb647067b904e2b947006b3e2fa39c5",
            "7882e087b930490d8157af34fbc74333",
            "9193461ac7994c229f587db6ab39278a",
            "c75b82f88af44e84ad75026f367de5a6",
            "d34a7247da68461088897d83338b41ac",
            "2e733ff68eca45aba72b9b4da530e807",
            "9c345e75fbe9499e9acf36113ea080ba",
            "ffe16ce284d44d3891f1011846727e20",
            "92863696217e45be8a83c12733bcceef",
            "94caa7b5a5a543bdb3cea028006d5cc9",
            "0552740f9c32417ca44c23faeeae29e6",
            "61503bce99e240029696e9f1ac4c3633",
            "7ac7bb46d6054c288283010b4c029134",
            "2ba030945d3e4cf3bd9a52ed558be714",
            "3ef8cac33c584fcdac13a2f9814ffe0d",
            "503f03ba8e154eb5b0bd6adf7a551403",
            "54957fe2037f4923bc861022ec68197c",
            "611fda5a966a47e787f0c46f95f5f588",
            "d6f861285b8a408ebbf1e768e1dc57be",
            "9a2a6fb760ae4202a02c6229f58d0c9b",
            "9505ca06a05d490fa618dc2e44efbf5f",
            "ca1701116ec44d1180b874e4a85bb48c",
            "24e96adb0f774b66a3fece5ef03c8255",
            "35fe0974aa604c82add94b6d94560540",
            "02606408c0854009bbfb2b5f683c0d09",
            "de45c1e953b044ff8e3448859c74f883",
            "5cfa240d7db94139aecd87bfe60bc727",
            "ab239d590eb14320867fb1385d113d9c",
            "05dd2b69a50c43a38c6fde951754e8a0",
            "546bed5eaa634796a386ef33b8a067e3",
            "6cdff4b52a22499cb06da506b56e52e3",
            "cebebb972e224db1b12d7eaf26e8449b",
            "671a8b5a9d92412bac139eea147eca38",
            "e9c4671ddf3041608372ef81336878d4",
            "b05c49a9afad46798842fdfe6f10bfeb",
            "682f03b6418349f9946e84b0bc1fe80c",
            "7fd8d97c2e9f49819796d273ea81e36a",
            "9483b17e25a44759acabe929c780a29b",
            "e39e56c455174d0ea44265d9ec3b4313",
            "6f4ae3f1455545f68f408f0cda3aa8dd",
            "2137176f0b5b4e108a0978bd255ace1d",
            "6a5f494f9732402285db3ae1e732725e",
            "1bdd0a365662445ca0905faffea0e75e",
            "621a4ccbd03a471183eed89166b9e104",
            "0cf1b0c893f6422d9b4b248594ee01d4",
            "be91336c9b824b3b9407cdf5f2fca00d",
            "a4041a08201a450e8703e6ccac84129e",
            "d51c9141c1bf47f092cd5cc312c107ab",
            "32978c61113449ddac88a2537e33586a",
            "f2b76553d93e400895b30f245f65ce1a",
            "914f2c69b0fb49a0bd8cdba70179b15f",
            "678a8244ce8140eda72fad47578cd143",
            "06a9db4d897442688710e4af6ff06b29",
            "a63fca4d6158421683949bdd20ba0052",
            "ab4d92e738be4f8e93970c0bfb3a1c42",
            "fff9fb2c211b44e6914343bcbbd5a95d",
            "b3eea74156224b6ea47d4f7fb374f8ed",
            "c865232a7e8c41178ae8a5e41d426a86",
            "c8e8b70156224930abc34a473a39caa8",
            "80d5e6257c4c4aa5865e0577cc96d721",
            "1cb0bdb3dcab4976ab98cef729d47c0a",
            "46e3e6d610114297b55002553311c1a9",
            "25f50c9036144cb880ce55e24dc312d5"
          ]
        },
        "id": "S9js5X_0yk_F",
        "outputId": "c204a3e5-6f11-4c45-a094-72d0a46cf87b"
      },
      "source": [
        "import tensorflow as tf\r\n",
        "import tensorflow_datasets as tfds\r\n",
        "import numpy as np\r\n",
        "ds, ds_info = tfds.load('cnn_dailymail', split='train', shuffle_files=True, with_info=True)\r\n",
        "df_example = tfds.as_dataframe(ds.take(10), ds_info)\r\n",
        "print(df_example)"
      ],
      "execution_count": 2,
      "outputs": [
        {
          "output_type": "stream",
          "text": [
            "\u001b[1mDownloading and preparing dataset cnn_dailymail/plain_text/3.0.0 (download: 558.32 MiB, generated: 1.27 GiB, total: 1.82 GiB) to /root/tensorflow_datasets/cnn_dailymail/plain_text/3.0.0...\u001b[0m\n"
          ],
          "name": "stdout"
        },
        {
          "output_type": "display_data",
          "data": {
            "application/vnd.jupyter.widget-view+json": {
              "model_id": "12e0f124c40047599a1465631d1093d8",
              "version_minor": 0,
              "version_major": 2
            },
            "text/plain": [
              "HBox(children=(FloatProgress(value=1.0, bar_style='info', description='Dl Completed...', max=1.0, style=Progre…"
            ]
          },
          "metadata": {
            "tags": []
          }
        },
        {
          "output_type": "display_data",
          "data": {
            "application/vnd.jupyter.widget-view+json": {
              "model_id": "5994a295c02e4c89bb3811c34f47589b",
              "version_minor": 0,
              "version_major": 2
            },
            "text/plain": [
              "HBox(children=(FloatProgress(value=1.0, bar_style='info', description='Dl Size...', max=1.0, style=ProgressSty…"
            ]
          },
          "metadata": {
            "tags": []
          }
        },
        {
          "output_type": "display_data",
          "data": {
            "application/vnd.jupyter.widget-view+json": {
              "model_id": "ffe16ce284d44d3891f1011846727e20",
              "version_minor": 0,
              "version_major": 2
            },
            "text/plain": [
              "HBox(children=(FloatProgress(value=1.0, bar_style='info', description='Extraction completed...', max=1.0, styl…"
            ]
          },
          "metadata": {
            "tags": []
          }
        },
        {
          "output_type": "stream",
          "text": [
            "\n",
            "\n",
            "\n",
            "\n",
            "\n",
            "\n"
          ],
          "name": "stdout"
        },
        {
          "output_type": "display_data",
          "data": {
            "application/vnd.jupyter.widget-view+json": {
              "model_id": "503f03ba8e154eb5b0bd6adf7a551403",
              "version_minor": 0,
              "version_major": 2
            },
            "text/plain": [
              "HBox(children=(FloatProgress(value=1.0, bar_style='info', max=1.0), HTML(value='')))"
            ]
          },
          "metadata": {
            "tags": []
          }
        },
        {
          "output_type": "stream",
          "text": [
            "\rShuffling and writing examples to /root/tensorflow_datasets/cnn_dailymail/plain_text/3.0.0.incompleteWLPLPT/cnn_dailymail-train.tfrecord\n"
          ],
          "name": "stdout"
        },
        {
          "output_type": "display_data",
          "data": {
            "application/vnd.jupyter.widget-view+json": {
              "model_id": "35fe0974aa604c82add94b6d94560540",
              "version_minor": 0,
              "version_major": 2
            },
            "text/plain": [
              "HBox(children=(FloatProgress(value=0.0, max=287113.0), HTML(value='')))"
            ]
          },
          "metadata": {
            "tags": []
          }
        },
        {
          "output_type": "stream",
          "text": [
            "\r"
          ],
          "name": "stdout"
        },
        {
          "output_type": "display_data",
          "data": {
            "application/vnd.jupyter.widget-view+json": {
              "model_id": "cebebb972e224db1b12d7eaf26e8449b",
              "version_minor": 0,
              "version_major": 2
            },
            "text/plain": [
              "HBox(children=(FloatProgress(value=1.0, bar_style='info', max=1.0), HTML(value='')))"
            ]
          },
          "metadata": {
            "tags": []
          }
        },
        {
          "output_type": "stream",
          "text": [
            "Shuffling and writing examples to /root/tensorflow_datasets/cnn_dailymail/plain_text/3.0.0.incompleteWLPLPT/cnn_dailymail-validation.tfrecord\n"
          ],
          "name": "stdout"
        },
        {
          "output_type": "display_data",
          "data": {
            "application/vnd.jupyter.widget-view+json": {
              "model_id": "6f4ae3f1455545f68f408f0cda3aa8dd",
              "version_minor": 0,
              "version_major": 2
            },
            "text/plain": [
              "HBox(children=(FloatProgress(value=0.0, max=13368.0), HTML(value='')))"
            ]
          },
          "metadata": {
            "tags": []
          }
        },
        {
          "output_type": "stream",
          "text": [
            "\r"
          ],
          "name": "stdout"
        },
        {
          "output_type": "display_data",
          "data": {
            "application/vnd.jupyter.widget-view+json": {
              "model_id": "d51c9141c1bf47f092cd5cc312c107ab",
              "version_minor": 0,
              "version_major": 2
            },
            "text/plain": [
              "HBox(children=(FloatProgress(value=1.0, bar_style='info', max=1.0), HTML(value='')))"
            ]
          },
          "metadata": {
            "tags": []
          }
        },
        {
          "output_type": "stream",
          "text": [
            "\rShuffling and writing examples to /root/tensorflow_datasets/cnn_dailymail/plain_text/3.0.0.incompleteWLPLPT/cnn_dailymail-test.tfrecord\n"
          ],
          "name": "stdout"
        },
        {
          "output_type": "display_data",
          "data": {
            "application/vnd.jupyter.widget-view+json": {
              "model_id": "fff9fb2c211b44e6914343bcbbd5a95d",
              "version_minor": 0,
              "version_major": 2
            },
            "text/plain": [
              "HBox(children=(FloatProgress(value=0.0, max=11490.0), HTML(value='')))"
            ]
          },
          "metadata": {
            "tags": []
          }
        },
        {
          "output_type": "stream",
          "text": [
            "WARNING:absl:Dataset is using deprecated text encoder API which will be removed soon. Please use the plain_text version of the dataset and migrate to `tensorflow_text`.\n",
            "WARNING:absl:Dataset is using deprecated text encoder API which will be removed soon. Please use the plain_text version of the dataset and migrate to `tensorflow_text`.\n"
          ],
          "name": "stderr"
        },
        {
          "output_type": "stream",
          "text": [
            "\u001b[1mDataset cnn_dailymail downloaded and prepared to /root/tensorflow_datasets/cnn_dailymail/plain_text/3.0.0. Subsequent calls will reuse this data.\u001b[0m\n",
            "\r                                             article                                         highlights\n",
            "0  b\"By . Daily Mail Reporter . UPDATED: . 09:53 ...  b'They even sprayed paint on his Ford Fiesta i...\n",
            "1  b\"One of the country\\xe2\\x80\\x99s biggest rail...  b\"East Coast, First Hull Trains, Grand Central...\n",
            "2  b\"Veteran actor Victor Spinetti, who starred i...  b\"Sprang to prominence in three Beatles films ...\n",
            "3  b\"By . Neil Sears . PUBLISHED: . 12:00 EST, 27...  b'Prime Minister took part in Great Brook Run ...\n",
            "4  b'(CNN) -- Upon arrival at Kotoka Internationa...  b'Ghana is a country rich in history, culture ...\n",
            "5  b'(CNN) -- Two separate incidents at coal mine...  b'42 miners remain trapped in the two coal min...\n",
            "6  b\"In the battle to be the most extravagant meg...  b\"J'ade, designed by Italian company CRN, can ...\n",
            "7  b'BERLIN, Germany (CNN) -- A German cruise lin...  b'Passengers will fly to Dubai to continue the...\n",
            "8  b\"Louis van Gaal has welcomed a public message...  b\"Manchester United host Newcastle in the Prem...\n",
            "9  b\"By . Rob Waugh . PUBLISHED: . 08:03 EST, 13 ...  b\"Controversial scientist created world's firs...\n"
          ],
          "name": "stdout"
        }
      ]
    },
    {
      "cell_type": "code",
      "metadata": {
        "colab": {
          "base_uri": "https://localhost:8080/",
          "height": 1000
        },
        "id": "Q2HWHCUKAzbd",
        "outputId": "07d8bb81-5be1-4ba9-eb51-5413aa24b806"
      },
      "source": [
        "df_example"
      ],
      "execution_count": 3,
      "outputs": [
        {
          "output_type": "execute_result",
          "data": {
            "text/html": [
              "<style  type=\"text/css\" >\n",
              "</style><table id=\"T_18d5ac78_813d_11eb_b0a9_0242ac1c0002\" ><thead>    <tr>        <th class=\"blank level0\" ></th>        <th class=\"col_heading level0 col0\" >article</th>        <th class=\"col_heading level0 col1\" >highlights</th>    </tr></thead><tbody>\n",
              "                <tr>\n",
              "                        <th id=\"T_18d5ac78_813d_11eb_b0a9_0242ac1c0002level0_row0\" class=\"row_heading level0 row0\" >0</th>\n",
              "                        <td id=\"T_18d5ac78_813d_11eb_b0a9_0242ac1c0002row0_col0\" class=\"data row0 col0\" >By . Daily Mail Reporter . UPDATED: . 09:53 EST, 12 January 2012 . A motorist was stunned when he discovered double yellow lines had been painted underneath his car while it was parked - and then given a ticket. Flecks of yellow paint were even sprayed on the bumper of Patrick McCrystal&#x27;s car as the lines were painted under the front of it in Kedleston Street, Derby. The 49-year-old had parked his Ford Fiesta in the street near to a Co-operative store and a petrol station, where he works, for three years. Stunned: Patrick McCrystal with his Ford Fiesta, which was given a ticket after council workmen had sprayed yellow lines under the car while it was parked legally . When he parked for his 2pm shift, he noticed new yellow lines had been painted across a housing block entrance. But there was a gap between those lines and existing ones in the street, so Mr McCrystal parked there, in his usual spot. Hours later, a colleague on his dinner break saw that extra lines had been [...]</td>\n",
              "                        <td id=\"T_18d5ac78_813d_11eb_b0a9_0242ac1c0002row0_col1\" class=\"data row0 col1\" >They even sprayed paint on his Ford Fiesta in calamitous giveaway .</td>\n",
              "            </tr>\n",
              "            <tr>\n",
              "                        <th id=\"T_18d5ac78_813d_11eb_b0a9_0242ac1c0002level0_row1\" class=\"row_heading level0 row1\" >1</th>\n",
              "                        <td id=\"T_18d5ac78_813d_11eb_b0a9_0242ac1c0002row1_col0\" class=\"data row1 col0\" >One of the country’s biggest rail terminals will be ‘effectively closed’ today because of over-running engineering works. There will be no trains in or out of King’s Cross in London due to delays to Network Rail works north of the station. The disruption comes on one of the busiest travel days of the year, as thousands of people try to return home after visiting family for Christmas. Scroll down for video . Services in and out of London Kings Cross station have been cancelled today, it has been announced . Frustration: Travellers at the London station, one of the busiest in the country, where services are cancelled . The disruptions at the station, which is managed by Network Rail, will affect those planning to travel on East Coast, First Hull Trains, Grand Central and Great Northern services. East Coast Trains made the announcement on its website yesterday evening, where it advised passengers to delay their travel if possible. It also said that a revised timetable is currently [...]</td>\n",
              "                        <td id=\"T_18d5ac78_813d_11eb_b0a9_0242ac1c0002row1_col1\" class=\"data row1 col1\" >East Coast, First Hull Trains, Grand Central and Great Northern lines hit . Planned works in Holloway area of London were not completed in time . Customers advised to start and finish journey at Finsbury Park instead . Thousands expected to make post-Christmas return journey on Saturday . East Coast Trains apologised for cancellation on a &#x27;very busy travel day&#x27; National Rail said services would be &#x27;significantly disrupted&#x27; tomorrow .</td>\n",
              "            </tr>\n",
              "            <tr>\n",
              "                        <th id=\"T_18d5ac78_813d_11eb_b0a9_0242ac1c0002level0_row2\" class=\"row_heading level0 row2\" >2</th>\n",
              "                        <td id=\"T_18d5ac78_813d_11eb_b0a9_0242ac1c0002row2_col0\" class=\"data row2 col0\" >Veteran actor Victor Spinetti, who starred in all three Beatles films, has died at the age of 82. The Welsh star, who also appeared in a string of acclaimed movies as well as taking roles in the West End and on Broadway, died after a fight with pancreatic cancer. Close friend Barbara Windsor, on whose Radio 2 show he made a recent appearance, was one of his final visitors before his death this morning at a hospice in Monmouth. Respected: Victor Spinetti was told by the late George Harrison he had to star in all the Beatles films, pictured here in 1972 . Tributes: Actor Victor Spinetti, pictured left in 2010, died today at a hospice - one of his last visitors was close friend Barbara Windsor, pictured right with the actor in the 1960s . Spinetti’s agent, Barry Burnett, said: &#x27;He had cancer for a year, but he was very cheerful to the end. I spoke to him on Friday and he was talking about his plans and everything.&#x27; The versatile actor was able to easily turn his hand from [...]</td>\n",
              "                        <td id=\"T_18d5ac78_813d_11eb_b0a9_0242ac1c0002row2_col1\" class=\"data row2 col1\" >Sprang to prominence in three Beatles films of the 1960s: Hard Day’s Night, Help! and Magical Mystery Tour . Close friend Barbara Windsor was one of the last people to visit the veteran actor . His agent Barry Burnett, said: &#x27;He was very cheerful to the end&#x27;</td>\n",
              "            </tr>\n",
              "            <tr>\n",
              "                        <th id=\"T_18d5ac78_813d_11eb_b0a9_0242ac1c0002level0_row3\" class=\"row_heading level0 row3\" >3</th>\n",
              "                        <td id=\"T_18d5ac78_813d_11eb_b0a9_0242ac1c0002row3_col0\" class=\"data row3 col0\" >By . Neil Sears . PUBLISHED: . 12:00 EST, 27 December 2012 . | . UPDATED: . 20:48 EST, 27 December 2012 . Vladimir Putin enjoys posing bare-chested on horseback and with hunting rifles to perpetuate his macho image. In Britain, however, our leader has shown his Russian counterpart how a real action man does it. This was David Cameron yesterday as he got a full soaking during a race along a swollen icy stream in the Cotswolds. The Prime Minister sported a support bandage on his right knee as he took part in the fund-raising competition close to his constituency home in Witney, Oxfordshire. Anything you can do Mr Putin... David Cameron braved muddy conditions and cold water in the Chadlington Brook Run . Feat: David Cameron took part in the Great Brook Run on Thursday afternoon . Tough: The Prime Minister was forced to climb through a low tunnel as part of the annual race . Success: Mr Cameron posed with his wife Samantha after receiving a medal for completing the race . The Great [...]</td>\n",
              "                        <td id=\"T_18d5ac78_813d_11eb_b0a9_0242ac1c0002row3_col1\" class=\"data row3 col1\" >Prime Minister took part in Great Brook Run for the third time . Participating for first time in Oxfordshire run since becoming PM in 2010 . Russian President Putin is renowned for his macho exploits . Putin has been pictured competing in judo and holding a rifle while topless .</td>\n",
              "            </tr>\n",
              "            <tr>\n",
              "                        <th id=\"T_18d5ac78_813d_11eb_b0a9_0242ac1c0002level0_row4\" class=\"row_heading level0 row4\" >4</th>\n",
              "                        <td id=\"T_18d5ac78_813d_11eb_b0a9_0242ac1c0002row4_col0\" class=\"data row4 col0\" >(CNN) -- Upon arrival at Kotoka International airport in Ghana&#x27;s capital city Accra, you are immediately greeted by a sign that says &quot;Akwaaba,&quot; which means &quot;Welcome&quot; -- and this is exactly how you will feel when visiting this beautiful West African country. A success story of African development, democracy and stability, Ghana is a nation made up of people that are as warm as its climate. Rich in history, culture and natural beauty, it&#x27;s the perfect introduction to Africa if you are a first-time traveler to the continent, or a great alternative for those who have exhausted the Safari circuit, and crave a different African experience. There is something for everyone in Ghana, ranging from nature trails and UNESCO World Heritage sites to bustling markets, tranquil beaches and vibrant nightlife. Wildlife . There are 15 national parks and reserves across the country. A must see is Kakum National Park, in the central region. The area is covered with [...]</td>\n",
              "                        <td id=\"T_18d5ac78_813d_11eb_b0a9_0242ac1c0002row4_col1\" class=\"data row4 col1\" >Ghana is a country rich in history, culture and natural beauty . Mole National Park is home to more than 93 species of mammal . Elmina Castle is the oldest remaining slave castle in Africa . Osu, in Accra, offers visitors a vibrant nightlife .</td>\n",
              "            </tr>\n",
              "            <tr>\n",
              "                        <th id=\"T_18d5ac78_813d_11eb_b0a9_0242ac1c0002level0_row5\" class=\"row_heading level0 row5\" >5</th>\n",
              "                        <td id=\"T_18d5ac78_813d_11eb_b0a9_0242ac1c0002row5_col0\" class=\"data row5 col0\" >(CNN) -- Two separate incidents at coal mines in Southwest China over the weekend left at least three miners dead and 42 trapped, state media reported. Days of heavy rain caused a mine at Niupeng in Guizhou province to flood on Saturday morning; while &quot;rain-saturated earth on the surface collapsed into a shaft&quot; at another pit in Guangxi around noon the same day, killing three miners, Xinhua said. The report added that more than 1,000 police, firemen, and paramilitary personnel joined the mission to rescue the trapped workers at Niupeng. By Monday the water level at the mine had dropped but was still 40 meters (131ft) higher than where 23 of the miners are believed trapped, according to reports from China National Radio. Local authorities said the heavy rain may have caused a previously dry river to rise, while possibly increasing the water level in underground rivers around the mines. According to Xinhua, the Niupeng mine&#x27;s investors have already been detained by [...]</td>\n",
              "                        <td id=\"T_18d5ac78_813d_11eb_b0a9_0242ac1c0002row5_col1\" class=\"data row5 col1\" >42 miners remain trapped in the two coal mines in southwestern China . Days of heavy rain caused a mine at Niupeng in Guizhou province to flood . &quot;Rain-saturated earth on the surface collapsed into a shaft&quot; at another pit in Guangxi .</td>\n",
              "            </tr>\n",
              "            <tr>\n",
              "                        <th id=\"T_18d5ac78_813d_11eb_b0a9_0242ac1c0002level0_row6\" class=\"row_heading level0 row6\" >6</th>\n",
              "                        <td id=\"T_18d5ac78_813d_11eb_b0a9_0242ac1c0002row6_col0\" class=\"data row6 col0\" >In the battle to be the most extravagant mega yacht on the seas, it takes a lot to really impress. While helipads, waterslides, and movie theatres are commonplace additions to the yachts of the super wealthy, a stylish Italian vessel is making waves for being the first to feature a floating drive-in garage. J&#x27;ade, by Ferretti group company CRN, features a hydraulic-operated hatch which can store an eight-metre speedboat without the use of a tender lift to hoist it out of the water. Scroll down for video . Innovative: The 196-foot yacht has a hydraulic-operated hatch which can store an eight-metre speedboat without the use of a tender lift to hoist it out of the water . Floating fortress: While swimming pools and helipads are commonplace on many a mega yacht, J&#x27;ade features the world&#x27;s first floating garage . Glide in: The internal basin floods and empties 18,000 litres of water in just three minutes, allowing the boat to enter the yacht without the use of a crane . [...]</td>\n",
              "                        <td id=\"T_18d5ac78_813d_11eb_b0a9_0242ac1c0002row6_col1\" class=\"data row6 col1\" >J&#x27;ade, designed by Italian company CRN, can store an eight-metre speedboat in its floating indoor garage . Hydraulic-powered hatch fills with 18,000 litres of water and can also be used as an indoor ocean pool . The luxury vessel was nominated for Best Interior at 2014 Monaco Yacht Show . 196-foot vessel also features a gym, hammam room, and aquarium, and can sleep ten guests in four cabins .</td>\n",
              "            </tr>\n",
              "            <tr>\n",
              "                        <th id=\"T_18d5ac78_813d_11eb_b0a9_0242ac1c0002level0_row7\" class=\"row_heading level0 row7\" >7</th>\n",
              "                        <td id=\"T_18d5ac78_813d_11eb_b0a9_0242ac1c0002row7_col0\" class=\"data row7 col0\" >BERLIN, Germany (CNN) -- A German cruise liner said Tuesday it plans to fly its passengers over the Gulf of Aden, instead of sailing them through, out of fear of pirate attacks in the region. U.S. Navy image of pirates operating off coast of Somalia in October this year. Hapag-Lloyd Cruises said all 246 passengers and most of the crew aboard the MS Columbus, currently at the start of an around-the-world cruise, will disembark at an undisclosed port, then fly to Dubai to continue their journey. The company called the move a precautionary measure. Pirate attacks in the waters off Somalia have shot up this year, with pirates staging increasingly bolder attacks on ever-bigger targets. So far this year, pirates have attacked almost 100 vessels off Somalia&#x27;s coast and successfully hijacked nearly 40, according to the International Maritime Bureau. Freight and cargo ships, cruise liners, and private yachts have all come under attack. In many hijackings, pirates take the crew and [...]</td>\n",
              "                        <td id=\"T_18d5ac78_813d_11eb_b0a9_0242ac1c0002row7_col1\" class=\"data row7 col1\" >Passengers will fly to Dubai to continue their journey . Hapag-Lloyd: Involves 246 passengers, most of crew aboard MS Columbus . Prompted by travel warning for the area issued by German Foreign Ministry . United States, UK advise those traveling near Somali coast to use extreme caution .</td>\n",
              "            </tr>\n",
              "            <tr>\n",
              "                        <th id=\"T_18d5ac78_813d_11eb_b0a9_0242ac1c0002level0_row8\" class=\"row_heading level0 row8\" >8</th>\n",
              "                        <td id=\"T_18d5ac78_813d_11eb_b0a9_0242ac1c0002row8_col0\" class=\"data row8 col0\" >Louis van Gaal has welcomed a public message of support from Sir Alex Ferguson but admitted it has put more pressure on him to succeed at Manchester United. The former Old Trafford boss backed Van Gaal, who has taken United to third place in the table despite a catalogue of injuries, saying: ‘When he gets the best players back, you watch United go – because he’s a great coach he will do well.’ The Dutchman responded at his weekly press conference by thanking Ferguson for the vote of confidence, but he feels that it has put him under even more pressure to get results. Manchester United boss Louis van Gaal has welcomed the public support of Sir Alex Ferguson . The Dutchman was praised by Ferguson for guiding United to third in the table, despite a crippling injury list . Van Gaal enjoyed a toast with the media by sharing a glass of red wine during Tuesday&#x27;s press conference . So, I&#x27;m allowed to toast with you my friends of the media. Merry Christmas, I wish your family a [...]</td>\n",
              "                        <td id=\"T_18d5ac78_813d_11eb_b0a9_0242ac1c0002row8_col1\" class=\"data row8 col1\" >Manchester United host Newcastle in the Premier League on Boxing Day . United boss Louis van Gaal has guided them to third in the Premier League so far, despite a catalogue of injuries at the club . Ex-Old Trafford manager Sir Alex Ferguson thinks United can only get better when United&#x27;s injury list improves under the Dutch coach .</td>\n",
              "            </tr>\n",
              "            <tr>\n",
              "                        <th id=\"T_18d5ac78_813d_11eb_b0a9_0242ac1c0002level0_row9\" class=\"row_heading level0 row9\" >9</th>\n",
              "                        <td id=\"T_18d5ac78_813d_11eb_b0a9_0242ac1c0002row9_col0\" class=\"data row9 col0\" >By . Rob Waugh . PUBLISHED: . 08:03 EST, 13 March 2012 . | . UPDATED: . 05:10 EST, 14 March 2012 . A woolly mammoth preserved in permafrost in Siberia could walk the Earth again after 10,000 years, after Russian academics signed a deal with a controversial Korean scientist to clone the animal. Hwang Woo-Suk – who created the world’s first cloned dog, Snuppy, in 2005 – will implant the nucleus from a mammoth cell into an elephant egg to create a mammoth embryo. The embryo will then be implanted into an elephant’s womb. The Koreans say research could begin this year. South Korean scientist Hwang Woo-Suk (L) shakes hands with Vasily Vasiliev (R), vice director of North-Eastern Federal University of Russia&#x27;s Sakha Republic, after signing an agreement on joint research to clone a mammoth . A painting by Friedrich Wilhelm Kuhnert, (1865 - 1926) shows woolly mammoths - the creature could walk the Earth again for the first time in 10,000 years thanks to the new research . Exciting: [...]</td>\n",
              "                        <td id=\"T_18d5ac78_813d_11eb_b0a9_0242ac1c0002row9_col1\" class=\"data row9 col1\" >Controversial scientist created world&#x27;s first cloned dog . Remains found in Siberia last year to be used . Research &#x27;could begin this year&#x27;</td>\n",
              "            </tr>\n",
              "    </tbody></table>"
            ],
            "text/plain": [
              "                                             article                                         highlights\n",
              "0  b\"By . Daily Mail Reporter . UPDATED: . 09:53 ...  b'They even sprayed paint on his Ford Fiesta i...\n",
              "1  b\"One of the country\\xe2\\x80\\x99s biggest rail...  b\"East Coast, First Hull Trains, Grand Central...\n",
              "2  b\"Veteran actor Victor Spinetti, who starred i...  b\"Sprang to prominence in three Beatles films ...\n",
              "3  b\"By . Neil Sears . PUBLISHED: . 12:00 EST, 27...  b'Prime Minister took part in Great Brook Run ...\n",
              "4  b'(CNN) -- Upon arrival at Kotoka Internationa...  b'Ghana is a country rich in history, culture ...\n",
              "5  b'(CNN) -- Two separate incidents at coal mine...  b'42 miners remain trapped in the two coal min...\n",
              "6  b\"In the battle to be the most extravagant meg...  b\"J'ade, designed by Italian company CRN, can ...\n",
              "7  b'BERLIN, Germany (CNN) -- A German cruise lin...  b'Passengers will fly to Dubai to continue the...\n",
              "8  b\"Louis van Gaal has welcomed a public message...  b\"Manchester United host Newcastle in the Prem...\n",
              "9  b\"By . Rob Waugh . PUBLISHED: . 08:03 EST, 13 ...  b\"Controversial scientist created world's firs..."
            ]
          },
          "metadata": {
            "tags": []
          },
          "execution_count": 3
        }
      ]
    },
    {
      "cell_type": "code",
      "metadata": {
        "id": "7zrn9q0dy8uh"
      },
      "source": [
        "df = tfds.as_dataframe(ds, ds_info)"
      ],
      "execution_count": 4,
      "outputs": []
    },
    {
      "cell_type": "code",
      "metadata": {
        "id": "7ES49EGOm3GH"
      },
      "source": [
        "len_of_articles = []\r\n",
        "for article in df['article']:\r\n",
        "  len_of_articles.append(len(article))"
      ],
      "execution_count": 5,
      "outputs": []
    },
    {
      "cell_type": "code",
      "metadata": {
        "id": "CAa-sSpewqjZ"
      },
      "source": [
        "len_of_highlights = []\r\n",
        "for highlight in df['highlights']:\r\n",
        "  len_of_highlights.append(len(highlight))"
      ],
      "execution_count": 6,
      "outputs": []
    },
    {
      "cell_type": "code",
      "metadata": {
        "id": "e3_anlrfnr3d"
      },
      "source": [
        "#len(len_of_articles)"
      ],
      "execution_count": 7,
      "outputs": []
    },
    {
      "cell_type": "code",
      "metadata": {
        "id": "R3q9zcnY0acl",
        "colab": {
          "base_uri": "https://localhost:8080/",
          "height": 297
        },
        "outputId": "f027f82c-8e73-4ac0-8d87-ff750db6566f"
      },
      "source": [
        "import matplotlib.pyplot as plt\r\n",
        "_=fig, axs = plt.subplots(1, 2,sharex=True, sharey=True, figsize=(13,4), tight_layout=True)\r\n",
        "# for i, ax in enumerate(axs.flat):\r\n",
        "#     ax.hist()\r\n",
        "#     ax.set_title(f'Title {i}')\r\n",
        "# _=plt.xlabel(\"Number of Characters in the article\")\r\n",
        "# _=plt.ylabel(\"Frequency of the articles\")\r\n",
        "_=axs[0].hist(len_of_articles, bins=20)\r\n",
        "_=axs[0].set_title(\"Histogram of Articles\")\r\n",
        "_=axs[0].set_xlabel(\"Number of Characters in the article\")\r\n",
        "_=axs[0].set_ylabel(\"Frequency of the articles\")\r\n",
        "_=axs[1].hist(len_of_highlights, bins=20)\r\n",
        "_=axs[1].set_title(\"Histogram of Highlights\")\r\n",
        "_=axs[1].set_xlabel(\"Number of Characters in the article\")\r\n",
        "_=axs[1].set_ylabel(\"Frequency of the highlights\")\r\n",
        "# _=fig.set_size_inches(20,9)\r\n",
        "# _=fig.suptitle(\"Histogram of Article/Summary\")\r\n",
        "# _=axs.set_xlabel(\"Number of Characters in the article\")\r\n",
        "# _=axs.set_ylabel(\"Frequency of the articles\")\r\n",
        "# _=axs.set_title(\"Histogram of Article/Summary\")"
      ],
      "execution_count": 48,
      "outputs": [
        {
          "output_type": "display_data",
          "data": {
            "image/png": "[encoded data removed]",
            "text/plain": [
              "<Figure size 936x288 with 2 Axes>"
            ]
          },
          "metadata": {
            "tags": [],
            "needs_background": "light"
          }
        }
      ]
    },
    {
      "cell_type": "code",
      "metadata": {
        "id": "sZy0kiNJ2vjb"
      },
      "source": [
        " articles = ''\r\n",
        "for article in df['article'][:10]:\r\n",
        "  articles += article.decode('utf-8')"
      ],
      "execution_count": 9,
      "outputs": []
    },
    {
      "cell_type": "code",
      "metadata": {
        "colab": {
          "base_uri": "https://localhost:8080/"
        },
        "id": "l4ytGzJRJTZs",
        "outputId": "8426f3f3-08ab-4ac7-b041-4af8addb8244"
      },
      "source": [
        "import re\r\n",
        "import nltk\r\n",
        "from nltk.tokenize import word_tokenize\r\n",
        "from nltk.corpus import stopwords\r\n",
        "# Download the puctuations\r\n",
        "nltk.download('punkt')\r\n",
        "# Download the stop-words\r\n",
        "nltk.download('stopwords')\r\n",
        "articles_processed = re.sub(re.compile('<.*?>'),'',articles)\r\n",
        "articles_processed = re.sub('[^A-Za-z0-9]+',' ',articles_processed)\r\n",
        "articles_processed = articles_processed.lower()\r\n",
        "articles_tokens = word_tokenize(articles_processed)\r\n",
        "stop_words= stopwords.words('english')\r\n",
        "stop_words.extend(['from', 'mr', 'said','subject', 're', 'edu', 'use', 'not', 'would', 'say', 'could', '_', 'be', 'know', 'good', 'go', 'get', 'do', 'done', '000'\r\n",
        "'try', 'many', 'applause', 'one', 'year', 'some', 'nice', 'thank', 'think', 'see', 'rather', 'easy', 'easily', 'lot', 'lack', 'make', 'want', 'seem', 'run', 'need', 'even', 'right', 'line', 'even', 'also', 'may', 'take', 'come'])\r\n",
        "filtered_articles = [word for word in articles_tokens if word not in stop_words]"
      ],
      "execution_count": 10,
      "outputs": [
        {
          "output_type": "stream",
          "text": [
            "[nltk_data] Downloading package punkt to /root/nltk_data...\n",
            "[nltk_data]   Unzipping tokenizers/punkt.zip.\n",
            "[nltk_data] Downloading package stopwords to /root/nltk_data...\n",
            "[nltk_data]   Unzipping corpora/stopwords.zip.\n"
          ],
          "name": "stdout"
        }
      ]
    },
    {
      "cell_type": "code",
      "metadata": {
        "id": "dhd2_Y3xJarL",
        "colab": {
          "base_uri": "https://localhost:8080/"
        },
        "outputId": "93e1ffed-e884-43ac-e14a-7499d6d97fc0"
      },
      "source": [
        "from nltk.stem import WordNetLemmatizer\r\n",
        "nltk.download('wordnet')\r\n",
        "lemmatizer= WordNetLemmatizer()\r\n",
        "lemm_articles = [lemmatizer.lemmatize(word) for word in filtered_articles]\r\n",
        "lemm_articles.remove('000')"
      ],
      "execution_count": 11,
      "outputs": [
        {
          "output_type": "stream",
          "text": [
            "[nltk_data] Downloading package wordnet to /root/nltk_data...\n",
            "[nltk_data]   Unzipping corpora/wordnet.zip.\n"
          ],
          "name": "stdout"
        }
      ]
    },
    {
      "cell_type": "code",
      "metadata": {
        "id": "tmxwgMilWnrL"
      },
      "source": [
        "import numpy as np\r\n",
        "from sklearn.feature_extraction.text import TfidfVectorizer\r\n",
        "from sklearn.decomposition import NMF\r\n",
        "vectorizer = TfidfVectorizer(max_features=10, min_df=1, stop_words='english')\r\n",
        "X = vectorizer.fit_transform(lemm_articles)\r\n",
        "idx_to_word = np.array(vectorizer.get_feature_names())\r\n",
        "# apply NMF\r\n",
        "nmf = NMF(n_components=20, solver=\"mu\")\r\n",
        "W = nmf.fit_transform(X)\r\n",
        "H = nmf.components_"
      ],
      "execution_count": 12,
      "outputs": []
    },
    {
      "cell_type": "code",
      "metadata": {
        "id": "S9ozsXThuKAt",
        "colab": {
          "base_uri": "https://localhost:8080/"
        },
        "outputId": "65b27bf6-e5fe-406c-f7c7-043fdf8ea734"
      },
      "source": [
        "print(\"Topics:\")\r\n",
        "for i, topic in enumerate(H):\r\n",
        "    print(\"Topic {}: {}\".format(i + 1, \",\".join([str(x) for x in idx_to_word [topic.argsort()[-10:]]])))"
      ],
      "execution_count": 13,
      "outputs": [
        {
          "output_type": "stream",
          "text": [
            "Topics:\n",
            "Topic 1: 000,amish,bannatyne,johnson,new,people,time,tomasz,year,state\n",
            "Topic 2: 000,bannatyne,new,time,year,johnson,state,tomasz,amish,people\n",
            "Topic 3: 000,amish,johnson,people,state,time,year,bannatyne,tomasz,new\n",
            "Topic 4: 000,amish,bannatyne,johnson,new,people,state,time,year,tomasz\n",
            "Topic 5: 000,amish,new,people,state,time,year,bannatyne,tomasz,johnson\n",
            "Topic 6: amish,bannatyne,johnson,new,state,time,tomasz,year,000,people\n",
            "Topic 7: amish,bannatyne,johnson,new,people,state,tomasz,year,000,time\n",
            "Topic 8: 000,amish,bannatyne,people,state,tomasz,time,year,new,johnson\n",
            "Topic 9: 000,johnson,new,people,state,time,tomasz,year,bannatyne,amish\n",
            "Topic 10: 000,amish,johnson,new,state,tomasz,year,bannatyne,people,time\n",
            "Topic 11: 000,amish,bannatyne,johnson,new,state,time,tomasz,year,people\n",
            "Topic 12: 000,bannatyne,johnson,people,state,time,tomasz,year,new,amish\n",
            "Topic 13: amish,bannatyne,johnson,people,state,time,tomasz,000,new,year\n",
            "Topic 14: 000,amish,bannatyne,johnson,new,state,time,tomasz,people,year\n",
            "Topic 15: amish,bannatyne,johnson,people,state,time,tomasz,year,000,new\n",
            "Topic 16: bannatyne,johnson,new,people,state,time,tomasz,year,000,amish\n",
            "Topic 17: amish,new,people,state,time,year,bannatyne,johnson,tomasz,000\n",
            "Topic 18: 000,bannatyne,johnson,new,people,state,year,time,tomasz,amish\n",
            "Topic 19: 000,amish,johnson,new,people,time,tomasz,year,state,bannatyne\n",
            "Topic 20: 000,amish,bannatyne,johnson,new,people,tomasz,year,time,state\n"
          ],
          "name": "stdout"
        }
      ]
    },
    {
      "cell_type": "code",
      "metadata": {
        "colab": {
          "base_uri": "https://localhost:8080/",
          "height": 465
        },
        "id": "_D2CF9VeZdlJ",
        "outputId": "d9642866-cbf0-4171-9024-63c98c5ebd5f"
      },
      "source": [
        "from wordcloud import WordCloud\r\n",
        "import matplotlib.pyplot as plt\r\n",
        "# wordcloud = WordCloud().generate(cleaned)\r\n",
        "# plt.imshow(wordcloud, interpolation='bilinear')\r\n",
        "# plt.axis(\"off\")\r\n",
        "# lower max_font_size\r\n",
        "wordcloud = WordCloud(max_font_size=40).generate(' '.join(lemm_articles))\r\n",
        "#print(\"Word-cloud for the Articles:\" )\r\n",
        "\r\n",
        "\r\n",
        "plt.figure()\r\n",
        "plt.imshow(wordcloud, interpolation=\"bilinear\")\r\n",
        "plt.axis(\"off\")\r\n",
        "fig = plt.gcf()\r\n",
        "_=plt.title(\"Histogram of Article/Summary\")\r\n",
        "_=fig.set_size_inches(15,9)\r\n",
        "plt.show()"
      ],
      "execution_count": 33,
      "outputs": [
        {
          "output_type": "display_data",
          "data": {
            "image/png": "[encoded data removed]",
            "text/plain": [
              "<Figure size 1080x648 with 1 Axes>"
            ]
          },
          "metadata": {
            "tags": [],
            "needs_background": "light"
          }
        }
      ]
    },
    {
      "cell_type": "code",
      "metadata": {
        "colab": {
          "base_uri": "https://localhost:8080/"
        },
        "id": "acdhJlD4uznM",
        "outputId": "ec4023ca-28ac-40a6-8e1a-f7e894a542e7"
      },
      "source": [
        "!pip install pyLDAvis"
      ],
      "execution_count": 15,
      "outputs": [
        {
          "output_type": "stream",
          "text": [
            "Collecting pyLDAvis\n",
            "\u001b[?25l  Downloading https://files.pythonhosted.org/packages/24/38/6d81eff34c84c9158d3b7c846bff978ac88b0c2665548941946d3d591158/pyLDAvis-3.2.2.tar.gz (1.7MB)\n",
            "\u001b[K     |████████████████████████████████| 1.7MB 7.5MB/s \n",
            "\u001b[?25hRequirement already satisfied: wheel>=0.23.0 in /usr/local/lib/python3.7/dist-packages (from pyLDAvis) (0.36.2)\n",
            "Requirement already satisfied: numpy>=1.9.2 in /usr/local/lib/python3.7/dist-packages (from pyLDAvis) (1.19.5)\n",
            "Requirement already satisfied: scipy>=0.18.0 in /usr/local/lib/python3.7/dist-packages (from pyLDAvis) (1.4.1)\n",
            "Requirement already satisfied: joblib>=0.8.4 in /usr/local/lib/python3.7/dist-packages (from pyLDAvis) (1.0.1)\n",
            "Requirement already satisfied: jinja2>=2.7.2 in /usr/local/lib/python3.7/dist-packages (from pyLDAvis) (2.11.3)\n",
            "Requirement already satisfied: numexpr in /usr/local/lib/python3.7/dist-packages (from pyLDAvis) (2.7.3)\n",
            "Requirement already satisfied: future in /usr/local/lib/python3.7/dist-packages (from pyLDAvis) (0.16.0)\n",
            "Collecting funcy\n",
            "  Downloading https://files.pythonhosted.org/packages/66/89/479de0afbbfb98d1c4b887936808764627300208bb771fcd823403645a36/funcy-1.15-py2.py3-none-any.whl\n",
            "Requirement already satisfied: pandas>=0.17.0 in /usr/local/lib/python3.7/dist-packages (from pyLDAvis) (1.1.5)\n",
            "Requirement already satisfied: MarkupSafe>=0.23 in /usr/local/lib/python3.7/dist-packages (from jinja2>=2.7.2->pyLDAvis) (1.1.1)\n",
            "Requirement already satisfied: pytz>=2017.2 in /usr/local/lib/python3.7/dist-packages (from pandas>=0.17.0->pyLDAvis) (2018.9)\n",
            "Requirement already satisfied: python-dateutil>=2.7.3 in /usr/local/lib/python3.7/dist-packages (from pandas>=0.17.0->pyLDAvis) (2.8.1)\n",
            "Requirement already satisfied: six>=1.5 in /usr/local/lib/python3.7/dist-packages (from python-dateutil>=2.7.3->pandas>=0.17.0->pyLDAvis) (1.15.0)\n",
            "Building wheels for collected packages: pyLDAvis\n",
            "  Building wheel for pyLDAvis (setup.py) ... \u001b[?25l\u001b[?25hdone\n",
            "  Created wheel for pyLDAvis: filename=pyLDAvis-3.2.2-py2.py3-none-any.whl size=135593 sha256=2a658262c32158ec3f3a9e50dd2997b2a0ec8a26026866b83b2f2ed43a6d0af6\n",
            "  Stored in directory: /root/.cache/pip/wheels/74/df/b6/97234c8446a43be05c9a8687ee0db1f1b5ade5f27729187eae\n",
            "Successfully built pyLDAvis\n",
            "Installing collected packages: funcy, pyLDAvis\n",
            "Successfully installed funcy-1.15 pyLDAvis-3.2.2\n"
          ],
          "name": "stdout"
        }
      ]
    },
    {
      "cell_type": "code",
      "metadata": {
        "colab": {
          "base_uri": "https://localhost:8080/"
        },
        "id": "fFIzsO4gao3r",
        "outputId": "4aef2d4e-9e50-484f-8158-bb3bfd608055"
      },
      "source": [
        "from sklearn.feature_extraction.text import CountVectorizer\r\n",
        "from sklearn.decomposition import LatentDirichletAllocation\r\n",
        "import pyLDAvis.sklearn\r\n",
        "lemm_articles.remove('000')\r\n",
        "vectorizer = CountVectorizer(analyzer='word',       \r\n",
        "                             min_df=1,                       \r\n",
        "                             stop_words='english',             \r\n",
        "                             lowercase=True,                   \r\n",
        "                             token_pattern='[a-zA-Z0-9]{3,}',  \r\n",
        "                             max_features=50          \r\n",
        "                            )\r\n",
        "data_vectorized = vectorizer.fit_transform(lemm_articles)\r\n",
        "lda_model = LatentDirichletAllocation(n_components=10, # Number of topics\r\n",
        "                                      learning_method='online',\r\n",
        "                                      random_state=0,\r\n",
        "                                      learning_decay=0.7,\r\n",
        "                                      n_jobs = -1  # Use all available CPUs\r\n",
        "                                     )\r\n",
        "lda_output = lda_model.fit_transform(data_vectorized)"
      ],
      "execution_count": 16,
      "outputs": [
        {
          "output_type": "stream",
          "text": [
            "/usr/local/lib/python3.7/dist-packages/past/types/oldstr.py:5: DeprecationWarning: Using or importing the ABCs from 'collections' instead of from 'collections.abc' is deprecated since Python 3.3,and in 3.9 it will stop working\n",
            "  from collections import Iterable\n"
          ],
          "name": "stderr"
        }
      ]
    },
    {
      "cell_type": "code",
      "metadata": {
        "colab": {
          "base_uri": "https://localhost:8080/"
        },
        "id": "qyjKA0mvr3aS",
        "outputId": "53bbf388-623d-4fcc-b55e-6eda4591691b"
      },
      "source": [
        "def print_topics(model, count_vectorizer, n_top_words):\r\n",
        "    words = count_vectorizer.get_feature_names()\r\n",
        "    for topic_idx, topic in enumerate(model.components_):\r\n",
        "        print(\"\\nTopic #%d:\" % topic_idx)\r\n",
        "        print(\" \".join([words[i]\r\n",
        "                        for i in topic.argsort()[:-n_top_words - 1:-1]]))\r\n",
        "print(\"Topics for the articles :\")\r\n",
        "print_topics(lda_model,vectorizer,20)"
      ],
      "execution_count": 17,
      "outputs": [
        {
          "output_type": "stream",
          "text": [
            "Topics for the articles :\n",
            "\n",
            "Topic #0:\n",
            "000 year liverpool day going letter message government amish iraq dencia islamic tomasz british skin shilov united photo britain air\n",
            "\n",
            "Topic #1:\n",
            "johnson family air cleverley star syrian dencia liverpool population photo instagram time going area video message pennsylvania government manager amish\n",
            "\n",
            "Topic #2:\n",
            "state message martinez talk dencia family government syrian letter russian instagram tomasz time shilov amish video day new season population\n",
            "\n",
            "Topic #3:\n",
            "deal muslim old iraq british letter bannatyne family going pennsylvania time star state johnson threat britain liverpool rojas air area\n",
            "\n",
            "Topic #4:\n",
            "new shilov russian government threat skin season star loan day state united muslim year player iraq cleverley syrian johnson photo\n",
            "\n",
            "Topic #5:\n",
            "amish people york pennsylvania united star going threat martinez jihadist rojas old liverpool skin loan letter message british instagram cleverley\n",
            "\n",
            "Topic #6:\n",
            "time bannatyne area british follower air dencia talk going 000 day tomasz pennsylvania manager year player liverpool photo population star\n",
            "\n",
            "Topic #7:\n",
            "tomasz follower video jihadist britain islamic russian deal photo threat syrian pennsylvania dencia time bannatyne message government cleverley iraq state\n",
            "\n",
            "Topic #8:\n",
            "season loan dencia syrian year skin liverpool tomasz york british muslim cleverley follower islamic shilov letter johnson population star united\n",
            "\n",
            "Topic #9:\n",
            "population instagram manager photo rojas player skin cleverley bannatyne islamic loan united 000 johnson martinez state york letter air government\n"
          ],
          "name": "stdout"
        }
      ]
    },
    {
      "cell_type": "code",
      "metadata": {
        "colab": {
          "base_uri": "https://localhost:8080/",
          "height": 250
        },
        "id": "NwiGkN9cr6bJ",
        "outputId": "e118817e-e6fe-4946-d78b-839299832620"
      },
      "source": [
        "import pandas as pd\r\n",
        "lda_output = lda_model.transform(data_vectorized)\r\n",
        "topicnames = ['Topic' + str(i) for i in range(lda_model.n_components)]\r\n",
        "docnames = ['Doc' + str(i) for i in range(len(lemm_articles))]\r\n",
        "df_document_topic = pd.DataFrame(np.round(lda_output, 2), columns=topicnames, index=docnames)\r\n",
        "dominant_topic = np.argmax(df_document_topic.values, axis=1)\r\n",
        "df_document_topic['dominant_topic'] = dominant_topic\r\n",
        "def color_green(val):\r\n",
        "    color = 'green' if val > .1 else 'black'\r\n",
        "    return 'color: {col}'.format(col=color)\r\n",
        "def make_bold(val):\r\n",
        "    weight = 700 if val > .1 else 400\r\n",
        "    return 'font-weight: {weight}'.format(weight=weight)\r\n",
        "df_document_topics = df_document_topic.head(10).style.applymap(color_green).applymap(make_bold)\r\n",
        "df_document_topics"
      ],
      "execution_count": 18,
      "outputs": [
        {
          "output_type": "execute_result",
          "data": {
            "text/html": [
              "<style  type=\"text/css\" >\n",
              "#T_4a5c8ece_813d_11eb_b0a9_0242ac1c0002row0_col0,#T_4a5c8ece_813d_11eb_b0a9_0242ac1c0002row0_col1,#T_4a5c8ece_813d_11eb_b0a9_0242ac1c0002row0_col2,#T_4a5c8ece_813d_11eb_b0a9_0242ac1c0002row0_col3,#T_4a5c8ece_813d_11eb_b0a9_0242ac1c0002row0_col4,#T_4a5c8ece_813d_11eb_b0a9_0242ac1c0002row0_col5,#T_4a5c8ece_813d_11eb_b0a9_0242ac1c0002row0_col6,#T_4a5c8ece_813d_11eb_b0a9_0242ac1c0002row0_col7,#T_4a5c8ece_813d_11eb_b0a9_0242ac1c0002row0_col8,#T_4a5c8ece_813d_11eb_b0a9_0242ac1c0002row0_col9,#T_4a5c8ece_813d_11eb_b0a9_0242ac1c0002row0_col10,#T_4a5c8ece_813d_11eb_b0a9_0242ac1c0002row1_col0,#T_4a5c8ece_813d_11eb_b0a9_0242ac1c0002row1_col1,#T_4a5c8ece_813d_11eb_b0a9_0242ac1c0002row1_col2,#T_4a5c8ece_813d_11eb_b0a9_0242ac1c0002row1_col3,#T_4a5c8ece_813d_11eb_b0a9_0242ac1c0002row1_col4,#T_4a5c8ece_813d_11eb_b0a9_0242ac1c0002row1_col5,#T_4a5c8ece_813d_11eb_b0a9_0242ac1c0002row1_col6,#T_4a5c8ece_813d_11eb_b0a9_0242ac1c0002row1_col7,#T_4a5c8ece_813d_11eb_b0a9_0242ac1c0002row1_col8,#T_4a5c8ece_813d_11eb_b0a9_0242ac1c0002row1_col9,#T_4a5c8ece_813d_11eb_b0a9_0242ac1c0002row1_col10,#T_4a5c8ece_813d_11eb_b0a9_0242ac1c0002row2_col0,#T_4a5c8ece_813d_11eb_b0a9_0242ac1c0002row2_col1,#T_4a5c8ece_813d_11eb_b0a9_0242ac1c0002row2_col2,#T_4a5c8ece_813d_11eb_b0a9_0242ac1c0002row2_col3,#T_4a5c8ece_813d_11eb_b0a9_0242ac1c0002row2_col4,#T_4a5c8ece_813d_11eb_b0a9_0242ac1c0002row2_col5,#T_4a5c8ece_813d_11eb_b0a9_0242ac1c0002row2_col6,#T_4a5c8ece_813d_11eb_b0a9_0242ac1c0002row2_col7,#T_4a5c8ece_813d_11eb_b0a9_0242ac1c0002row2_col8,#T_4a5c8ece_813d_11eb_b0a9_0242ac1c0002row2_col9,#T_4a5c8ece_813d_11eb_b0a9_0242ac1c0002row2_col10,#T_4a5c8ece_813d_11eb_b0a9_0242ac1c0002row3_col0,#T_4a5c8ece_813d_11eb_b0a9_0242ac1c0002row3_col1,#T_4a5c8ece_813d_11eb_b0a9_0242ac1c0002row3_col2,#T_4a5c8ece_813d_11eb_b0a9_0242ac1c0002row3_col3,#T_4a5c8ece_813d_11eb_b0a9_0242ac1c0002row3_col4,#T_4a5c8ece_813d_11eb_b0a9_0242ac1c0002row3_col5,#T_4a5c8ece_813d_11eb_b0a9_0242ac1c0002row3_col6,#T_4a5c8ece_813d_11eb_b0a9_0242ac1c0002row3_col7,#T_4a5c8ece_813d_11eb_b0a9_0242ac1c0002row3_col8,#T_4a5c8ece_813d_11eb_b0a9_0242ac1c0002row3_col9,#T_4a5c8ece_813d_11eb_b0a9_0242ac1c0002row3_col10,#T_4a5c8ece_813d_11eb_b0a9_0242ac1c0002row4_col0,#T_4a5c8ece_813d_11eb_b0a9_0242ac1c0002row4_col1,#T_4a5c8ece_813d_11eb_b0a9_0242ac1c0002row4_col2,#T_4a5c8ece_813d_11eb_b0a9_0242ac1c0002row4_col3,#T_4a5c8ece_813d_11eb_b0a9_0242ac1c0002row4_col4,#T_4a5c8ece_813d_11eb_b0a9_0242ac1c0002row4_col5,#T_4a5c8ece_813d_11eb_b0a9_0242ac1c0002row4_col6,#T_4a5c8ece_813d_11eb_b0a9_0242ac1c0002row4_col7,#T_4a5c8ece_813d_11eb_b0a9_0242ac1c0002row4_col8,#T_4a5c8ece_813d_11eb_b0a9_0242ac1c0002row4_col9,#T_4a5c8ece_813d_11eb_b0a9_0242ac1c0002row4_col10,#T_4a5c8ece_813d_11eb_b0a9_0242ac1c0002row5_col0,#T_4a5c8ece_813d_11eb_b0a9_0242ac1c0002row5_col2,#T_4a5c8ece_813d_11eb_b0a9_0242ac1c0002row5_col3,#T_4a5c8ece_813d_11eb_b0a9_0242ac1c0002row5_col4,#T_4a5c8ece_813d_11eb_b0a9_0242ac1c0002row5_col5,#T_4a5c8ece_813d_11eb_b0a9_0242ac1c0002row5_col6,#T_4a5c8ece_813d_11eb_b0a9_0242ac1c0002row5_col7,#T_4a5c8ece_813d_11eb_b0a9_0242ac1c0002row5_col8,#T_4a5c8ece_813d_11eb_b0a9_0242ac1c0002row5_col9,#T_4a5c8ece_813d_11eb_b0a9_0242ac1c0002row6_col0,#T_4a5c8ece_813d_11eb_b0a9_0242ac1c0002row6_col1,#T_4a5c8ece_813d_11eb_b0a9_0242ac1c0002row6_col2,#T_4a5c8ece_813d_11eb_b0a9_0242ac1c0002row6_col3,#T_4a5c8ece_813d_11eb_b0a9_0242ac1c0002row6_col4,#T_4a5c8ece_813d_11eb_b0a9_0242ac1c0002row6_col5,#T_4a5c8ece_813d_11eb_b0a9_0242ac1c0002row6_col6,#T_4a5c8ece_813d_11eb_b0a9_0242ac1c0002row6_col7,#T_4a5c8ece_813d_11eb_b0a9_0242ac1c0002row6_col9,#T_4a5c8ece_813d_11eb_b0a9_0242ac1c0002row7_col0,#T_4a5c8ece_813d_11eb_b0a9_0242ac1c0002row7_col1,#T_4a5c8ece_813d_11eb_b0a9_0242ac1c0002row7_col2,#T_4a5c8ece_813d_11eb_b0a9_0242ac1c0002row7_col3,#T_4a5c8ece_813d_11eb_b0a9_0242ac1c0002row7_col4,#T_4a5c8ece_813d_11eb_b0a9_0242ac1c0002row7_col5,#T_4a5c8ece_813d_11eb_b0a9_0242ac1c0002row7_col6,#T_4a5c8ece_813d_11eb_b0a9_0242ac1c0002row7_col7,#T_4a5c8ece_813d_11eb_b0a9_0242ac1c0002row7_col8,#T_4a5c8ece_813d_11eb_b0a9_0242ac1c0002row7_col9,#T_4a5c8ece_813d_11eb_b0a9_0242ac1c0002row7_col10,#T_4a5c8ece_813d_11eb_b0a9_0242ac1c0002row8_col0,#T_4a5c8ece_813d_11eb_b0a9_0242ac1c0002row8_col1,#T_4a5c8ece_813d_11eb_b0a9_0242ac1c0002row8_col2,#T_4a5c8ece_813d_11eb_b0a9_0242ac1c0002row8_col3,#T_4a5c8ece_813d_11eb_b0a9_0242ac1c0002row8_col4,#T_4a5c8ece_813d_11eb_b0a9_0242ac1c0002row8_col5,#T_4a5c8ece_813d_11eb_b0a9_0242ac1c0002row8_col6,#T_4a5c8ece_813d_11eb_b0a9_0242ac1c0002row8_col7,#T_4a5c8ece_813d_11eb_b0a9_0242ac1c0002row8_col8,#T_4a5c8ece_813d_11eb_b0a9_0242ac1c0002row8_col9,#T_4a5c8ece_813d_11eb_b0a9_0242ac1c0002row8_col10,#T_4a5c8ece_813d_11eb_b0a9_0242ac1c0002row9_col0,#T_4a5c8ece_813d_11eb_b0a9_0242ac1c0002row9_col1,#T_4a5c8ece_813d_11eb_b0a9_0242ac1c0002row9_col2,#T_4a5c8ece_813d_11eb_b0a9_0242ac1c0002row9_col3,#T_4a5c8ece_813d_11eb_b0a9_0242ac1c0002row9_col4,#T_4a5c8ece_813d_11eb_b0a9_0242ac1c0002row9_col5,#T_4a5c8ece_813d_11eb_b0a9_0242ac1c0002row9_col6,#T_4a5c8ece_813d_11eb_b0a9_0242ac1c0002row9_col7,#T_4a5c8ece_813d_11eb_b0a9_0242ac1c0002row9_col8,#T_4a5c8ece_813d_11eb_b0a9_0242ac1c0002row9_col9,#T_4a5c8ece_813d_11eb_b0a9_0242ac1c0002row9_col10{\n",
              "            color:  black;\n",
              "            font-weight:  400;\n",
              "        }#T_4a5c8ece_813d_11eb_b0a9_0242ac1c0002row5_col1,#T_4a5c8ece_813d_11eb_b0a9_0242ac1c0002row5_col10,#T_4a5c8ece_813d_11eb_b0a9_0242ac1c0002row6_col8,#T_4a5c8ece_813d_11eb_b0a9_0242ac1c0002row6_col10{\n",
              "            color:  green;\n",
              "            font-weight:  700;\n",
              "        }</style><table id=\"T_4a5c8ece_813d_11eb_b0a9_0242ac1c0002\" ><thead>    <tr>        <th class=\"blank level0\" ></th>        <th class=\"col_heading level0 col0\" >Topic0</th>        <th class=\"col_heading level0 col1\" >Topic1</th>        <th class=\"col_heading level0 col2\" >Topic2</th>        <th class=\"col_heading level0 col3\" >Topic3</th>        <th class=\"col_heading level0 col4\" >Topic4</th>        <th class=\"col_heading level0 col5\" >Topic5</th>        <th class=\"col_heading level0 col6\" >Topic6</th>        <th class=\"col_heading level0 col7\" >Topic7</th>        <th class=\"col_heading level0 col8\" >Topic8</th>        <th class=\"col_heading level0 col9\" >Topic9</th>        <th class=\"col_heading level0 col10\" >dominant_topic</th>    </tr></thead><tbody>\n",
              "                <tr>\n",
              "                        <th id=\"T_4a5c8ece_813d_11eb_b0a9_0242ac1c0002level0_row0\" class=\"row_heading level0 row0\" >Doc0</th>\n",
              "                        <td id=\"T_4a5c8ece_813d_11eb_b0a9_0242ac1c0002row0_col0\" class=\"data row0 col0\" >0.100000</td>\n",
              "                        <td id=\"T_4a5c8ece_813d_11eb_b0a9_0242ac1c0002row0_col1\" class=\"data row0 col1\" >0.100000</td>\n",
              "                        <td id=\"T_4a5c8ece_813d_11eb_b0a9_0242ac1c0002row0_col2\" class=\"data row0 col2\" >0.100000</td>\n",
              "                        <td id=\"T_4a5c8ece_813d_11eb_b0a9_0242ac1c0002row0_col3\" class=\"data row0 col3\" >0.100000</td>\n",
              "                        <td id=\"T_4a5c8ece_813d_11eb_b0a9_0242ac1c0002row0_col4\" class=\"data row0 col4\" >0.100000</td>\n",
              "                        <td id=\"T_4a5c8ece_813d_11eb_b0a9_0242ac1c0002row0_col5\" class=\"data row0 col5\" >0.100000</td>\n",
              "                        <td id=\"T_4a5c8ece_813d_11eb_b0a9_0242ac1c0002row0_col6\" class=\"data row0 col6\" >0.100000</td>\n",
              "                        <td id=\"T_4a5c8ece_813d_11eb_b0a9_0242ac1c0002row0_col7\" class=\"data row0 col7\" >0.100000</td>\n",
              "                        <td id=\"T_4a5c8ece_813d_11eb_b0a9_0242ac1c0002row0_col8\" class=\"data row0 col8\" >0.100000</td>\n",
              "                        <td id=\"T_4a5c8ece_813d_11eb_b0a9_0242ac1c0002row0_col9\" class=\"data row0 col9\" >0.100000</td>\n",
              "                        <td id=\"T_4a5c8ece_813d_11eb_b0a9_0242ac1c0002row0_col10\" class=\"data row0 col10\" >0</td>\n",
              "            </tr>\n",
              "            <tr>\n",
              "                        <th id=\"T_4a5c8ece_813d_11eb_b0a9_0242ac1c0002level0_row1\" class=\"row_heading level0 row1\" >Doc1</th>\n",
              "                        <td id=\"T_4a5c8ece_813d_11eb_b0a9_0242ac1c0002row1_col0\" class=\"data row1 col0\" >0.100000</td>\n",
              "                        <td id=\"T_4a5c8ece_813d_11eb_b0a9_0242ac1c0002row1_col1\" class=\"data row1 col1\" >0.100000</td>\n",
              "                        <td id=\"T_4a5c8ece_813d_11eb_b0a9_0242ac1c0002row1_col2\" class=\"data row1 col2\" >0.100000</td>\n",
              "                        <td id=\"T_4a5c8ece_813d_11eb_b0a9_0242ac1c0002row1_col3\" class=\"data row1 col3\" >0.100000</td>\n",
              "                        <td id=\"T_4a5c8ece_813d_11eb_b0a9_0242ac1c0002row1_col4\" class=\"data row1 col4\" >0.100000</td>\n",
              "                        <td id=\"T_4a5c8ece_813d_11eb_b0a9_0242ac1c0002row1_col5\" class=\"data row1 col5\" >0.100000</td>\n",
              "                        <td id=\"T_4a5c8ece_813d_11eb_b0a9_0242ac1c0002row1_col6\" class=\"data row1 col6\" >0.100000</td>\n",
              "                        <td id=\"T_4a5c8ece_813d_11eb_b0a9_0242ac1c0002row1_col7\" class=\"data row1 col7\" >0.100000</td>\n",
              "                        <td id=\"T_4a5c8ece_813d_11eb_b0a9_0242ac1c0002row1_col8\" class=\"data row1 col8\" >0.100000</td>\n",
              "                        <td id=\"T_4a5c8ece_813d_11eb_b0a9_0242ac1c0002row1_col9\" class=\"data row1 col9\" >0.100000</td>\n",
              "                        <td id=\"T_4a5c8ece_813d_11eb_b0a9_0242ac1c0002row1_col10\" class=\"data row1 col10\" >0</td>\n",
              "            </tr>\n",
              "            <tr>\n",
              "                        <th id=\"T_4a5c8ece_813d_11eb_b0a9_0242ac1c0002level0_row2\" class=\"row_heading level0 row2\" >Doc2</th>\n",
              "                        <td id=\"T_4a5c8ece_813d_11eb_b0a9_0242ac1c0002row2_col0\" class=\"data row2 col0\" >0.100000</td>\n",
              "                        <td id=\"T_4a5c8ece_813d_11eb_b0a9_0242ac1c0002row2_col1\" class=\"data row2 col1\" >0.100000</td>\n",
              "                        <td id=\"T_4a5c8ece_813d_11eb_b0a9_0242ac1c0002row2_col2\" class=\"data row2 col2\" >0.100000</td>\n",
              "                        <td id=\"T_4a5c8ece_813d_11eb_b0a9_0242ac1c0002row2_col3\" class=\"data row2 col3\" >0.100000</td>\n",
              "                        <td id=\"T_4a5c8ece_813d_11eb_b0a9_0242ac1c0002row2_col4\" class=\"data row2 col4\" >0.100000</td>\n",
              "                        <td id=\"T_4a5c8ece_813d_11eb_b0a9_0242ac1c0002row2_col5\" class=\"data row2 col5\" >0.100000</td>\n",
              "                        <td id=\"T_4a5c8ece_813d_11eb_b0a9_0242ac1c0002row2_col6\" class=\"data row2 col6\" >0.100000</td>\n",
              "                        <td id=\"T_4a5c8ece_813d_11eb_b0a9_0242ac1c0002row2_col7\" class=\"data row2 col7\" >0.100000</td>\n",
              "                        <td id=\"T_4a5c8ece_813d_11eb_b0a9_0242ac1c0002row2_col8\" class=\"data row2 col8\" >0.100000</td>\n",
              "                        <td id=\"T_4a5c8ece_813d_11eb_b0a9_0242ac1c0002row2_col9\" class=\"data row2 col9\" >0.100000</td>\n",
              "                        <td id=\"T_4a5c8ece_813d_11eb_b0a9_0242ac1c0002row2_col10\" class=\"data row2 col10\" >0</td>\n",
              "            </tr>\n",
              "            <tr>\n",
              "                        <th id=\"T_4a5c8ece_813d_11eb_b0a9_0242ac1c0002level0_row3\" class=\"row_heading level0 row3\" >Doc3</th>\n",
              "                        <td id=\"T_4a5c8ece_813d_11eb_b0a9_0242ac1c0002row3_col0\" class=\"data row3 col0\" >0.100000</td>\n",
              "                        <td id=\"T_4a5c8ece_813d_11eb_b0a9_0242ac1c0002row3_col1\" class=\"data row3 col1\" >0.100000</td>\n",
              "                        <td id=\"T_4a5c8ece_813d_11eb_b0a9_0242ac1c0002row3_col2\" class=\"data row3 col2\" >0.100000</td>\n",
              "                        <td id=\"T_4a5c8ece_813d_11eb_b0a9_0242ac1c0002row3_col3\" class=\"data row3 col3\" >0.100000</td>\n",
              "                        <td id=\"T_4a5c8ece_813d_11eb_b0a9_0242ac1c0002row3_col4\" class=\"data row3 col4\" >0.100000</td>\n",
              "                        <td id=\"T_4a5c8ece_813d_11eb_b0a9_0242ac1c0002row3_col5\" class=\"data row3 col5\" >0.100000</td>\n",
              "                        <td id=\"T_4a5c8ece_813d_11eb_b0a9_0242ac1c0002row3_col6\" class=\"data row3 col6\" >0.100000</td>\n",
              "                        <td id=\"T_4a5c8ece_813d_11eb_b0a9_0242ac1c0002row3_col7\" class=\"data row3 col7\" >0.100000</td>\n",
              "                        <td id=\"T_4a5c8ece_813d_11eb_b0a9_0242ac1c0002row3_col8\" class=\"data row3 col8\" >0.100000</td>\n",
              "                        <td id=\"T_4a5c8ece_813d_11eb_b0a9_0242ac1c0002row3_col9\" class=\"data row3 col9\" >0.100000</td>\n",
              "                        <td id=\"T_4a5c8ece_813d_11eb_b0a9_0242ac1c0002row3_col10\" class=\"data row3 col10\" >0</td>\n",
              "            </tr>\n",
              "            <tr>\n",
              "                        <th id=\"T_4a5c8ece_813d_11eb_b0a9_0242ac1c0002level0_row4\" class=\"row_heading level0 row4\" >Doc4</th>\n",
              "                        <td id=\"T_4a5c8ece_813d_11eb_b0a9_0242ac1c0002row4_col0\" class=\"data row4 col0\" >0.100000</td>\n",
              "                        <td id=\"T_4a5c8ece_813d_11eb_b0a9_0242ac1c0002row4_col1\" class=\"data row4 col1\" >0.100000</td>\n",
              "                        <td id=\"T_4a5c8ece_813d_11eb_b0a9_0242ac1c0002row4_col2\" class=\"data row4 col2\" >0.100000</td>\n",
              "                        <td id=\"T_4a5c8ece_813d_11eb_b0a9_0242ac1c0002row4_col3\" class=\"data row4 col3\" >0.100000</td>\n",
              "                        <td id=\"T_4a5c8ece_813d_11eb_b0a9_0242ac1c0002row4_col4\" class=\"data row4 col4\" >0.100000</td>\n",
              "                        <td id=\"T_4a5c8ece_813d_11eb_b0a9_0242ac1c0002row4_col5\" class=\"data row4 col5\" >0.100000</td>\n",
              "                        <td id=\"T_4a5c8ece_813d_11eb_b0a9_0242ac1c0002row4_col6\" class=\"data row4 col6\" >0.100000</td>\n",
              "                        <td id=\"T_4a5c8ece_813d_11eb_b0a9_0242ac1c0002row4_col7\" class=\"data row4 col7\" >0.100000</td>\n",
              "                        <td id=\"T_4a5c8ece_813d_11eb_b0a9_0242ac1c0002row4_col8\" class=\"data row4 col8\" >0.100000</td>\n",
              "                        <td id=\"T_4a5c8ece_813d_11eb_b0a9_0242ac1c0002row4_col9\" class=\"data row4 col9\" >0.100000</td>\n",
              "                        <td id=\"T_4a5c8ece_813d_11eb_b0a9_0242ac1c0002row4_col10\" class=\"data row4 col10\" >0</td>\n",
              "            </tr>\n",
              "            <tr>\n",
              "                        <th id=\"T_4a5c8ece_813d_11eb_b0a9_0242ac1c0002level0_row5\" class=\"row_heading level0 row5\" >Doc5</th>\n",
              "                        <td id=\"T_4a5c8ece_813d_11eb_b0a9_0242ac1c0002row5_col0\" class=\"data row5 col0\" >0.050000</td>\n",
              "                        <td id=\"T_4a5c8ece_813d_11eb_b0a9_0242ac1c0002row5_col1\" class=\"data row5 col1\" >0.550000</td>\n",
              "                        <td id=\"T_4a5c8ece_813d_11eb_b0a9_0242ac1c0002row5_col2\" class=\"data row5 col2\" >0.050000</td>\n",
              "                        <td id=\"T_4a5c8ece_813d_11eb_b0a9_0242ac1c0002row5_col3\" class=\"data row5 col3\" >0.050000</td>\n",
              "                        <td id=\"T_4a5c8ece_813d_11eb_b0a9_0242ac1c0002row5_col4\" class=\"data row5 col4\" >0.050000</td>\n",
              "                        <td id=\"T_4a5c8ece_813d_11eb_b0a9_0242ac1c0002row5_col5\" class=\"data row5 col5\" >0.050000</td>\n",
              "                        <td id=\"T_4a5c8ece_813d_11eb_b0a9_0242ac1c0002row5_col6\" class=\"data row5 col6\" >0.050000</td>\n",
              "                        <td id=\"T_4a5c8ece_813d_11eb_b0a9_0242ac1c0002row5_col7\" class=\"data row5 col7\" >0.050000</td>\n",
              "                        <td id=\"T_4a5c8ece_813d_11eb_b0a9_0242ac1c0002row5_col8\" class=\"data row5 col8\" >0.050000</td>\n",
              "                        <td id=\"T_4a5c8ece_813d_11eb_b0a9_0242ac1c0002row5_col9\" class=\"data row5 col9\" >0.050000</td>\n",
              "                        <td id=\"T_4a5c8ece_813d_11eb_b0a9_0242ac1c0002row5_col10\" class=\"data row5 col10\" >1</td>\n",
              "            </tr>\n",
              "            <tr>\n",
              "                        <th id=\"T_4a5c8ece_813d_11eb_b0a9_0242ac1c0002level0_row6\" class=\"row_heading level0 row6\" >Doc6</th>\n",
              "                        <td id=\"T_4a5c8ece_813d_11eb_b0a9_0242ac1c0002row6_col0\" class=\"data row6 col0\" >0.050000</td>\n",
              "                        <td id=\"T_4a5c8ece_813d_11eb_b0a9_0242ac1c0002row6_col1\" class=\"data row6 col1\" >0.050000</td>\n",
              "                        <td id=\"T_4a5c8ece_813d_11eb_b0a9_0242ac1c0002row6_col2\" class=\"data row6 col2\" >0.050000</td>\n",
              "                        <td id=\"T_4a5c8ece_813d_11eb_b0a9_0242ac1c0002row6_col3\" class=\"data row6 col3\" >0.050000</td>\n",
              "                        <td id=\"T_4a5c8ece_813d_11eb_b0a9_0242ac1c0002row6_col4\" class=\"data row6 col4\" >0.050000</td>\n",
              "                        <td id=\"T_4a5c8ece_813d_11eb_b0a9_0242ac1c0002row6_col5\" class=\"data row6 col5\" >0.050000</td>\n",
              "                        <td id=\"T_4a5c8ece_813d_11eb_b0a9_0242ac1c0002row6_col6\" class=\"data row6 col6\" >0.050000</td>\n",
              "                        <td id=\"T_4a5c8ece_813d_11eb_b0a9_0242ac1c0002row6_col7\" class=\"data row6 col7\" >0.050000</td>\n",
              "                        <td id=\"T_4a5c8ece_813d_11eb_b0a9_0242ac1c0002row6_col8\" class=\"data row6 col8\" >0.550000</td>\n",
              "                        <td id=\"T_4a5c8ece_813d_11eb_b0a9_0242ac1c0002row6_col9\" class=\"data row6 col9\" >0.050000</td>\n",
              "                        <td id=\"T_4a5c8ece_813d_11eb_b0a9_0242ac1c0002row6_col10\" class=\"data row6 col10\" >8</td>\n",
              "            </tr>\n",
              "            <tr>\n",
              "                        <th id=\"T_4a5c8ece_813d_11eb_b0a9_0242ac1c0002level0_row7\" class=\"row_heading level0 row7\" >Doc7</th>\n",
              "                        <td id=\"T_4a5c8ece_813d_11eb_b0a9_0242ac1c0002row7_col0\" class=\"data row7 col0\" >0.100000</td>\n",
              "                        <td id=\"T_4a5c8ece_813d_11eb_b0a9_0242ac1c0002row7_col1\" class=\"data row7 col1\" >0.100000</td>\n",
              "                        <td id=\"T_4a5c8ece_813d_11eb_b0a9_0242ac1c0002row7_col2\" class=\"data row7 col2\" >0.100000</td>\n",
              "                        <td id=\"T_4a5c8ece_813d_11eb_b0a9_0242ac1c0002row7_col3\" class=\"data row7 col3\" >0.100000</td>\n",
              "                        <td id=\"T_4a5c8ece_813d_11eb_b0a9_0242ac1c0002row7_col4\" class=\"data row7 col4\" >0.100000</td>\n",
              "                        <td id=\"T_4a5c8ece_813d_11eb_b0a9_0242ac1c0002row7_col5\" class=\"data row7 col5\" >0.100000</td>\n",
              "                        <td id=\"T_4a5c8ece_813d_11eb_b0a9_0242ac1c0002row7_col6\" class=\"data row7 col6\" >0.100000</td>\n",
              "                        <td id=\"T_4a5c8ece_813d_11eb_b0a9_0242ac1c0002row7_col7\" class=\"data row7 col7\" >0.100000</td>\n",
              "                        <td id=\"T_4a5c8ece_813d_11eb_b0a9_0242ac1c0002row7_col8\" class=\"data row7 col8\" >0.100000</td>\n",
              "                        <td id=\"T_4a5c8ece_813d_11eb_b0a9_0242ac1c0002row7_col9\" class=\"data row7 col9\" >0.100000</td>\n",
              "                        <td id=\"T_4a5c8ece_813d_11eb_b0a9_0242ac1c0002row7_col10\" class=\"data row7 col10\" >0</td>\n",
              "            </tr>\n",
              "            <tr>\n",
              "                        <th id=\"T_4a5c8ece_813d_11eb_b0a9_0242ac1c0002level0_row8\" class=\"row_heading level0 row8\" >Doc8</th>\n",
              "                        <td id=\"T_4a5c8ece_813d_11eb_b0a9_0242ac1c0002row8_col0\" class=\"data row8 col0\" >0.100000</td>\n",
              "                        <td id=\"T_4a5c8ece_813d_11eb_b0a9_0242ac1c0002row8_col1\" class=\"data row8 col1\" >0.100000</td>\n",
              "                        <td id=\"T_4a5c8ece_813d_11eb_b0a9_0242ac1c0002row8_col2\" class=\"data row8 col2\" >0.100000</td>\n",
              "                        <td id=\"T_4a5c8ece_813d_11eb_b0a9_0242ac1c0002row8_col3\" class=\"data row8 col3\" >0.100000</td>\n",
              "                        <td id=\"T_4a5c8ece_813d_11eb_b0a9_0242ac1c0002row8_col4\" class=\"data row8 col4\" >0.100000</td>\n",
              "                        <td id=\"T_4a5c8ece_813d_11eb_b0a9_0242ac1c0002row8_col5\" class=\"data row8 col5\" >0.100000</td>\n",
              "                        <td id=\"T_4a5c8ece_813d_11eb_b0a9_0242ac1c0002row8_col6\" class=\"data row8 col6\" >0.100000</td>\n",
              "                        <td id=\"T_4a5c8ece_813d_11eb_b0a9_0242ac1c0002row8_col7\" class=\"data row8 col7\" >0.100000</td>\n",
              "                        <td id=\"T_4a5c8ece_813d_11eb_b0a9_0242ac1c0002row8_col8\" class=\"data row8 col8\" >0.100000</td>\n",
              "                        <td id=\"T_4a5c8ece_813d_11eb_b0a9_0242ac1c0002row8_col9\" class=\"data row8 col9\" >0.100000</td>\n",
              "                        <td id=\"T_4a5c8ece_813d_11eb_b0a9_0242ac1c0002row8_col10\" class=\"data row8 col10\" >0</td>\n",
              "            </tr>\n",
              "            <tr>\n",
              "                        <th id=\"T_4a5c8ece_813d_11eb_b0a9_0242ac1c0002level0_row9\" class=\"row_heading level0 row9\" >Doc9</th>\n",
              "                        <td id=\"T_4a5c8ece_813d_11eb_b0a9_0242ac1c0002row9_col0\" class=\"data row9 col0\" >0.100000</td>\n",
              "                        <td id=\"T_4a5c8ece_813d_11eb_b0a9_0242ac1c0002row9_col1\" class=\"data row9 col1\" >0.100000</td>\n",
              "                        <td id=\"T_4a5c8ece_813d_11eb_b0a9_0242ac1c0002row9_col2\" class=\"data row9 col2\" >0.100000</td>\n",
              "                        <td id=\"T_4a5c8ece_813d_11eb_b0a9_0242ac1c0002row9_col3\" class=\"data row9 col3\" >0.100000</td>\n",
              "                        <td id=\"T_4a5c8ece_813d_11eb_b0a9_0242ac1c0002row9_col4\" class=\"data row9 col4\" >0.100000</td>\n",
              "                        <td id=\"T_4a5c8ece_813d_11eb_b0a9_0242ac1c0002row9_col5\" class=\"data row9 col5\" >0.100000</td>\n",
              "                        <td id=\"T_4a5c8ece_813d_11eb_b0a9_0242ac1c0002row9_col6\" class=\"data row9 col6\" >0.100000</td>\n",
              "                        <td id=\"T_4a5c8ece_813d_11eb_b0a9_0242ac1c0002row9_col7\" class=\"data row9 col7\" >0.100000</td>\n",
              "                        <td id=\"T_4a5c8ece_813d_11eb_b0a9_0242ac1c0002row9_col8\" class=\"data row9 col8\" >0.100000</td>\n",
              "                        <td id=\"T_4a5c8ece_813d_11eb_b0a9_0242ac1c0002row9_col9\" class=\"data row9 col9\" >0.100000</td>\n",
              "                        <td id=\"T_4a5c8ece_813d_11eb_b0a9_0242ac1c0002row9_col10\" class=\"data row9 col10\" >0</td>\n",
              "            </tr>\n",
              "    </tbody></table>"
            ],
            "text/plain": [
              "<pandas.io.formats.style.Styler at 0x7f6bf937d8d0>"
            ]
          },
          "metadata": {
            "tags": []
          },
          "execution_count": 18
        }
      ]
    },
    {
      "cell_type": "code",
      "metadata": {
        "colab": {
          "base_uri": "https://localhost:8080/",
          "height": 861
        },
        "id": "iB1lAQb8r6ex",
        "outputId": "beeb2615-15d4-4962-d2ae-f13ace7e1658"
      },
      "source": [
        "pyLDAvis.enable_notebook()\r\n",
        "pyLDAvis.sklearn.prepare(lda_model, data_vectorized, vectorizer, mds='tsne')"
      ],
      "execution_count": 19,
      "outputs": [
        {
          "output_type": "execute_result",
          "data": {
            "text/html": [
              "\n",
              "<link rel=\"stylesheet\" type=\"text/css\" href=\"https://cdn.jsdelivr.net/gh/bmabey/pyLDAvis@3.2.2/pyLDAvis/js/ldavis.v1.0.0.css\">\n",
              "\n",
              "\n",
              "<div id=\"ldavis_el591401017081408803804121124\"></div>\n",
              "<script type=\"text/javascript\">\n",
              "\n",
              "var ldavis_el591401017081408803804121124_data = {\"mdsDat\": {\"x\": [32.42095184326172, 0.648955225944519, 71.01968383789062, 3.7859814167022705, -42.666500091552734, -3.6216893196105957, -3.632401704788208, -36.58440017700195, 44.391380310058594, 40.235809326171875], \"y\": [8.115229606628418, 71.70709991455078, 9.971006393432617, 33.18513488769531, -9.22206974029541, -43.52651596069336, -4.171707630157471, 35.804412841796875, 50.61538314819336, -31.591665267944336], \"topics\": [1, 2, 3, 4, 5, 6, 7, 8, 9, 10], \"cluster\": [1, 1, 1, 1, 1, 1, 1, 1, 1, 1], \"Freq\": [11.456953639313467, 11.456953637449923, 10.711920526106502, 10.629139071342832, 10.215231784750323, 9.718543046881006, 9.552980134710628, 9.221854307262973, 8.89072848125594, 8.145695370926395]}, \"tinfo\": {\"Term\": [\"new\", \"amish\", \"tomasz\", \"state\", \"000\", \"johnson\", \"deal\", \"time\", \"bannatyne\", \"people\", \"muslim\", \"area\", \"season\", \"message\", \"year\", \"loan\", \"family\", \"old\", \"dencia\", \"syrian\", \"martinez\", \"liverpool\", \"york\", \"talk\", \"iraq\", \"shilov\", \"population\", \"air\", \"instagram\", \"follower\", \"amish\", \"people\", \"york\", \"pennsylvania\", \"united\", \"letter\", \"islamic\", \"britain\", \"skin\", \"player\", \"going\", \"rojas\", \"day\", \"threat\", \"british\", \"government\", \"star\", \"cleverley\", \"russian\", \"photo\", \"jihadist\", \"iraq\", \"air\", \"manager\", \"instagram\", \"video\", \"population\", \"follower\", \"talk\", \"shilov\", \"martinez\", \"old\", \"liverpool\", \"loan\", \"message\", \"new\", \"syrian\", \"muslim\", \"area\", \"000\", \"year\", \"liverpool\", \"day\", \"going\", \"letter\", \"islamic\", \"britain\", \"united\", \"skin\", \"player\", \"rojas\", \"threat\", \"pennsylvania\", \"british\", \"government\", \"star\", \"cleverley\", \"russian\", \"photo\", \"jihadist\", \"iraq\", \"air\", \"manager\", \"instagram\", \"video\", \"population\", \"follower\", \"talk\", \"shilov\", \"message\", \"amish\", \"dencia\", \"tomasz\", \"state\", \"deal\", \"people\", \"bannatyne\", \"york\", \"family\", \"tomasz\", \"follower\", \"video\", \"jihadist\", \"britain\", \"islamic\", \"letter\", \"united\", \"skin\", \"player\", \"going\", \"rojas\", \"day\", \"threat\", \"pennsylvania\", \"british\", \"government\", \"star\", \"cleverley\", \"russian\", \"photo\", \"iraq\", \"air\", \"manager\", \"instagram\", \"population\", \"talk\", \"shilov\", \"syrian\", \"dencia\", \"deal\", \"time\", \"bannatyne\", \"message\", \"state\", \"amish\", \"area\", \"york\", \"000\", \"loan\", \"people\", \"new\", \"shilov\", \"russian\", \"government\", \"threat\", \"letter\", \"islamic\", \"britain\", \"united\", \"skin\", \"player\", \"going\", \"rojas\", \"day\", \"pennsylvania\", \"british\", \"star\", \"cleverley\", \"photo\", \"jihadist\", \"iraq\", \"air\", \"manager\", \"instagram\", \"video\", \"population\", \"follower\", \"talk\", \"syrian\", \"dencia\", \"season\", \"loan\", \"state\", \"muslim\", \"year\", \"johnson\", \"deal\", \"tomasz\", \"family\", \"york\", \"population\", \"instagram\", \"manager\", \"photo\", \"rojas\", \"player\", \"skin\", \"letter\", \"islamic\", \"britain\", \"united\", \"going\", \"day\", \"threat\", \"pennsylvania\", \"british\", \"government\", \"star\", \"cleverley\", \"russian\", \"jihadist\", \"iraq\", \"air\", \"video\", \"follower\", \"talk\", \"shilov\", \"syrian\", \"dencia\", \"martinez\", \"bannatyne\", \"loan\", \"000\", \"johnson\", \"state\", \"york\", \"liverpool\", \"time\", \"new\", \"deal\", \"family\", \"johnson\", \"family\", \"air\", \"cleverley\", \"star\", \"letter\", \"islamic\", \"britain\", \"united\", \"skin\", \"player\", \"going\", \"rojas\", \"day\", \"threat\", \"pennsylvania\", \"british\", \"government\", \"russian\", \"photo\", \"jihadist\", \"iraq\", \"manager\", \"instagram\", \"video\", \"population\", \"follower\", \"talk\", \"shilov\", \"syrian\", \"dencia\", \"liverpool\", \"time\", \"area\", \"message\", \"amish\", \"muslim\", \"tomasz\", \"bannatyne\", \"old\", \"state\", \"message\", \"martinez\", \"talk\", \"letter\", \"islamic\", \"britain\", \"united\", \"skin\", \"player\", \"going\", \"rojas\", \"day\", \"threat\", \"pennsylvania\", \"british\", \"government\", \"star\", \"cleverley\", \"russian\", \"photo\", \"jihadist\", \"iraq\", \"air\", \"manager\", \"instagram\", \"video\", \"population\", \"follower\", \"shilov\", \"dencia\", \"family\", \"syrian\", \"tomasz\", \"time\", \"amish\", \"new\", \"season\", \"liverpool\", \"old\", \"york\", \"johnson\", \"time\", \"bannatyne\", \"area\", \"british\", \"letter\", \"islamic\", \"britain\", \"united\", \"skin\", \"player\", \"going\", \"rojas\", \"day\", \"threat\", \"pennsylvania\", \"government\", \"star\", \"cleverley\", \"russian\", \"photo\", \"jihadist\", \"iraq\", \"air\", \"manager\", \"instagram\", \"video\", \"population\", \"follower\", \"talk\", \"shilov\", \"dencia\", \"000\", \"tomasz\", \"year\", \"liverpool\", \"johnson\", \"loan\", \"people\", \"deal\", \"muslim\", \"old\", \"iraq\", \"letter\", \"islamic\", \"britain\", \"united\", \"skin\", \"player\", \"going\", \"rojas\", \"day\", \"threat\", \"pennsylvania\", \"british\", \"government\", \"star\", \"cleverley\", \"russian\", \"photo\", \"jihadist\", \"air\", \"manager\", \"instagram\", \"video\", \"population\", \"follower\", \"talk\", \"shilov\", \"bannatyne\", \"family\", \"time\", \"state\", \"johnson\", \"liverpool\", \"area\", \"loan\", \"new\", \"york\", \"amish\", \"season\", \"loan\", \"dencia\", \"syrian\", \"letter\", \"islamic\", \"britain\", \"united\", \"skin\", \"player\", \"going\", \"rojas\", \"day\", \"threat\", \"pennsylvania\", \"british\", \"government\", \"star\", \"cleverley\", \"russian\", \"photo\", \"jihadist\", \"iraq\", \"air\", \"manager\", \"instagram\", \"video\", \"population\", \"follower\", \"talk\", \"year\", \"liverpool\", \"tomasz\", \"york\", \"muslim\", \"shilov\", \"johnson\", \"martinez\", \"new\", \"old\", \"amish\"], \"Freq\": [27.0, 25.0, 21.0, 20.0, 21.0, 17.0, 16.0, 16.0, 15.0, 16.0, 14.0, 14.0, 12.0, 14.0, 14.0, 12.0, 12.0, 11.0, 11.0, 10.0, 11.0, 12.0, 12.0, 10.0, 9.0, 10.0, 10.0, 9.0, 10.0, 10.0, 24.58628175976243, 15.657877481567372, 11.87761460128587, 7.2837256263031245, 6.260463364483341, 0.07853356640831129, 0.07853318610030581, 0.07853333502421017, 0.07853360049518407, 0.07853311406311646, 0.07853403145244442, 0.07853366426991891, 0.07853324533549988, 0.07853383515518388, 0.07853348505501122, 0.07853282205461831, 0.07857117758281815, 0.0785334405348403, 0.07853330933367028, 0.07853334539258931, 0.07853371521187963, 0.07853329282118761, 0.07853307940110311, 0.07853274405243024, 0.07853344133230825, 0.07853314296462774, 0.07853334410515568, 0.07853324578940112, 0.07853343737444787, 0.07853298567182497, 0.07853377408426668, 0.07853365439669585, 0.07853363954708711, 0.07853359326560287, 0.07853350915306376, 0.0785334208973796, 0.07853341292533061, 0.07853335124539323, 0.07853333449938293, 20.526535509223482, 14.006290885172156, 11.881558130336694, 7.036153798491532, 6.99587653410284, 5.322779036920508, 0.07796649862584447, 0.07796621290959582, 0.07796623112739647, 0.07796629841893508, 0.07796595093398508, 0.07796591352363194, 0.07796612197031919, 0.077966211047167, 0.0779663081226287, 0.07796672825234412, 0.07796614253420792, 0.07796614087764575, 0.07796569792409173, 0.07796621882886619, 0.07796588874095702, 0.07796651575825213, 0.07796621265096376, 0.07796576446863912, 0.07796576723944251, 0.07796573741297481, 0.07796601715290229, 0.07796551694565246, 0.07796602984656048, 0.0779662313400608, 0.07826502684686, 0.07796662572926023, 0.07796650719685275, 0.07796635076073874, 0.07796621055291912, 0.07796619395343793, 0.07796610180214489, 0.07796609194238258, 0.07796606854395616, 0.07796605657627986, 21.1507921980123, 9.625867650540396, 9.48006665880836, 8.959274910673901, 6.2489168680889415, 5.578972957799545, 0.08309321704492134, 0.08309327600540724, 0.08309336880484516, 0.08309328704207287, 0.08309344089260032, 0.08309345317531636, 0.08309343591808935, 0.08309376737288422, 0.08309375520093998, 0.08309322167482869, 0.08309353772877029, 0.0830932528322772, 0.08309353085303632, 0.08309416116276915, 0.08309377566168223, 0.08309352095908759, 0.08309314395164907, 0.0830932885790486, 0.08309291172561593, 0.08309276381784476, 0.08309325294983957, 0.08309300795843054, 0.08309376482130107, 0.0830937509155599, 0.08309384833721223, 0.08309372094622287, 0.08309360530976576, 0.08309356429279594, 0.08309351389352347, 0.08309346402414387, 0.08309345981192791, 0.08309339577018025, 0.08309335992961049, 0.08309334123165336, 0.08309330476599956, 26.788476579953144, 9.943156879039927, 8.37400695046044, 7.960098721732211, 7.234734541862284, 0.08665569815671824, 0.08665526606724727, 0.08665554166274805, 0.08665594029744167, 0.08667679899480153, 0.0866559223602076, 0.08665538060015238, 0.08665530568331135, 0.08665595698275577, 0.08665538635156936, 0.08665555583507324, 0.08665620221004244, 0.08665586570869822, 0.08665578921638022, 0.08665523390062134, 0.0866558706056154, 0.08665573363341889, 0.08665573246896946, 0.08665563503775905, 0.08665576468834155, 0.08665570367621053, 0.08665561635646606, 0.08665564995398253, 0.08665586055114277, 0.08665568264429507, 0.08665620330101675, 0.08665617680409872, 0.08665595599365801, 0.08665593488610213, 0.08665592484223543, 0.08665580369950626, 0.08665578270508627, 0.08665577124294221, 0.08665573223993257, 0.08665569536418796, 9.586183344392841, 9.429477882384631, 9.300084369974055, 8.935496001962418, 7.016507404733729, 6.9667371892451815, 6.723251949011182, 0.0870294949402589, 0.08702964942244651, 0.08702917528088785, 0.0870296371715697, 0.08702919436854081, 0.08702912340408141, 0.0870288795363041, 0.08702899569528112, 0.08702917431129405, 0.08702945248656327, 0.08702918471413498, 0.08702986689508041, 0.08702939016866217, 0.08702937214827412, 0.08702944975476938, 0.08702947588836799, 0.08702921145835976, 0.08702913208023912, 0.08702937277815695, 0.0870294488273248, 0.08702906998963086, 0.08702935562127863, 0.0870295838089123, 0.08702966700631146, 0.0870296441857126, 0.08702963322883707, 0.08702962191447822, 0.08702955992717902, 0.08702950457709013, 0.08702944926973492, 0.08702937419009245, 0.08702936777343577, 0.08702936547089445, 0.08702936170412014, 17.085832471295973, 11.550022668579766, 9.146725524337707, 8.364682813390202, 8.321339613085849, 0.09402941866755597, 0.09402922436188425, 0.09402967320484246, 0.0940292480733847, 0.0940294000528747, 0.09402953082888046, 0.09402980119538941, 0.09402952815204703, 0.09402942390456485, 0.09402910040435829, 0.09402975581031935, 0.09402917864009652, 0.0940297399673449, 0.09402935603290757, 0.09402990489216545, 0.09402964072897692, 0.09402966434361987, 0.0940297190896274, 0.09402986814597174, 0.09402976183037848, 0.09403010393650561, 0.09402947612012925, 0.09402925321802469, 0.09402942075544996, 0.09409682137927289, 0.09403015799066125, 0.09403015458977161, 0.09402983879749119, 0.0940297701140151, 0.09402976165038185, 0.09402967790082543, 0.09402967100166411, 0.09402965824920205, 0.09402960334773976, 0.09402959918841775, 19.541010963579417, 13.192013393133388, 10.869802924833735, 9.693461052526315, 0.09573315702283046, 0.09573263840653097, 0.0957328789536157, 0.09573239879096146, 0.09573282276242952, 0.09573269863848015, 0.09573278964482754, 0.09573252584797295, 0.09573302868485627, 0.09573268713103635, 0.09573294092464123, 0.09573247978232817, 0.09573321833471231, 0.09573277303231517, 0.09573295134585602, 0.09573311924969653, 0.09573271296927953, 0.09573295072870697, 0.09573285414089584, 0.09573245629947769, 0.09573273796697453, 0.09573310295838347, 0.0957330564799035, 0.09573299480260918, 0.09573275687936679, 0.09573308249120091, 0.09573358795381436, 0.09573329954544943, 0.0957332174066092, 0.0957330974495077, 0.09573308264805011, 0.09573307597446575, 0.09573301567067005, 0.09573299819838356, 0.09573296566544483, 0.09573291103543269, 0.09573285532066343, 0.09573284021440313, 15.520657717292, 14.719702329082688, 13.263217258632206, 7.835592377864177, 0.09479549793969759, 0.09479497621384787, 0.0947951357548587, 0.0947955694376132, 0.09479504081183843, 0.09479566728204064, 0.09479591250696438, 0.0947956131173169, 0.09479587274924943, 0.09479537909050201, 0.09479574910187305, 0.09479509607154951, 0.09479562688429478, 0.09479536247034441, 0.09479561871344526, 0.09479563417097848, 0.09479527426609306, 0.09479555336696296, 0.09482848313820683, 0.09479573877261178, 0.09479528796965946, 0.09479559639736562, 0.09479563152845008, 0.09495642779953757, 0.09481813070776927, 0.09479543075582608, 0.09481839226377427, 0.0947958886683807, 0.0947957930300697, 0.09479570798282479, 0.09479566460717802, 0.09479556523772285, 0.09479550749642597, 0.09479542894432508, 15.266916643675508, 13.247476140762307, 10.923908724647253, 9.1453643424617, 0.11125334837004683, 0.11122285488738037, 0.11122336806337528, 0.11122298515619457, 0.11122297756103937, 0.11122320413075952, 0.11122368195826506, 0.11122333038769935, 0.11122253936254062, 0.1112233911321217, 0.11122363679481141, 0.11126208736074258, 0.11122300185812155, 0.1112235804964494, 0.11122318583535978, 0.1112229146811732, 0.11122325943886588, 0.11122326055233785, 0.11122329817620594, 0.11122298484410255, 0.11122310106544774, 0.11122280321440464, 0.1112231861547025, 0.11122286448351082, 0.11122262645196221, 0.11122311495915953, 0.11122399636467226, 0.11122381070973035, 0.11122362514085399, 0.11122351156966571, 0.11122345566163734, 0.11122336406182022, 0.11122326059608952, 0.11122318331804731, 0.11122316834224728, 0.11122313422247171, 0.11122312676189215, 12.125226362884902, 11.2316856197187, 10.271411714590426, 10.005102115121689, 0.12101149605245216, 0.12101153801504222, 0.12101097595077408, 0.121011352038623, 0.12104035908985007, 0.121010966735579, 0.12101083214579006, 0.12101131061391339, 0.12101112009242299, 0.12101129550676332, 0.12101133210794315, 0.12101164587671083, 0.1210108695875091, 0.12101137744171588, 0.12101155731105706, 0.12101119787111525, 0.12101132683464451, 0.1210106396340625, 0.12101101977953269, 0.12101113658613591, 0.12101104482507143, 0.12101093476896387, 0.12101090656039042, 0.1210113929605237, 0.12101155250237493, 0.12101102520772967, 0.12104075127219993, 0.1210120292596676, 0.1210118898181176, 0.12101165170337123, 0.12101160578535304, 0.12101152936682526, 0.12101145624280409, 0.12101133774246663, 0.12101132637589672, 0.12101127427560295, 0.12101118403104023], \"Total\": [27.0, 25.0, 21.0, 20.0, 21.0, 17.0, 16.0, 16.0, 15.0, 16.0, 14.0, 14.0, 12.0, 14.0, 14.0, 12.0, 12.0, 11.0, 11.0, 10.0, 11.0, 12.0, 12.0, 10.0, 9.0, 10.0, 10.0, 9.0, 10.0, 10.0, 25.4378187405079, 16.509412387844264, 12.729151646796954, 8.135263389337672, 7.112000002581933, 6.174913931523301, 6.425948789900076, 7.09589316489385, 7.56634261600298, 7.809777531260303, 7.847981598867815, 7.859548049504858, 7.888257544925592, 8.078148999161758, 8.670905514522891, 8.803513188073747, 9.157418930814107, 9.20072471522212, 9.217421715597972, 9.77853796936787, 9.806250886585811, 9.964212083991624, 9.982798544063236, 10.143124125041531, 10.272517932628187, 10.327042639815108, 10.429224482527747, 10.473004239497074, 10.527819831014789, 10.786571131166031, 11.704139526536995, 11.742755198640458, 12.733663777009108, 12.040744816268464, 14.026648375487234, 27.631890677377537, 10.814228336041518, 14.066322190076628, 14.098491087924971, 21.378639001278472, 14.858423590735237, 12.733663777009108, 7.888257544925592, 7.847981598867815, 6.174913931523301, 6.425948789900076, 7.09589316489385, 7.112000002581933, 7.56634261600298, 7.809777531260303, 7.859548049504858, 8.078148999161758, 8.135263389337672, 8.670905514522891, 8.803513188073747, 9.157418930814107, 9.20072471522212, 9.217421715597972, 9.77853796936787, 9.806250886585811, 9.964212083991624, 9.982798544063236, 10.143124125041531, 10.272517932628187, 10.327042639815108, 10.429224482527747, 10.473004239497074, 10.527819831014789, 10.786571131166031, 14.026648375487234, 25.4378187405079, 11.080495364787401, 21.997770302313363, 20.375347985095956, 16.08576312327414, 16.509412387844264, 15.554977257110231, 12.729151646796954, 12.386063160609202, 21.997770302313363, 10.473004239497074, 10.327042639815108, 9.806250886585811, 7.09589316489385, 6.425948789900076, 6.174913931523301, 7.112000002581933, 7.56634261600298, 7.809777531260303, 7.847981598867815, 7.859548049504858, 7.888257544925592, 8.078148999161758, 8.135263389337672, 8.670905514522891, 8.803513188073747, 9.157418930814107, 9.20072471522212, 9.217421715597972, 9.77853796936787, 9.964212083991624, 9.982798544063236, 10.143124125041531, 10.272517932628187, 10.429224482527747, 10.527819831014789, 10.786571131166031, 10.814228336041518, 11.080495364787401, 16.08576312327414, 16.355932638906665, 15.554977257110231, 14.026648375487234, 20.375347985095956, 25.4378187405079, 14.098491087924971, 12.729151646796954, 21.378639001278472, 12.040744816268464, 16.509412387844264, 27.631890677377537, 10.786571131166031, 9.217421715597972, 8.803513188073747, 8.078148999161758, 6.174913931523301, 6.425948789900076, 7.09589316489385, 7.112000002581933, 7.56634261600298, 7.809777531260303, 7.847981598867815, 7.859548049504858, 7.888257544925592, 8.135263389337672, 8.670905514522891, 9.157418930814107, 9.20072471522212, 9.77853796936787, 9.806250886585811, 9.964212083991624, 9.982798544063236, 10.143124125041531, 10.272517932628187, 10.327042639815108, 10.429224482527747, 10.473004239497074, 10.527819831014789, 10.814228336041518, 11.080495364787401, 12.934284034923834, 12.040744816268464, 20.375347985095956, 14.066322190076628, 14.858423590735237, 17.921873232563616, 16.08576312327414, 21.997770302313363, 12.386063160609202, 12.729151646796954, 10.429224482527747, 10.272517932628187, 10.143124125041531, 9.77853796936787, 7.859548049504858, 7.809777531260303, 7.56634261600298, 6.174913931523301, 6.425948789900076, 7.09589316489385, 7.112000002581933, 7.847981598867815, 7.888257544925592, 8.078148999161758, 8.135263389337672, 8.670905514522891, 8.803513188073747, 9.157418930814107, 9.20072471522212, 9.217421715597972, 9.806250886585811, 9.964212083991624, 9.982798544063236, 10.327042639815108, 10.473004239497074, 10.527819831014789, 10.786571131166031, 10.814228336041518, 11.080495364787401, 11.704139526536995, 15.554977257110231, 12.040744816268464, 21.378639001278472, 17.921873232563616, 20.375347985095956, 12.729151646796954, 12.733663777009108, 16.355932638906665, 27.631890677377537, 16.08576312327414, 12.386063160609202, 17.921873232563616, 12.386063160609202, 9.982798544063236, 9.20072471522212, 9.157418930814107, 6.174913931523301, 6.425948789900076, 7.09589316489385, 7.112000002581933, 7.56634261600298, 7.809777531260303, 7.847981598867815, 7.859548049504858, 7.888257544925592, 8.078148999161758, 8.135263389337672, 8.670905514522891, 8.803513188073747, 9.217421715597972, 9.77853796936787, 9.806250886585811, 9.964212083991624, 10.143124125041531, 10.272517932628187, 10.327042639815108, 10.429224482527747, 10.473004239497074, 10.527819831014789, 10.786571131166031, 10.814228336041518, 11.080495364787401, 12.733663777009108, 16.355932638906665, 14.098491087924971, 14.026648375487234, 25.4378187405079, 14.066322190076628, 21.997770302313363, 15.554977257110231, 11.742755198640458, 20.375347985095956, 14.026648375487234, 11.704139526536995, 10.527819831014789, 6.174913931523301, 6.425948789900076, 7.09589316489385, 7.112000002581933, 7.56634261600298, 7.809777531260303, 7.847981598867815, 7.859548049504858, 7.888257544925592, 8.078148999161758, 8.135263389337672, 8.670905514522891, 8.803513188073747, 9.157418930814107, 9.20072471522212, 9.217421715597972, 9.77853796936787, 9.806250886585811, 9.964212083991624, 9.982798544063236, 10.143124125041531, 10.272517932628187, 10.327042639815108, 10.429224482527747, 10.473004239497074, 10.786571131166031, 11.080495364787401, 12.386063160609202, 10.814228336041518, 21.997770302313363, 16.355932638906665, 25.4378187405079, 27.631890677377537, 12.934284034923834, 12.733663777009108, 11.742755198640458, 12.729151646796954, 17.921873232563616, 16.355932638906665, 15.554977257110231, 14.098491087924971, 8.670905514522891, 6.174913931523301, 6.425948789900076, 7.09589316489385, 7.112000002581933, 7.56634261600298, 7.809777531260303, 7.847981598867815, 7.859548049504858, 7.888257544925592, 8.078148999161758, 8.135263389337672, 8.803513188073747, 9.157418930814107, 9.20072471522212, 9.217421715597972, 9.77853796936787, 9.806250886585811, 9.964212083991624, 9.982798544063236, 10.143124125041531, 10.272517932628187, 10.327042639815108, 10.429224482527747, 10.473004239497074, 10.527819831014789, 10.786571131166031, 11.080495364787401, 21.378639001278472, 21.997770302313363, 14.858423590735237, 12.733663777009108, 17.921873232563616, 12.040744816268464, 16.509412387844264, 16.08576312327414, 14.066322190076628, 11.742755198640458, 9.964212083991624, 6.174913931523301, 6.425948789900076, 7.09589316489385, 7.112000002581933, 7.56634261600298, 7.809777531260303, 7.847981598867815, 7.859548049504858, 7.888257544925592, 8.078148999161758, 8.135263389337672, 8.670905514522891, 8.803513188073747, 9.157418930814107, 9.20072471522212, 9.217421715597972, 9.77853796936787, 9.806250886585811, 9.982798544063236, 10.143124125041531, 10.272517932628187, 10.327042639815108, 10.429224482527747, 10.473004239497074, 10.527819831014789, 10.786571131166031, 15.554977257110231, 12.386063160609202, 16.355932638906665, 20.375347985095956, 17.921873232563616, 12.733663777009108, 14.098491087924971, 12.040744816268464, 27.631890677377537, 12.729151646796954, 25.4378187405079, 12.934284034923834, 12.040744816268464, 11.080495364787401, 10.814228336041518, 6.174913931523301, 6.425948789900076, 7.09589316489385, 7.112000002581933, 7.56634261600298, 7.809777531260303, 7.847981598867815, 7.859548049504858, 7.888257544925592, 8.078148999161758, 8.135263389337672, 8.670905514522891, 8.803513188073747, 9.157418930814107, 9.20072471522212, 9.217421715597972, 9.77853796936787, 9.806250886585811, 9.964212083991624, 9.982798544063236, 10.143124125041531, 10.272517932628187, 10.327042639815108, 10.429224482527747, 10.473004239497074, 10.527819831014789, 14.858423590735237, 12.733663777009108, 21.997770302313363, 12.729151646796954, 14.066322190076628, 10.786571131166031, 17.921873232563616, 11.704139526536995, 27.631890677377537, 11.742755198640458, 25.4378187405079], \"Category\": [\"Default\", \"Default\", \"Default\", \"Default\", \"Default\", \"Default\", \"Default\", \"Default\", \"Default\", \"Default\", \"Default\", \"Default\", \"Default\", \"Default\", \"Default\", \"Default\", \"Default\", \"Default\", \"Default\", \"Default\", \"Default\", \"Default\", \"Default\", \"Default\", \"Default\", \"Default\", \"Default\", \"Default\", \"Default\", \"Default\", \"Topic1\", \"Topic1\", \"Topic1\", \"Topic1\", \"Topic1\", \"Topic1\", \"Topic1\", \"Topic1\", \"Topic1\", \"Topic1\", \"Topic1\", \"Topic1\", \"Topic1\", \"Topic1\", \"Topic1\", \"Topic1\", \"Topic1\", \"Topic1\", \"Topic1\", \"Topic1\", \"Topic1\", \"Topic1\", \"Topic1\", \"Topic1\", \"Topic1\", \"Topic1\", \"Topic1\", \"Topic1\", \"Topic1\", \"Topic1\", \"Topic1\", \"Topic1\", \"Topic1\", \"Topic1\", \"Topic1\", \"Topic1\", \"Topic1\", \"Topic1\", \"Topic1\", \"Topic2\", \"Topic2\", \"Topic2\", \"Topic2\", \"Topic2\", \"Topic2\", \"Topic2\", \"Topic2\", \"Topic2\", \"Topic2\", \"Topic2\", \"Topic2\", \"Topic2\", \"Topic2\", \"Topic2\", \"Topic2\", \"Topic2\", \"Topic2\", \"Topic2\", \"Topic2\", \"Topic2\", \"Topic2\", \"Topic2\", \"Topic2\", \"Topic2\", \"Topic2\", \"Topic2\", \"Topic2\", \"Topic2\", \"Topic2\", \"Topic2\", \"Topic2\", \"Topic2\", \"Topic2\", \"Topic2\", \"Topic2\", \"Topic2\", \"Topic2\", \"Topic2\", \"Topic2\", \"Topic3\", \"Topic3\", \"Topic3\", \"Topic3\", \"Topic3\", \"Topic3\", \"Topic3\", \"Topic3\", \"Topic3\", \"Topic3\", \"Topic3\", \"Topic3\", \"Topic3\", \"Topic3\", \"Topic3\", \"Topic3\", \"Topic3\", \"Topic3\", \"Topic3\", \"Topic3\", \"Topic3\", \"Topic3\", \"Topic3\", \"Topic3\", \"Topic3\", \"Topic3\", \"Topic3\", \"Topic3\", \"Topic3\", \"Topic3\", \"Topic3\", \"Topic3\", \"Topic3\", \"Topic3\", \"Topic3\", \"Topic3\", \"Topic3\", \"Topic3\", \"Topic3\", \"Topic3\", \"Topic3\", \"Topic4\", \"Topic4\", \"Topic4\", \"Topic4\", \"Topic4\", \"Topic4\", \"Topic4\", \"Topic4\", \"Topic4\", \"Topic4\", \"Topic4\", \"Topic4\", \"Topic4\", \"Topic4\", \"Topic4\", \"Topic4\", \"Topic4\", \"Topic4\", \"Topic4\", \"Topic4\", \"Topic4\", \"Topic4\", \"Topic4\", \"Topic4\", \"Topic4\", \"Topic4\", \"Topic4\", \"Topic4\", \"Topic4\", \"Topic4\", \"Topic4\", \"Topic4\", \"Topic4\", \"Topic4\", \"Topic4\", \"Topic4\", \"Topic4\", \"Topic4\", \"Topic4\", \"Topic4\", \"Topic5\", \"Topic5\", \"Topic5\", \"Topic5\", \"Topic5\", \"Topic5\", \"Topic5\", \"Topic5\", \"Topic5\", \"Topic5\", \"Topic5\", \"Topic5\", \"Topic5\", \"Topic5\", \"Topic5\", \"Topic5\", \"Topic5\", \"Topic5\", \"Topic5\", \"Topic5\", \"Topic5\", \"Topic5\", \"Topic5\", \"Topic5\", \"Topic5\", \"Topic5\", \"Topic5\", \"Topic5\", \"Topic5\", \"Topic5\", \"Topic5\", \"Topic5\", \"Topic5\", \"Topic5\", \"Topic5\", \"Topic5\", \"Topic5\", \"Topic5\", \"Topic5\", \"Topic5\", \"Topic5\", \"Topic6\", \"Topic6\", \"Topic6\", \"Topic6\", \"Topic6\", \"Topic6\", \"Topic6\", \"Topic6\", \"Topic6\", \"Topic6\", \"Topic6\", \"Topic6\", \"Topic6\", \"Topic6\", \"Topic6\", \"Topic6\", \"Topic6\", \"Topic6\", \"Topic6\", \"Topic6\", \"Topic6\", \"Topic6\", \"Topic6\", \"Topic6\", \"Topic6\", \"Topic6\", \"Topic6\", \"Topic6\", \"Topic6\", \"Topic6\", \"Topic6\", \"Topic6\", \"Topic6\", \"Topic6\", \"Topic6\", \"Topic6\", \"Topic6\", \"Topic6\", \"Topic6\", \"Topic6\", \"Topic7\", \"Topic7\", \"Topic7\", \"Topic7\", \"Topic7\", \"Topic7\", \"Topic7\", \"Topic7\", \"Topic7\", \"Topic7\", \"Topic7\", \"Topic7\", \"Topic7\", \"Topic7\", \"Topic7\", \"Topic7\", \"Topic7\", \"Topic7\", \"Topic7\", \"Topic7\", \"Topic7\", \"Topic7\", \"Topic7\", \"Topic7\", \"Topic7\", \"Topic7\", \"Topic7\", \"Topic7\", \"Topic7\", \"Topic7\", \"Topic7\", \"Topic7\", \"Topic7\", \"Topic7\", \"Topic7\", \"Topic7\", \"Topic7\", \"Topic7\", \"Topic7\", \"Topic7\", \"Topic7\", \"Topic7\", \"Topic8\", \"Topic8\", \"Topic8\", \"Topic8\", \"Topic8\", \"Topic8\", \"Topic8\", \"Topic8\", \"Topic8\", \"Topic8\", \"Topic8\", \"Topic8\", \"Topic8\", \"Topic8\", \"Topic8\", \"Topic8\", \"Topic8\", \"Topic8\", \"Topic8\", \"Topic8\", \"Topic8\", \"Topic8\", \"Topic8\", \"Topic8\", \"Topic8\", \"Topic8\", \"Topic8\", \"Topic8\", \"Topic8\", \"Topic8\", \"Topic8\", \"Topic8\", \"Topic8\", \"Topic8\", \"Topic8\", \"Topic8\", \"Topic8\", \"Topic8\", \"Topic9\", \"Topic9\", \"Topic9\", \"Topic9\", \"Topic9\", \"Topic9\", \"Topic9\", \"Topic9\", \"Topic9\", \"Topic9\", \"Topic9\", \"Topic9\", \"Topic9\", \"Topic9\", \"Topic9\", \"Topic9\", \"Topic9\", \"Topic9\", \"Topic9\", \"Topic9\", \"Topic9\", \"Topic9\", \"Topic9\", \"Topic9\", \"Topic9\", \"Topic9\", \"Topic9\", \"Topic9\", \"Topic9\", \"Topic9\", \"Topic9\", \"Topic9\", \"Topic9\", \"Topic9\", \"Topic9\", \"Topic9\", \"Topic9\", \"Topic9\", \"Topic9\", \"Topic9\", \"Topic9\", \"Topic10\", \"Topic10\", \"Topic10\", \"Topic10\", \"Topic10\", \"Topic10\", \"Topic10\", \"Topic10\", \"Topic10\", \"Topic10\", \"Topic10\", \"Topic10\", \"Topic10\", \"Topic10\", \"Topic10\", \"Topic10\", \"Topic10\", \"Topic10\", \"Topic10\", \"Topic10\", \"Topic10\", \"Topic10\", \"Topic10\", \"Topic10\", \"Topic10\", \"Topic10\", \"Topic10\", \"Topic10\", \"Topic10\", \"Topic10\", \"Topic10\", \"Topic10\", \"Topic10\", \"Topic10\", \"Topic10\", \"Topic10\", \"Topic10\", \"Topic10\", \"Topic10\", \"Topic10\", \"Topic10\"], \"logprob\": [30.0, 29.0, 28.0, 27.0, 26.0, 25.0, 24.0, 23.0, 22.0, 21.0, 20.0, 19.0, 18.0, 17.0, 16.0, 15.0, 14.0, 13.0, 12.0, 11.0, 10.0, 9.0, 8.0, 7.0, 6.0, 5.0, 4.0, 3.0, 2.0, 1.0, -1.0348, -1.486, -1.7623, -2.2514, -2.4027, -6.7812, -6.7812, -6.7812, -6.7812, -6.7812, -6.7812, -6.7812, -6.7812, -6.7812, -6.7812, -6.7812, -6.7808, -6.7812, -6.7812, -6.7812, -6.7812, -6.7812, -6.7812, -6.7812, -6.7812, -6.7812, -6.7812, -6.7812, -6.7812, -6.7812, -6.7812, -6.7812, -6.7812, -6.7812, -6.7812, -6.7812, -6.7812, -6.7812, -6.7812, -1.2153, -1.5975, -1.762, -2.2859, -2.2917, -2.565, -6.7885, -6.7885, -6.7885, -6.7885, -6.7885, -6.7885, -6.7885, -6.7885, -6.7885, -6.7885, -6.7885, -6.7885, -6.7885, -6.7885, -6.7885, -6.7885, -6.7885, -6.7885, -6.7885, -6.7885, -6.7885, -6.7885, -6.7885, -6.7885, -6.7847, -6.7885, -6.7885, -6.7885, -6.7885, -6.7885, -6.7885, -6.7885, -6.7885, -6.7885, -1.1181, -1.9053, -1.9206, -1.9771, -2.3374, -2.4508, -6.6576, -6.6576, -6.6576, -6.6576, -6.6576, -6.6576, -6.6576, -6.6575, -6.6575, -6.6576, -6.6575, -6.6576, -6.6575, -6.6575, -6.6575, -6.6575, -6.6576, -6.6576, -6.6576, -6.6576, -6.6576, -6.6576, -6.6575, -6.6575, -6.6575, -6.6575, -6.6575, -6.6575, -6.6575, -6.6576, -6.6576, -6.6576, -6.6576, -6.6576, -6.6576, -0.874, -1.8651, -2.0369, -2.0876, -2.1831, -6.6078, -6.6078, -6.6078, -6.6078, -6.6076, -6.6078, -6.6078, -6.6078, -6.6078, -6.6078, -6.6078, -6.6078, -6.6078, -6.6078, -6.6078, -6.6078, -6.6078, -6.6078, -6.6078, -6.6078, -6.6078, -6.6078, -6.6078, -6.6078, -6.6078, -6.6078, -6.6078, -6.6078, -6.6078, -6.6078, -6.6078, -6.6078, -6.6078, -6.6078, -6.6078, -1.862, -1.8784, -1.8923, -1.9323, -2.174, -2.1811, -2.2167, -6.5638, -6.5638, -6.5638, -6.5638, -6.5638, -6.5638, -6.5638, -6.5638, -6.5638, -6.5638, -6.5638, -6.5638, -6.5638, -6.5638, -6.5638, -6.5638, -6.5638, -6.5638, -6.5638, -6.5638, -6.5638, -6.5638, -6.5638, -6.5638, -6.5638, -6.5638, -6.5638, -6.5638, -6.5638, -6.5638, -6.5638, -6.5638, -6.5638, -6.5638, -1.2342, -1.6258, -1.859, -1.9484, -1.9536, -6.4366, -6.4366, -6.4366, -6.4366, -6.4366, -6.4366, -6.4366, -6.4366, -6.4366, -6.4366, -6.4366, -6.4366, -6.4366, -6.4366, -6.4366, -6.4366, -6.4366, -6.4366, -6.4366, -6.4366, -6.4366, -6.4366, -6.4366, -6.4366, -6.4359, -6.4366, -6.4366, -6.4366, -6.4366, -6.4366, -6.4366, -6.4366, -6.4366, -6.4366, -6.4366, -1.0827, -1.4756, -1.6693, -1.7838, -6.4014, -6.4015, -6.4015, -6.4015, -6.4015, -6.4015, -6.4015, -6.4015, -6.4014, -6.4015, -6.4015, -6.4015, -6.4014, -6.4015, -6.4014, -6.4014, -6.4015, -6.4014, -6.4015, -6.4015, -6.4015, -6.4014, -6.4014, -6.4014, -6.4015, -6.4014, -6.4014, -6.4014, -6.4014, -6.4014, -6.4014, -6.4014, -6.4014, -6.4014, -6.4014, -6.4015, -6.4015, -6.4015, -1.2778, -1.3308, -1.435, -1.9613, -6.376, -6.376, -6.376, -6.376, -6.376, -6.376, -6.376, -6.376, -6.376, -6.376, -6.376, -6.376, -6.376, -6.376, -6.376, -6.376, -6.376, -6.376, -6.3757, -6.376, -6.376, -6.376, -6.376, -6.3743, -6.3758, -6.376, -6.3758, -6.376, -6.376, -6.376, -6.376, -6.376, -6.376, -6.376, -1.2577, -1.3996, -1.5925, -1.7702, -6.1794, -6.1796, -6.1796, -6.1796, -6.1796, -6.1796, -6.1796, -6.1796, -6.1796, -6.1796, -6.1796, -6.1793, -6.1796, -6.1796, -6.1796, -6.1796, -6.1796, -6.1796, -6.1796, -6.1796, -6.1796, -6.1796, -6.1796, -6.1796, -6.1796, -6.1796, -6.1796, -6.1796, -6.1796, -6.1796, -6.1796, -6.1796, -6.1796, -6.1796, -6.1796, -6.1796, -6.1796, -1.4006, -1.4772, -1.5665, -1.5928, -6.0078, -6.0078, -6.0078, -6.0078, -6.0075, -6.0078, -6.0078, -6.0078, -6.0078, -6.0078, -6.0078, -6.0078, -6.0078, -6.0078, -6.0078, -6.0078, -6.0078, -6.0078, -6.0078, -6.0078, -6.0078, -6.0078, -6.0078, -6.0078, -6.0078, -6.0078, -6.0075, -6.0078, -6.0078, -6.0078, -6.0078, -6.0078, -6.0078, -6.0078, -6.0078, -6.0078, -6.0078], \"loglift\": [30.0, 29.0, 28.0, 27.0, 26.0, 25.0, 24.0, 23.0, 22.0, 21.0, 20.0, 19.0, 18.0, 17.0, 16.0, 15.0, 14.0, 13.0, 12.0, 11.0, 10.0, 9.0, 8.0, 7.0, 6.0, 5.0, 4.0, 3.0, 2.0, 1.0, 2.1325, 2.1136, 2.0973, 2.056, 2.039, -2.1982, -2.238, -2.3372, -2.4014, -2.433, -2.4379, -2.4394, -2.443, -2.4668, -2.5376, -2.5528, -2.5917, -2.5969, -2.5988, -2.6578, -2.6607, -2.6767, -2.6785, -2.6945, -2.7071, -2.7124, -2.7223, -2.7265, -2.7317, -2.756, -2.8376, -2.8409, -2.9219, -2.866, -3.0186, -3.6966, -2.7585, -3.0214, -3.0237, 2.1259, 2.1075, 2.0973, 2.0523, 2.0516, 2.0181, -2.2452, -2.3444, -2.3467, -2.4086, -2.4403, -2.4466, -2.4741, -2.4811, -2.5449, -2.5601, -2.5995, -2.6042, -2.606, -2.6651, -2.6679, -2.6839, -2.6858, -2.7017, -2.7144, -2.7197, -2.7295, -2.7337, -2.7389, -2.7632, -3.022, -3.6211, -2.7901, -3.4758, -3.3992, -3.1628, -3.1888, -3.1293, -2.9288, -2.9015, 2.1945, 2.1495, 2.1482, 2.1435, 2.1067, 2.0925, -2.0745, -2.2158, -2.2777, -2.3094, -2.3142, -2.3157, -2.3194, -2.3431, -2.3502, -2.414, -2.4291, -2.4685, -2.4733, -2.4751, -2.5342, -2.553, -2.5548, -2.5708, -2.5835, -2.5986, -2.608, -2.6323, -2.6348, -2.6592, -3.0319, -3.0486, -2.9984, -2.8949, -3.2683, -3.4902, -2.9, -2.7979, -3.3164, -2.7423, -3.0579, 2.2106, 2.1602, 2.1456, 2.1409, 2.1313, -2.0247, -2.0646, -2.1638, -2.166, -2.2277, -2.2596, -2.2645, -2.266, -2.2696, -2.3005, -2.3642, -2.4188, -2.4235, -2.4844, -2.4873, -2.5032, -2.5051, -2.521, -2.5337, -2.539, -2.5489, -2.553, -2.5583, -2.5851, -2.6094, -2.7641, -2.6925, -3.2186, -2.848, -2.9028, -3.0903, -2.9822, -3.2952, -2.7208, -2.7481, 2.197, 2.1957, 2.1945, 2.1911, 2.1678, 2.1671, 2.1632, -1.9807, -2.0206, -2.1197, -2.122, -2.2205, -2.2256, -2.2494, -2.2564, -2.3202, -2.3354, -2.3748, -2.3795, -2.3813, -2.4432, -2.4592, -2.4611, -2.495, -2.509, -2.5142, -2.5385, -2.5411, -2.5654, -2.6202, -2.9046, -2.6485, -3.2226, -3.0462, -3.1745, -2.7041, -2.7045, -2.9548, -3.4792, -2.9382, -2.6768, 2.2834, 2.2612, 2.2437, 2.2359, 2.2354, -1.8535, -1.8934, -1.9925, -1.9948, -2.0567, -2.0884, -2.0933, -2.0947, -2.0984, -2.1222, -2.1292, -2.193, -2.2082, -2.2541, -2.3132, -2.316, -2.332, -2.3498, -2.3625, -2.3678, -2.3776, -2.3818, -2.387, -2.4113, -2.4132, -2.4382, -2.5773, -2.8276, -2.6791, -2.674, -3.2692, -2.6768, -3.124, -2.7774, -2.4962, 2.3065, 2.287, 2.2744, 2.2657, -1.8184, -1.8582, -1.9574, -1.9597, -2.0216, -2.0533, -2.0581, -2.0596, -2.0633, -2.087, -2.0941, -2.1579, -2.173, -2.2124, -2.2172, -2.219, -2.2781, -2.2809, -2.2969, -2.2987, -2.3147, -2.3273, -2.3326, -2.3425, -2.3467, -2.3762, -2.4031, -2.5144, -2.3787, -3.0888, -2.7925, -3.2341, -3.3168, -2.5578, -2.5421, -2.4611, -2.5418, -2.8839, 2.3312, 2.3284, 2.3225, 2.2823, -1.7929, -1.8328, -1.932, -1.9342, -1.9962, -2.0278, -2.0327, -2.0342, -2.0378, -2.0616, -2.0686, -2.1476, -2.187, -2.1917, -2.1935, -2.2526, -2.2555, -2.2714, -2.273, -2.2892, -2.3019, -2.3072, -2.317, -2.3195, -2.3262, -2.3507, -2.3774, -3.0348, -3.0634, -2.671, -2.5167, -2.8585, -2.4607, -2.7764, 2.3679, 2.3602, 2.3479, 2.3344, -1.5963, -1.6364, -1.7356, -1.7378, -1.7998, -1.8314, -1.8363, -1.8378, -1.8414, -1.8652, -1.8723, -1.9357, -1.9512, -1.9906, -1.9953, -1.9972, -2.0562, -2.0591, -2.0769, -2.0929, -2.1055, -2.1108, -2.1207, -2.1249, -2.1301, -2.1544, -2.5204, -2.2926, -2.5706, -2.7904, -2.6621, -2.3203, -2.4221, -2.2644, -3.095, -2.32, -3.0123, 2.4431, 2.4381, 2.4319, 2.4299, -1.4247, -1.4645, -1.5637, -1.566, -1.6277, -1.6596, -1.6645, -1.6659, -1.6696, -1.6934, -1.7004, -1.7642, -1.7793, -1.8188, -1.8235, -1.8253, -1.8844, -1.8872, -1.9032, -1.9051, -1.921, -1.9337, -1.939, -1.9488, -1.953, -1.9582, -2.3025, -2.1484, -2.6951, -2.1481, -2.248, -1.9825, -2.4902, -2.0641, -2.9232, -2.0674, -2.8404]}, \"token.table\": {\"Topic\": [2, 6, 1, 8, 8, 3, 8, 6, 2, 9, 10, 6, 3, 2, 4, 5, 9, 3, 3, 6, 2, 2, 10, 5, 7, 7, 9, 4, 9, 1, 1, 5, 5, 5, 5, 4, 10, 4, 5, 6, 7, 10, 7, 4, 8, 3, 1, 3, 2, 1], \"Freq\": [0.9822889099134969, 0.9015507986337453, 0.9827886681254354, 0.9220844925124076, 0.9643215642210888, 0.8455595173958282, 0.9226256688647809, 0.8694967241835218, 0.8873949614516585, 0.9325016093452742, 0.9024867274236587, 0.9688308419226392, 0.9548358590638947, 0.891949084209098, 0.9087281212729619, 0.8761240485561637, 0.9032324808159478, 0.9337142570184255, 0.9177819437917196, 0.948561558236636, 0.8097278853515195, 0.9423839210884654, 0.9135647476838563, 0.8873005879697986, 0.9398384199931582, 0.926807292233732, 0.9241932485501515, 0.9771318334762061, 0.9367477916318606, 0.8604515508587487, 0.9691441236140337, 0.9203829885605898, 0.8963123433389754, 0.9588440652277804, 0.8906364533824551, 0.8679216647386527, 0.9277668533951183, 0.9270786683181125, 0.9251497526948947, 0.8736086074516621, 0.9815783276255937, 0.9247076804058345, 0.9498642796431755, 0.8665351432272871, 0.978238315920916, 0.9546422074327945, 0.8436445441256701, 0.8714982898686988, 0.9422264693496493, 0.9427179699771719], \"Term\": [\"000\", \"air\", \"amish\", \"area\", \"bannatyne\", \"britain\", \"british\", \"cleverley\", \"day\", \"deal\", \"dencia\", \"family\", \"follower\", \"going\", \"government\", \"instagram\", \"iraq\", \"islamic\", \"jihadist\", \"johnson\", \"letter\", \"liverpool\", \"loan\", \"manager\", \"martinez\", \"message\", \"muslim\", \"new\", \"old\", \"pennsylvania\", \"people\", \"photo\", \"player\", \"population\", \"rojas\", \"russian\", \"season\", \"shilov\", \"skin\", \"star\", \"state\", \"syrian\", \"talk\", \"threat\", \"time\", \"tomasz\", \"united\", \"video\", \"year\", \"york\"]}, \"R\": 30, \"lambda.step\": 0.01, \"plot.opts\": {\"xlab\": \"PC1\", \"ylab\": \"PC2\"}, \"topic.order\": [6, 1, 8, 5, 10, 2, 3, 7, 4, 9]};\n",
              "\n",
              "function LDAvis_load_lib(url, callback){\n",
              "  var s = document.createElement('script');\n",
              "  s.src = url;\n",
              "  s.async = true;\n",
              "  s.onreadystatechange = s.onload = callback;\n",
              "  s.onerror = function(){console.warn(\"failed to load library \" + url);};\n",
              "  document.getElementsByTagName(\"head\")[0].appendChild(s);\n",
              "}\n",
              "\n",
              "if(typeof(LDAvis) !== \"undefined\"){\n",
              "   // already loaded: just create the visualization\n",
              "   !function(LDAvis){\n",
              "       new LDAvis(\"#\" + \"ldavis_el591401017081408803804121124\", ldavis_el591401017081408803804121124_data);\n",
              "   }(LDAvis);\n",
              "}else if(typeof define === \"function\" && define.amd){\n",
              "   // require.js is available: use it to load d3/LDAvis\n",
              "   require.config({paths: {d3: \"https://d3js.org/d3.v5\"}});\n",
              "   require([\"d3\"], function(d3){\n",
              "      window.d3 = d3;\n",
              "      LDAvis_load_lib(\"https://cdn.jsdelivr.net/gh/bmabey/pyLDAvis@3.2.2/pyLDAvis/js/ldavis.v3.0.0.js\", function(){\n",
              "        new LDAvis(\"#\" + \"ldavis_el591401017081408803804121124\", ldavis_el591401017081408803804121124_data);\n",
              "      });\n",
              "    });\n",
              "}else{\n",
              "    // require.js not available: dynamically load d3 & LDAvis\n",
              "    LDAvis_load_lib(\"https://d3js.org/d3.v5.js\", function(){\n",
              "         LDAvis_load_lib(\"https://cdn.jsdelivr.net/gh/bmabey/pyLDAvis@3.2.2/pyLDAvis/js/ldavis.v3.0.0.js\", function(){\n",
              "                 new LDAvis(\"#\" + \"ldavis_el591401017081408803804121124\", ldavis_el591401017081408803804121124_data);\n",
              "            })\n",
              "         });\n",
              "}\n",
              "</script>"
            ],
            "text/plain": [
              "PreparedData(topic_coordinates=               x          y  topics  cluster       Freq\n",
              "topic                                                  \n",
              "5      32.420952   8.115230       1        1  11.456954\n",
              "0       0.648955  71.707100       2        1  11.456954\n",
              "7      71.019684   9.971006       3        1  10.711921\n",
              "4       3.785981  33.185135       4        1  10.629139\n",
              "9     -42.666500  -9.222070       5        1  10.215232\n",
              "1      -3.621689 -43.526516       6        1   9.718543\n",
              "2      -3.632402  -4.171708       7        1   9.552980\n",
              "6     -36.584400  35.804413       8        1   9.221854\n",
              "3      44.391380  50.615383       9        1   8.890728\n",
              "8      40.235809 -31.591665      10        1   8.145695, topic_info=        Term       Freq      Total Category  logprob  loglift\n",
              "27       new  27.000000  27.000000  Default  30.0000  30.0000\n",
              "2      amish  25.000000  25.000000  Default  29.0000  29.0000\n",
              "45    tomasz  21.000000  21.000000  Default  28.0000  28.0000\n",
              "40     state  20.000000  20.000000  Default  27.0000  27.0000\n",
              "0        000  21.000000  21.000000  Default  26.0000  26.0000\n",
              "..       ...        ...        ...      ...      ...      ...\n",
              "19   johnson   0.121011  17.921873  Topic10  -6.0078  -2.4902\n",
              "24  martinez   0.121011  11.704140  Topic10  -6.0078  -2.0641\n",
              "27       new   0.121011  27.631891  Topic10  -6.0078  -2.9232\n",
              "28       old   0.121011  11.742755  Topic10  -6.0078  -2.0674\n",
              "2      amish   0.121011  25.437819  Topic10  -6.0078  -2.8404\n",
              "\n",
              "[433 rows x 6 columns], token_table=      Topic      Freq          Term\n",
              "term                               \n",
              "0         2  0.982289           000\n",
              "1         6  0.901551           air\n",
              "2         1  0.982789         amish\n",
              "3         8  0.922084          area\n",
              "4         8  0.964322     bannatyne\n",
              "5         3  0.845560       britain\n",
              "6         8  0.922626       british\n",
              "7         6  0.869497     cleverley\n",
              "8         2  0.887395           day\n",
              "9         9  0.932502          deal\n",
              "10       10  0.902487        dencia\n",
              "11        6  0.968831        family\n",
              "12        3  0.954836      follower\n",
              "13        2  0.891949         going\n",
              "14        4  0.908728    government\n",
              "15        5  0.876124     instagram\n",
              "16        9  0.903232          iraq\n",
              "17        3  0.933714       islamic\n",
              "18        3  0.917782      jihadist\n",
              "19        6  0.948562       johnson\n",
              "20        2  0.809728        letter\n",
              "21        2  0.942384     liverpool\n",
              "22       10  0.913565          loan\n",
              "23        5  0.887301       manager\n",
              "24        7  0.939838      martinez\n",
              "25        7  0.926807       message\n",
              "26        9  0.924193        muslim\n",
              "27        4  0.977132           new\n",
              "28        9  0.936748           old\n",
              "29        1  0.860452  pennsylvania\n",
              "30        1  0.969144        people\n",
              "31        5  0.920383         photo\n",
              "32        5  0.896312        player\n",
              "33        5  0.958844    population\n",
              "34        5  0.890636         rojas\n",
              "35        4  0.867922       russian\n",
              "36       10  0.927767        season\n",
              "37        4  0.927079        shilov\n",
              "38        5  0.925150          skin\n",
              "39        6  0.873609          star\n",
              "40        7  0.981578         state\n",
              "41       10  0.924708        syrian\n",
              "42        7  0.949864          talk\n",
              "43        4  0.866535        threat\n",
              "44        8  0.978238          time\n",
              "45        3  0.954642        tomasz\n",
              "46        1  0.843645        united\n",
              "47        3  0.871498         video\n",
              "48        2  0.942226          year\n",
              "49        1  0.942718          york, R=30, lambda_step=0.01, plot_opts={'xlab': 'PC1', 'ylab': 'PC2'}, topic_order=[6, 1, 8, 5, 10, 2, 3, 7, 4, 9])"
            ]
          },
          "metadata": {
            "tags": []
          },
          "execution_count": 19
        }
      ]
    },
    {
      "cell_type": "code",
      "metadata": {
        "colab": {
          "base_uri": "https://localhost:8080/"
        },
        "id": "LWYZS4e-vHjl",
        "outputId": "9e3e5d94-350d-47c4-f1f3-d1307dd5551f"
      },
      "source": [
        "from nltk import pos_tag,ne_chunk\r\n",
        "import nltk\r\n",
        "nltk.download('averaged_perceptron_tagger')\r\n",
        "nltk.download('maxent_ne_chunker')\r\n",
        "nltk.download('words')\r\n",
        "article_tags = ne_chunk(pos_tag(word_tokenize(articles)))"
      ],
      "execution_count": 20,
      "outputs": [
        {
          "output_type": "stream",
          "text": [
            "[nltk_data] Downloading package averaged_perceptron_tagger to\n",
            "[nltk_data]     /root/nltk_data...\n",
            "[nltk_data]   Unzipping taggers/averaged_perceptron_tagger.zip.\n",
            "[nltk_data] Downloading package maxent_ne_chunker to\n",
            "[nltk_data]     /root/nltk_data...\n",
            "[nltk_data]   Unzipping chunkers/maxent_ne_chunker.zip.\n",
            "[nltk_data] Downloading package words to /root/nltk_data...\n",
            "[nltk_data]   Unzipping corpora/words.zip.\n"
          ],
          "name": "stdout"
        }
      ]
    },
    {
      "cell_type": "code",
      "metadata": {
        "id": "NqhEd2fAwP5T"
      },
      "source": [
        "article_entities = []\r\n",
        "for i in article_tags:\r\n",
        "  if len(i) < 2:\r\n",
        "    if 'NNP' in str(i) or 'NNPS' in str(i):\r\n",
        "        article_entities.append(str(i))"
      ],
      "execution_count": 21,
      "outputs": []
    },
    {
      "cell_type": "code",
      "metadata": {
        "id": "pHuvUc7XwP7M"
      },
      "source": [
        "from nltk.probability import FreqDist\r\n",
        "article_freq_entities = FreqDist(article_entities)\r\n",
        "article_freq_entities\r\n",
        "article_keys = sorted(article_freq_entities.items(), key = lambda kv:(kv[1], kv[0]), reverse=True)\r\n",
        "article_ent = []\r\n",
        "article_freq_count = []\r\n",
        "for i in article_keys:\r\n",
        "  article_ent.append(i[0])\r\n",
        "  article_freq_count.append(i[1])"
      ],
      "execution_count": 22,
      "outputs": []
    },
    {
      "cell_type": "code",
      "metadata": {
        "id": "CSr3qtgewP-h"
      },
      "source": [
        "import pandas as pd\r\n",
        "article_words = []\r\n",
        "article_entities = []\r\n",
        "for i in article_ent:\r\n",
        "  i = i.replace(\"/NNP)\",\"\")\r\n",
        "  i = i.replace(\"(\",\"\")\r\n",
        "  i = i.replace(\"/NNPS)\",\"\")\r\n",
        "  article_words.append(i.split()[1])\r\n",
        "  article_entities.append(i.split()[0])\r\n",
        "\r\n",
        "article_entities_df = pd.DataFrame({'Keyword':article_words,'Entity':article_entities,'Frequency':article_freq_count})\r\n",
        "article_entities_df\r\n",
        "article_count = 0\r\n",
        "article_total_count = article_entities_df['Frequency'].sum()\r\n",
        "article_cumulative_frequency = []\r\n",
        "article_cumulative_frequency_coverage = []\r\n",
        "for i in range(article_entities_df.shape[0]):\r\n",
        "  article_count = article_count+article_entities_df['Frequency'][i]\r\n",
        "  article_cumulative_frequency.append(article_count)\r\n",
        "  article_cumulative_frequency_coverage.append((article_count/article_total_count)*100)\r\n",
        "article_entities_df['Cumulative Frequency'] = article_cumulative_frequency\r\n",
        "article_entities_df['Cumulative Frequency Coverage'] = article_cumulative_frequency_coverage"
      ],
      "execution_count": 23,
      "outputs": []
    },
    {
      "cell_type": "code",
      "metadata": {
        "colab": {
          "base_uri": "https://localhost:8080/",
          "height": 537
        },
        "id": "1OKzx25ywQA3",
        "outputId": "ff67bfb0-e0a5-47e7-f4a5-13d2bfa53139"
      },
      "source": [
        "import matplotlib.pyplot as plt\r\n",
        "\r\n",
        "a = list(article_entities_df['Entity'].unique())\r\n",
        "b = []\r\n",
        "for i in a:\r\n",
        "  b.append(article_entities_df[article_entities_df['Entity'] == i]['Frequency'].sum())\r\n",
        "article_pie_chart_entities_df = pd.DataFrame({'Entity':a,'Frequency':b})\r\n",
        "explode = (0,0,0,0.5)\r\n",
        "print(\"Distribution of types of Entities\")\r\n",
        "plt.pie(b, labels=a,autopct='%1.1f%%', startangle=90)\r\n",
        "_=fig=plt.gcf()\r\n",
        "_=fig.set_size_inches(30,9)\r\n",
        "#_=fig=plt.title('Distribution of types of Entities')\r\n",
        "plt.show()"
      ],
      "execution_count": 24,
      "outputs": [
        {
          "output_type": "stream",
          "text": [
            "Distribution of types of Entities\n"
          ],
          "name": "stdout"
        },
        {
          "output_type": "display_data",
          "data": {
            "image/png": "[encoded data removed]",
            "text/plain": [
              "<Figure size 2160x648 with 1 Axes>"
            ]
          },
          "metadata": {
            "tags": []
          }
        }
      ]
    },
    {
      "cell_type": "code",
      "metadata": {
        "id": "q1P3usb7zvft"
      },
      "source": [
        ""
      ],
      "execution_count": 24,
      "outputs": []
    }
  ]
}